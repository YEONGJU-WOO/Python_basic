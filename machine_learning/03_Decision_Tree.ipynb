{
 "cells": [
  {
   "cell_type": "markdown",
   "metadata": {},
   "source": [
    "## Decision Tree(의사결정 나무)"
   ]
  },
  {
   "cell_type": "code",
   "execution_count": 1,
   "metadata": {},
   "outputs": [],
   "source": [
    "import numpy as np\n",
    "import pandas as pd\n",
    "import matplotlib.pyplot as plt\n",
    "%matplotlib inline"
   ]
  },
  {
   "cell_type": "markdown",
   "metadata": {},
   "source": [
    "(1) 문제 정의\n",
    "- 버섯 데이터를 이용하여 Dicision Tree로 학습하고 추론(독버섯인지 아닌지"
   ]
  },
  {
   "cell_type": "markdown",
   "metadata": {},
   "source": [
    "(2) 데이터 수집"
   ]
  },
  {
   "cell_type": "code",
   "execution_count": 2,
   "metadata": {},
   "outputs": [
    {
     "data": {
      "text/html": [
       "<div>\n",
       "<style scoped>\n",
       "    .dataframe tbody tr th:only-of-type {\n",
       "        vertical-align: middle;\n",
       "    }\n",
       "\n",
       "    .dataframe tbody tr th {\n",
       "        vertical-align: top;\n",
       "    }\n",
       "\n",
       "    .dataframe thead th {\n",
       "        text-align: right;\n",
       "    }\n",
       "</style>\n",
       "<table border=\"1\" class=\"dataframe\">\n",
       "  <thead>\n",
       "    <tr style=\"text-align: right;\">\n",
       "      <th></th>\n",
       "      <th>poisonous</th>\n",
       "      <th>cap-shape</th>\n",
       "      <th>cap-surface</th>\n",
       "      <th>cap-color</th>\n",
       "      <th>bruises</th>\n",
       "      <th>odor</th>\n",
       "      <th>gill-attachment</th>\n",
       "      <th>gill-spacing</th>\n",
       "      <th>gill-size</th>\n",
       "      <th>gill-color</th>\n",
       "      <th>...</th>\n",
       "      <th>stalk-surface-below-ring</th>\n",
       "      <th>stalk-color-above-ring</th>\n",
       "      <th>stalk-color-below-ring</th>\n",
       "      <th>veil-type</th>\n",
       "      <th>veil-color</th>\n",
       "      <th>ring-number</th>\n",
       "      <th>ring-type</th>\n",
       "      <th>spore-print-color</th>\n",
       "      <th>population</th>\n",
       "      <th>habitat</th>\n",
       "    </tr>\n",
       "  </thead>\n",
       "  <tbody>\n",
       "    <tr>\n",
       "      <th>0</th>\n",
       "      <td>p</td>\n",
       "      <td>x</td>\n",
       "      <td>s</td>\n",
       "      <td>n</td>\n",
       "      <td>t</td>\n",
       "      <td>p</td>\n",
       "      <td>f</td>\n",
       "      <td>c</td>\n",
       "      <td>n</td>\n",
       "      <td>k</td>\n",
       "      <td>...</td>\n",
       "      <td>s</td>\n",
       "      <td>w</td>\n",
       "      <td>w</td>\n",
       "      <td>p</td>\n",
       "      <td>w</td>\n",
       "      <td>o</td>\n",
       "      <td>p</td>\n",
       "      <td>k</td>\n",
       "      <td>s</td>\n",
       "      <td>u</td>\n",
       "    </tr>\n",
       "    <tr>\n",
       "      <th>1</th>\n",
       "      <td>e</td>\n",
       "      <td>x</td>\n",
       "      <td>s</td>\n",
       "      <td>y</td>\n",
       "      <td>t</td>\n",
       "      <td>a</td>\n",
       "      <td>f</td>\n",
       "      <td>c</td>\n",
       "      <td>b</td>\n",
       "      <td>k</td>\n",
       "      <td>...</td>\n",
       "      <td>s</td>\n",
       "      <td>w</td>\n",
       "      <td>w</td>\n",
       "      <td>p</td>\n",
       "      <td>w</td>\n",
       "      <td>o</td>\n",
       "      <td>p</td>\n",
       "      <td>n</td>\n",
       "      <td>n</td>\n",
       "      <td>g</td>\n",
       "    </tr>\n",
       "    <tr>\n",
       "      <th>2</th>\n",
       "      <td>e</td>\n",
       "      <td>b</td>\n",
       "      <td>s</td>\n",
       "      <td>w</td>\n",
       "      <td>t</td>\n",
       "      <td>l</td>\n",
       "      <td>f</td>\n",
       "      <td>c</td>\n",
       "      <td>b</td>\n",
       "      <td>n</td>\n",
       "      <td>...</td>\n",
       "      <td>s</td>\n",
       "      <td>w</td>\n",
       "      <td>w</td>\n",
       "      <td>p</td>\n",
       "      <td>w</td>\n",
       "      <td>o</td>\n",
       "      <td>p</td>\n",
       "      <td>n</td>\n",
       "      <td>n</td>\n",
       "      <td>m</td>\n",
       "    </tr>\n",
       "    <tr>\n",
       "      <th>3</th>\n",
       "      <td>p</td>\n",
       "      <td>x</td>\n",
       "      <td>y</td>\n",
       "      <td>w</td>\n",
       "      <td>t</td>\n",
       "      <td>p</td>\n",
       "      <td>f</td>\n",
       "      <td>c</td>\n",
       "      <td>n</td>\n",
       "      <td>n</td>\n",
       "      <td>...</td>\n",
       "      <td>s</td>\n",
       "      <td>w</td>\n",
       "      <td>w</td>\n",
       "      <td>p</td>\n",
       "      <td>w</td>\n",
       "      <td>o</td>\n",
       "      <td>p</td>\n",
       "      <td>k</td>\n",
       "      <td>s</td>\n",
       "      <td>u</td>\n",
       "    </tr>\n",
       "    <tr>\n",
       "      <th>4</th>\n",
       "      <td>e</td>\n",
       "      <td>x</td>\n",
       "      <td>s</td>\n",
       "      <td>g</td>\n",
       "      <td>f</td>\n",
       "      <td>n</td>\n",
       "      <td>f</td>\n",
       "      <td>w</td>\n",
       "      <td>b</td>\n",
       "      <td>k</td>\n",
       "      <td>...</td>\n",
       "      <td>s</td>\n",
       "      <td>w</td>\n",
       "      <td>w</td>\n",
       "      <td>p</td>\n",
       "      <td>w</td>\n",
       "      <td>o</td>\n",
       "      <td>e</td>\n",
       "      <td>n</td>\n",
       "      <td>a</td>\n",
       "      <td>g</td>\n",
       "    </tr>\n",
       "  </tbody>\n",
       "</table>\n",
       "<p>5 rows × 23 columns</p>\n",
       "</div>"
      ],
      "text/plain": [
       "  poisonous cap-shape cap-surface cap-color bruises odor gill-attachment  \\\n",
       "0         p         x           s         n       t    p               f   \n",
       "1         e         x           s         y       t    a               f   \n",
       "2         e         b           s         w       t    l               f   \n",
       "3         p         x           y         w       t    p               f   \n",
       "4         e         x           s         g       f    n               f   \n",
       "\n",
       "  gill-spacing gill-size gill-color  ... stalk-surface-below-ring  \\\n",
       "0            c         n          k  ...                        s   \n",
       "1            c         b          k  ...                        s   \n",
       "2            c         b          n  ...                        s   \n",
       "3            c         n          n  ...                        s   \n",
       "4            w         b          k  ...                        s   \n",
       "\n",
       "  stalk-color-above-ring stalk-color-below-ring veil-type veil-color  \\\n",
       "0                      w                      w         p          w   \n",
       "1                      w                      w         p          w   \n",
       "2                      w                      w         p          w   \n",
       "3                      w                      w         p          w   \n",
       "4                      w                      w         p          w   \n",
       "\n",
       "  ring-number ring-type spore-print-color population habitat  \n",
       "0           o         p                 k          s       u  \n",
       "1           o         p                 n          n       g  \n",
       "2           o         p                 n          n       m  \n",
       "3           o         p                 k          s       u  \n",
       "4           o         e                 n          a       g  \n",
       "\n",
       "[5 rows x 23 columns]"
      ]
     },
     "execution_count": 2,
     "metadata": {},
     "output_type": "execute_result"
    }
   ],
   "source": [
    "mushroom = pd.read_csv('mushroom.csv')\n",
    "\n",
    "mushroom.head(5)"
   ]
  },
  {
   "cell_type": "code",
   "execution_count": 3,
   "metadata": {},
   "outputs": [
    {
     "name": "stdout",
     "output_type": "stream",
     "text": [
      "<class 'pandas.core.frame.DataFrame'>\n",
      "RangeIndex: 8124 entries, 0 to 8123\n",
      "Data columns (total 23 columns):\n",
      " #   Column                    Non-Null Count  Dtype \n",
      "---  ------                    --------------  ----- \n",
      " 0   poisonous                 8124 non-null   object\n",
      " 1   cap-shape                 8124 non-null   object\n",
      " 2   cap-surface               8124 non-null   object\n",
      " 3   cap-color                 8124 non-null   object\n",
      " 4   bruises                   8124 non-null   object\n",
      " 5   odor                      8124 non-null   object\n",
      " 6   gill-attachment           8124 non-null   object\n",
      " 7   gill-spacing              8124 non-null   object\n",
      " 8   gill-size                 8124 non-null   object\n",
      " 9   gill-color                8124 non-null   object\n",
      " 10  stalk-shape               8124 non-null   object\n",
      " 11  stalk-root                8124 non-null   object\n",
      " 12  stalk-surface-above-ring  8124 non-null   object\n",
      " 13  stalk-surface-below-ring  8124 non-null   object\n",
      " 14  stalk-color-above-ring    8124 non-null   object\n",
      " 15  stalk-color-below-ring    8124 non-null   object\n",
      " 16  veil-type                 8124 non-null   object\n",
      " 17  veil-color                8124 non-null   object\n",
      " 18  ring-number               8124 non-null   object\n",
      " 19  ring-type                 8124 non-null   object\n",
      " 20  spore-print-color         8124 non-null   object\n",
      " 21  population                8124 non-null   object\n",
      " 22  habitat                   8124 non-null   object\n",
      "dtypes: object(23)\n",
      "memory usage: 1.4+ MB\n"
     ]
    }
   ],
   "source": [
    "mushroom.info()"
   ]
  },
  {
   "cell_type": "code",
   "execution_count": 4,
   "metadata": {},
   "outputs": [],
   "source": [
    "#특성데이터와 라벨데이터\n",
    "X = mushroom.iloc[:,1:]\n",
    "y = mushroom.iloc[:,0]"
   ]
  },
  {
   "cell_type": "code",
   "execution_count": 5,
   "metadata": {},
   "outputs": [
    {
     "data": {
      "text/plain": [
       "e    4208\n",
       "p    3916\n",
       "Name: poisonous, dtype: int64"
      ]
     },
     "execution_count": 5,
     "metadata": {},
     "output_type": "execute_result"
    }
   ],
   "source": [
    "# y의 클래스들의 갯수를 출력\n",
    "y.value_counts()"
   ]
  },
  {
   "cell_type": "code",
   "execution_count": 6,
   "metadata": {},
   "outputs": [
    {
     "data": {
      "text/plain": [
       "array(['x', 'b', 's', 'f', 'k', 'c'], dtype=object)"
      ]
     },
     "execution_count": 6,
     "metadata": {},
     "output_type": "execute_result"
    }
   ],
   "source": [
    "# cap-shape 클래스의 종류\n",
    "X['cap-shape'].unique()"
   ]
  },
  {
   "cell_type": "code",
   "execution_count": 7,
   "metadata": {},
   "outputs": [
    {
     "data": {
      "text/plain": [
       "x    3656\n",
       "f    3152\n",
       "k     828\n",
       "b     452\n",
       "s      32\n",
       "c       4\n",
       "Name: cap-shape, dtype: int64"
      ]
     },
     "execution_count": 7,
     "metadata": {},
     "output_type": "execute_result"
    }
   ],
   "source": [
    "X['cap-shape'].value_counts()\n",
    "\n",
    "# 값이 작은 데이터를 통합(범주형 데이터 통합)"
   ]
  },
  {
   "cell_type": "markdown",
   "metadata": {},
   "source": [
    "encoding: 범주형 데이터를 수치형 데이터 변환"
   ]
  },
  {
   "cell_type": "markdown",
   "metadata": {},
   "source": [
    "데이터 표현\n",
    "- 연속데이터 : 연속된 숫자로 구성된 데이터\n",
    "- 범주형데이터 : 이산적인 숫자나 문자로 구성된 데이터\n",
    "    - 숫자로 되어진 범주형 데이터는 신경을 써서 처리\n",
    "- 특성을 연속데이터로 표현할지 범주형 데이터로 표현하지를 결정하는 것이 중요\n",
    "- 특성공학(feature engineering) : 학습에 최적화된 특성으로 변경하는 작업\n",
    "\n",
    "- 기계를 숫자를 이용해서 연산 -> 범주형 데이터를 숫자로 변화해서 처리 좋음 -> 라벨(label)인코딩\n",
    "- 범주형 수자는 가능하면 0과 1로 구성된 숫자로 변환해서 사용하는 것이 좋음 -> one hot 인코딩"
   ]
  },
  {
   "cell_type": "markdown",
   "metadata": {},
   "source": [
    "## 라벨 인코딩"
   ]
  },
  {
   "cell_type": "code",
   "execution_count": 8,
   "metadata": {},
   "outputs": [],
   "source": [
    "temp1 = X.copy()   #temp1을 변경해도 X는 변경되지 않음 (복사본)\n",
    "temp2 = X   #temp2를 변경하면 X도 변경"
   ]
  },
  {
   "cell_type": "code",
   "execution_count": 9,
   "metadata": {},
   "outputs": [
    {
     "data": {
      "text/plain": [
       "array(['x', 'b', 's', 'f', 'k', 'c'], dtype=object)"
      ]
     },
     "execution_count": 9,
     "metadata": {},
     "output_type": "execute_result"
    }
   ],
   "source": [
    "temp1['cap-shape'].unique()"
   ]
  },
  {
   "cell_type": "code",
   "execution_count": 10,
   "metadata": {},
   "outputs": [
    {
     "data": {
      "text/plain": [
       "0    3656\n",
       "3    3152\n",
       "4     828\n",
       "1     452\n",
       "2      32\n",
       "5       4\n",
       "Name: cap-shape, dtype: int64"
      ]
     },
     "execution_count": 10,
     "metadata": {},
     "output_type": "execute_result"
    }
   ],
   "source": [
    "# x> 0, b->1,s->2,f->3,k->4,c->5\n",
    "\n",
    "temp1['cap-shape'] = temp1['cap-shape'].map({'x':0,'b':1,'s':2,'f':3,'k':4,'c':5})\n",
    "\n",
    "temp1['cap-shape'].value_counts()"
   ]
  },
  {
   "cell_type": "code",
   "execution_count": 11,
   "metadata": {
    "scrolled": true
   },
   "outputs": [
    {
     "data": {
      "text/plain": [
       "array(['k', 'n', 'g', 'p', 'w', 'h', 'u', 'e', 'b', 'r', 'y', 'o'],\n",
       "      dtype=object)"
      ]
     },
     "execution_count": 11,
     "metadata": {},
     "output_type": "execute_result"
    }
   ],
   "source": [
    "temp1['gill-color'].unique()"
   ]
  },
  {
   "cell_type": "code",
   "execution_count": 12,
   "metadata": {
    "scrolled": true
   },
   "outputs": [
    {
     "data": {
      "text/plain": [
       "8     1728\n",
       "3     1492\n",
       "4     1202\n",
       "1     1048\n",
       "2      752\n",
       "5      732\n",
       "6      492\n",
       "0      408\n",
       "7       96\n",
       "10      86\n",
       "11      64\n",
       "9       24\n",
       "Name: gill-color, dtype: int64"
      ]
     },
     "execution_count": 12,
     "metadata": {},
     "output_type": "execute_result"
    }
   ],
   "source": [
    "temp1['gill-color'] = temp1['gill-color'].map({'k':0,'n':1,'g':2,'p':3,'w':4,'h':5,'u':6, 'e':7, 'b':8, 'r':9, 'y':10, 'o':11})\n",
    "\n",
    "temp1['gill-color'].value_counts()"
   ]
  },
  {
   "cell_type": "code",
   "execution_count": 13,
   "metadata": {},
   "outputs": [
    {
     "data": {
      "text/plain": [
       "array(['p', 'a', 'l', 'n', 'f', 'c', 'y', 's', 'm'], dtype=object)"
      ]
     },
     "execution_count": 13,
     "metadata": {},
     "output_type": "execute_result"
    }
   ],
   "source": [
    "temp1['odor'].unique()"
   ]
  },
  {
   "cell_type": "code",
   "execution_count": 14,
   "metadata": {},
   "outputs": [],
   "source": [
    "temp1['odor'] = temp1['odor'].map({string : i for i,string in enumerate(temp1['odor'].unique())})"
   ]
  },
  {
   "cell_type": "code",
   "execution_count": 15,
   "metadata": {},
   "outputs": [
    {
     "data": {
      "text/plain": [
       "3    3528\n",
       "4    2160\n",
       "7     576\n",
       "6     576\n",
       "2     400\n",
       "1     400\n",
       "0     256\n",
       "5     192\n",
       "8      36\n",
       "Name: odor, dtype: int64"
      ]
     },
     "execution_count": 15,
     "metadata": {},
     "output_type": "execute_result"
    }
   ],
   "source": [
    "temp1['odor'].value_counts()"
   ]
  },
  {
   "cell_type": "markdown",
   "metadata": {},
   "source": [
    "one hot encoding: 범주형을 0과 1로 구성된 숫자로 변환\n",
    "\n",
    "- 기계는 0과 1로된 계산을 하기때문에 미리 0과 1로 만들어주면 계산 편해짐\n",
    "- 컬럼이 증가 -> 특성이 증가 -> 과소적합 없어짐\n",
    "\n",
    "- 특성이 10개일 때 10개 특성을 사용해서 학습시키는 것\n",
    "- 특성을 100개로 늘려서 중요한 10개의 특성만 뽑아서 학습시키는 것(0)"
   ]
  },
  {
   "cell_type": "code",
   "execution_count": 16,
   "metadata": {},
   "outputs": [
    {
     "data": {
      "text/plain": [
       "array(['n', 'b'], dtype=object)"
      ]
     },
     "execution_count": 16,
     "metadata": {},
     "output_type": "execute_result"
    }
   ],
   "source": [
    "temp = temp1['gill-size']\n",
    "temp.unique()"
   ]
  },
  {
   "cell_type": "code",
   "execution_count": 17,
   "metadata": {},
   "outputs": [
    {
     "data": {
      "text/html": [
       "<div>\n",
       "<style scoped>\n",
       "    .dataframe tbody tr th:only-of-type {\n",
       "        vertical-align: middle;\n",
       "    }\n",
       "\n",
       "    .dataframe tbody tr th {\n",
       "        vertical-align: top;\n",
       "    }\n",
       "\n",
       "    .dataframe thead th {\n",
       "        text-align: right;\n",
       "    }\n",
       "</style>\n",
       "<table border=\"1\" class=\"dataframe\">\n",
       "  <thead>\n",
       "    <tr style=\"text-align: right;\">\n",
       "      <th></th>\n",
       "      <th>b</th>\n",
       "      <th>n</th>\n",
       "    </tr>\n",
       "  </thead>\n",
       "  <tbody>\n",
       "    <tr>\n",
       "      <th>0</th>\n",
       "      <td>0</td>\n",
       "      <td>1</td>\n",
       "    </tr>\n",
       "    <tr>\n",
       "      <th>1</th>\n",
       "      <td>1</td>\n",
       "      <td>0</td>\n",
       "    </tr>\n",
       "    <tr>\n",
       "      <th>2</th>\n",
       "      <td>1</td>\n",
       "      <td>0</td>\n",
       "    </tr>\n",
       "    <tr>\n",
       "      <th>3</th>\n",
       "      <td>0</td>\n",
       "      <td>1</td>\n",
       "    </tr>\n",
       "    <tr>\n",
       "      <th>4</th>\n",
       "      <td>1</td>\n",
       "      <td>0</td>\n",
       "    </tr>\n",
       "  </tbody>\n",
       "</table>\n",
       "</div>"
      ],
      "text/plain": [
       "   b  n\n",
       "0  0  1\n",
       "1  1  0\n",
       "2  1  0\n",
       "3  0  1\n",
       "4  1  0"
      ]
     },
     "execution_count": 17,
     "metadata": {},
     "output_type": "execute_result"
    }
   ],
   "source": [
    "temp_one = pd.get_dummies(temp)\n",
    "temp_one.head()"
   ]
  },
  {
   "cell_type": "code",
   "execution_count": 18,
   "metadata": {},
   "outputs": [
    {
     "data": {
      "text/plain": [
       "array(['n', 'y', 'w', 'g', 'e', 'p', 'b', 'u', 'c', 'r'], dtype=object)"
      ]
     },
     "execution_count": 18,
     "metadata": {},
     "output_type": "execute_result"
    }
   ],
   "source": [
    "temp = temp1['cap-color']\n",
    "temp.unique()"
   ]
  },
  {
   "cell_type": "code",
   "execution_count": 19,
   "metadata": {},
   "outputs": [
    {
     "data": {
      "text/html": [
       "<div>\n",
       "<style scoped>\n",
       "    .dataframe tbody tr th:only-of-type {\n",
       "        vertical-align: middle;\n",
       "    }\n",
       "\n",
       "    .dataframe tbody tr th {\n",
       "        vertical-align: top;\n",
       "    }\n",
       "\n",
       "    .dataframe thead th {\n",
       "        text-align: right;\n",
       "    }\n",
       "</style>\n",
       "<table border=\"1\" class=\"dataframe\">\n",
       "  <thead>\n",
       "    <tr style=\"text-align: right;\">\n",
       "      <th></th>\n",
       "      <th>b</th>\n",
       "      <th>c</th>\n",
       "      <th>e</th>\n",
       "      <th>g</th>\n",
       "      <th>n</th>\n",
       "      <th>p</th>\n",
       "      <th>r</th>\n",
       "      <th>u</th>\n",
       "      <th>w</th>\n",
       "      <th>y</th>\n",
       "    </tr>\n",
       "  </thead>\n",
       "  <tbody>\n",
       "    <tr>\n",
       "      <th>0</th>\n",
       "      <td>0</td>\n",
       "      <td>0</td>\n",
       "      <td>0</td>\n",
       "      <td>0</td>\n",
       "      <td>1</td>\n",
       "      <td>0</td>\n",
       "      <td>0</td>\n",
       "      <td>0</td>\n",
       "      <td>0</td>\n",
       "      <td>0</td>\n",
       "    </tr>\n",
       "    <tr>\n",
       "      <th>1</th>\n",
       "      <td>0</td>\n",
       "      <td>0</td>\n",
       "      <td>0</td>\n",
       "      <td>0</td>\n",
       "      <td>0</td>\n",
       "      <td>0</td>\n",
       "      <td>0</td>\n",
       "      <td>0</td>\n",
       "      <td>0</td>\n",
       "      <td>1</td>\n",
       "    </tr>\n",
       "    <tr>\n",
       "      <th>2</th>\n",
       "      <td>0</td>\n",
       "      <td>0</td>\n",
       "      <td>0</td>\n",
       "      <td>0</td>\n",
       "      <td>0</td>\n",
       "      <td>0</td>\n",
       "      <td>0</td>\n",
       "      <td>0</td>\n",
       "      <td>1</td>\n",
       "      <td>0</td>\n",
       "    </tr>\n",
       "    <tr>\n",
       "      <th>3</th>\n",
       "      <td>0</td>\n",
       "      <td>0</td>\n",
       "      <td>0</td>\n",
       "      <td>0</td>\n",
       "      <td>0</td>\n",
       "      <td>0</td>\n",
       "      <td>0</td>\n",
       "      <td>0</td>\n",
       "      <td>1</td>\n",
       "      <td>0</td>\n",
       "    </tr>\n",
       "    <tr>\n",
       "      <th>4</th>\n",
       "      <td>0</td>\n",
       "      <td>0</td>\n",
       "      <td>0</td>\n",
       "      <td>1</td>\n",
       "      <td>0</td>\n",
       "      <td>0</td>\n",
       "      <td>0</td>\n",
       "      <td>0</td>\n",
       "      <td>0</td>\n",
       "      <td>0</td>\n",
       "    </tr>\n",
       "  </tbody>\n",
       "</table>\n",
       "</div>"
      ],
      "text/plain": [
       "   b  c  e  g  n  p  r  u  w  y\n",
       "0  0  0  0  0  1  0  0  0  0  0\n",
       "1  0  0  0  0  0  0  0  0  0  1\n",
       "2  0  0  0  0  0  0  0  0  1  0\n",
       "3  0  0  0  0  0  0  0  0  1  0\n",
       "4  0  0  0  1  0  0  0  0  0  0"
      ]
     },
     "execution_count": 19,
     "metadata": {},
     "output_type": "execute_result"
    }
   ],
   "source": [
    "temp_one = pd.get_dummies(temp)\n",
    "\n",
    "temp_one.head()"
   ]
  },
  {
   "cell_type": "code",
   "execution_count": 20,
   "metadata": {},
   "outputs": [
    {
     "data": {
      "text/plain": [
       "(8124, 117)"
      ]
     },
     "execution_count": 20,
     "metadata": {},
     "output_type": "execute_result"
    }
   ],
   "source": [
    "X1 = X.copy()\n",
    "X_en = pd.get_dummies(X1)\n",
    "\n",
    "X_en.head()\n",
    "\n",
    "X_en.shape"
   ]
  },
  {
   "cell_type": "code",
   "execution_count": 21,
   "metadata": {},
   "outputs": [],
   "source": [
    "from sklearn.model_selection import train_test_split"
   ]
  },
  {
   "cell_type": "code",
   "execution_count": 46,
   "metadata": {},
   "outputs": [],
   "source": [
    "X_train, X_test, y_train, y_test = train_test_split(X_en, y, test_size=0.3)"
   ]
  },
  {
   "cell_type": "code",
   "execution_count": 55,
   "metadata": {},
   "outputs": [
    {
     "data": {
      "text/plain": [
       "DecisionTreeClassifier()"
      ]
     },
     "execution_count": 55,
     "metadata": {},
     "output_type": "execute_result"
    }
   ],
   "source": [
    "from sklearn.tree import DecisionTreeClassifier\n",
    "\n",
    "#모델 선택\n",
    "tree_model = DecisionTreeClassifier()\n",
    "#모델 학습\n",
    "tree_model.fit(X_train, y_train)"
   ]
  },
  {
   "cell_type": "code",
   "execution_count": 56,
   "metadata": {},
   "outputs": [
    {
     "data": {
      "text/plain": [
       "1.0"
      ]
     },
     "execution_count": 56,
     "metadata": {},
     "output_type": "execute_result"
    }
   ],
   "source": [
    "tree_model.score(X_train, y_train)"
   ]
  },
  {
   "cell_type": "code",
   "execution_count": 57,
   "metadata": {},
   "outputs": [
    {
     "data": {
      "text/plain": [
       "0.9991796554552912"
      ]
     },
     "execution_count": 57,
     "metadata": {},
     "output_type": "execute_result"
    }
   ],
   "source": [
    "tree_model.score(X_test, y_test)"
   ]
  },
  {
   "cell_type": "code",
   "execution_count": 58,
   "metadata": {},
   "outputs": [
    {
     "data": {
      "text/plain": [
       "array(['e', 'p'], dtype=object)"
      ]
     },
     "execution_count": 58,
     "metadata": {},
     "output_type": "execute_result"
    }
   ],
   "source": [
    "tree_model.classes_"
   ]
  },
  {
   "cell_type": "code",
   "execution_count": 59,
   "metadata": {},
   "outputs": [],
   "source": [
    "from sklearn.tree import export_graphviz\n",
    "# out_file 저장할 파일 이름, class_names = 그림에서 표기할 클래스 이름\n",
    "# feature_names = 그림에서 표기할 특성 이름\n",
    "# impurity = GINI 불순도를 표기(True)하거나 하지않음(False)\n",
    "# filled = True\n",
    "\n",
    "export_graphviz(tree_model, out_file = 'tree.dot',\n",
    "               class_names=['식용','독'],\n",
    "               feature_names=X_train.columns,\n",
    "               impurity=True,\n",
    "               filled = True)"
   ]
  },
  {
   "cell_type": "code",
   "execution_count": 60,
   "metadata": {
    "collapsed": true
   },
   "outputs": [
    {
     "data": {
      "image/svg+xml": [
       "<?xml version=\"1.0\" encoding=\"UTF-8\" standalone=\"no\"?>\r\n",
       "<!DOCTYPE svg PUBLIC \"-//W3C//DTD SVG 1.1//EN\"\r\n",
       " \"http://www.w3.org/Graphics/SVG/1.1/DTD/svg11.dtd\">\r\n",
       "<!-- Generated by graphviz version 2.38.0 (20140413.2041)\r\n",
       " -->\r\n",
       "<!-- Title: Tree Pages: 1 -->\r\n",
       "<svg width=\"876pt\" height=\"909pt\"\r\n",
       " viewBox=\"0.00 0.00 875.50 909.00\" xmlns=\"http://www.w3.org/2000/svg\" xmlns:xlink=\"http://www.w3.org/1999/xlink\">\r\n",
       "<g id=\"graph0\" class=\"graph\" transform=\"scale(1 1) rotate(0) translate(4 905)\">\r\n",
       "<title>Tree</title>\r\n",
       "<polygon fill=\"white\" stroke=\"none\" points=\"-4,4 -4,-905 871.5,-905 871.5,4 -4,4\"/>\r\n",
       "<!-- 0 -->\r\n",
       "<g id=\"node1\" class=\"node\"><title>0</title>\r\n",
       "<polygon fill=\"#fdf7f2\" stroke=\"black\" points=\"557.5,-901 426.5,-901 426.5,-818 557.5,-818 557.5,-901\"/>\r\n",
       "<text text-anchor=\"middle\" x=\"492\" y=\"-885.8\" font-family=\"Times New Roman,serif\" font-size=\"14.00\">odor_n &lt;= 0.5</text>\r\n",
       "<text text-anchor=\"middle\" x=\"492\" y=\"-870.8\" font-family=\"Times New Roman,serif\" font-size=\"14.00\">gini = 0.499</text>\r\n",
       "<text text-anchor=\"middle\" x=\"492\" y=\"-855.8\" font-family=\"Times New Roman,serif\" font-size=\"14.00\">samples = 5686</text>\r\n",
       "<text text-anchor=\"middle\" x=\"492\" y=\"-840.8\" font-family=\"Times New Roman,serif\" font-size=\"14.00\">value = [2937, 2749]</text>\r\n",
       "<text text-anchor=\"middle\" x=\"492\" y=\"-825.8\" font-family=\"Times New Roman,serif\" font-size=\"14.00\">class = 식용</text>\r\n",
       "</g>\r\n",
       "<!-- 1 -->\r\n",
       "<g id=\"node2\" class=\"node\"><title>1</title>\r\n",
       "<polygon fill=\"#63b2eb\" stroke=\"black\" points=\"442.5,-782 317.5,-782 317.5,-699 442.5,-699 442.5,-782\"/>\r\n",
       "<text text-anchor=\"middle\" x=\"380\" y=\"-766.8\" font-family=\"Times New Roman,serif\" font-size=\"14.00\">stalk&#45;root_c &lt;= 0.5</text>\r\n",
       "<text text-anchor=\"middle\" x=\"380\" y=\"-751.8\" font-family=\"Times New Roman,serif\" font-size=\"14.00\">gini = 0.288</text>\r\n",
       "<text text-anchor=\"middle\" x=\"380\" y=\"-736.8\" font-family=\"Times New Roman,serif\" font-size=\"14.00\">samples = 3227</text>\r\n",
       "<text text-anchor=\"middle\" x=\"380\" y=\"-721.8\" font-family=\"Times New Roman,serif\" font-size=\"14.00\">value = [564, 2663]</text>\r\n",
       "<text text-anchor=\"middle\" x=\"380\" y=\"-706.8\" font-family=\"Times New Roman,serif\" font-size=\"14.00\">class = 독</text>\r\n",
       "</g>\r\n",
       "<!-- 0&#45;&gt;1 -->\r\n",
       "<g id=\"edge1\" class=\"edge\"><title>0&#45;&gt;1</title>\r\n",
       "<path fill=\"none\" stroke=\"black\" d=\"M453.142,-817.907C444.368,-808.742 434.972,-798.927 425.938,-789.489\"/>\r\n",
       "<polygon fill=\"black\" stroke=\"black\" points=\"428.233,-786.824 418.789,-782.021 423.176,-791.665 428.233,-786.824\"/>\r\n",
       "<text text-anchor=\"middle\" x=\"418.243\" y=\"-803.315\" font-family=\"Times New Roman,serif\" font-size=\"14.00\">True</text>\r\n",
       "</g>\r\n",
       "<!-- 12 -->\r\n",
       "<g id=\"node13\" class=\"node\"><title>12</title>\r\n",
       "<polygon fill=\"#e68640\" stroke=\"black\" points=\"686.5,-782 521.5,-782 521.5,-699 686.5,-699 686.5,-782\"/>\r\n",
       "<text text-anchor=\"middle\" x=\"604\" y=\"-766.8\" font-family=\"Times New Roman,serif\" font-size=\"14.00\">spore&#45;print&#45;color_r &lt;= 0.5</text>\r\n",
       "<text text-anchor=\"middle\" x=\"604\" y=\"-751.8\" font-family=\"Times New Roman,serif\" font-size=\"14.00\">gini = 0.068</text>\r\n",
       "<text text-anchor=\"middle\" x=\"604\" y=\"-736.8\" font-family=\"Times New Roman,serif\" font-size=\"14.00\">samples = 2459</text>\r\n",
       "<text text-anchor=\"middle\" x=\"604\" y=\"-721.8\" font-family=\"Times New Roman,serif\" font-size=\"14.00\">value = [2373, 86]</text>\r\n",
       "<text text-anchor=\"middle\" x=\"604\" y=\"-706.8\" font-family=\"Times New Roman,serif\" font-size=\"14.00\">class = 식용</text>\r\n",
       "</g>\r\n",
       "<!-- 0&#45;&gt;12 -->\r\n",
       "<g id=\"edge12\" class=\"edge\"><title>0&#45;&gt;12</title>\r\n",
       "<path fill=\"none\" stroke=\"black\" d=\"M530.858,-817.907C539.632,-808.742 549.028,-798.927 558.062,-789.489\"/>\r\n",
       "<polygon fill=\"black\" stroke=\"black\" points=\"560.824,-791.665 565.211,-782.021 555.767,-786.824 560.824,-791.665\"/>\r\n",
       "<text text-anchor=\"middle\" x=\"565.757\" y=\"-803.315\" font-family=\"Times New Roman,serif\" font-size=\"14.00\">False</text>\r\n",
       "</g>\r\n",
       "<!-- 2 -->\r\n",
       "<g id=\"node3\" class=\"node\"><title>2</title>\r\n",
       "<polygon fill=\"#48a4e7\" stroke=\"black\" points=\"259,-663 53,-663 53,-580 259,-580 259,-663\"/>\r\n",
       "<text text-anchor=\"middle\" x=\"156\" y=\"-647.8\" font-family=\"Times New Roman,serif\" font-size=\"14.00\">stalk&#45;surface&#45;below&#45;ring_y &lt;= 0.5</text>\r\n",
       "<text text-anchor=\"middle\" x=\"156\" y=\"-632.8\" font-family=\"Times New Roman,serif\" font-size=\"14.00\">gini = 0.131</text>\r\n",
       "<text text-anchor=\"middle\" x=\"156\" y=\"-617.8\" font-family=\"Times New Roman,serif\" font-size=\"14.00\">samples = 2842</text>\r\n",
       "<text text-anchor=\"middle\" x=\"156\" y=\"-602.8\" font-family=\"Times New Roman,serif\" font-size=\"14.00\">value = [201, 2641]</text>\r\n",
       "<text text-anchor=\"middle\" x=\"156\" y=\"-587.8\" font-family=\"Times New Roman,serif\" font-size=\"14.00\">class = 독</text>\r\n",
       "</g>\r\n",
       "<!-- 1&#45;&gt;2 -->\r\n",
       "<g id=\"edge2\" class=\"edge\"><title>1&#45;&gt;2</title>\r\n",
       "<path fill=\"none\" stroke=\"black\" d=\"M317.306,-706.753C294.251,-694.712 267.715,-680.851 242.909,-667.894\"/>\r\n",
       "<polygon fill=\"black\" stroke=\"black\" points=\"244.342,-664.694 233.858,-663.167 241.101,-670.899 244.342,-664.694\"/>\r\n",
       "</g>\r\n",
       "<!-- 9 -->\r\n",
       "<g id=\"node10\" class=\"node\"><title>9</title>\r\n",
       "<polygon fill=\"#e78945\" stroke=\"black\" points=\"483,-663 277,-663 277,-580 483,-580 483,-663\"/>\r\n",
       "<text text-anchor=\"middle\" x=\"380\" y=\"-647.8\" font-family=\"Times New Roman,serif\" font-size=\"14.00\">stalk&#45;surface&#45;below&#45;ring_y &lt;= 0.5</text>\r\n",
       "<text text-anchor=\"middle\" x=\"380\" y=\"-632.8\" font-family=\"Times New Roman,serif\" font-size=\"14.00\">gini = 0.108</text>\r\n",
       "<text text-anchor=\"middle\" x=\"380\" y=\"-617.8\" font-family=\"Times New Roman,serif\" font-size=\"14.00\">samples = 385</text>\r\n",
       "<text text-anchor=\"middle\" x=\"380\" y=\"-602.8\" font-family=\"Times New Roman,serif\" font-size=\"14.00\">value = [363, 22]</text>\r\n",
       "<text text-anchor=\"middle\" x=\"380\" y=\"-587.8\" font-family=\"Times New Roman,serif\" font-size=\"14.00\">class = 식용</text>\r\n",
       "</g>\r\n",
       "<!-- 1&#45;&gt;9 -->\r\n",
       "<g id=\"edge9\" class=\"edge\"><title>1&#45;&gt;9</title>\r\n",
       "<path fill=\"none\" stroke=\"black\" d=\"M380,-698.907C380,-690.649 380,-681.864 380,-673.302\"/>\r\n",
       "<polygon fill=\"black\" stroke=\"black\" points=\"383.5,-673.021 380,-663.021 376.5,-673.021 383.5,-673.021\"/>\r\n",
       "</g>\r\n",
       "<!-- 3 -->\r\n",
       "<g id=\"node4\" class=\"node\"><title>3</title>\r\n",
       "<polygon fill=\"#3e9fe6\" stroke=\"black\" points=\"121,-544 3,-544 3,-461 121,-461 121,-544\"/>\r\n",
       "<text text-anchor=\"middle\" x=\"62\" y=\"-528.8\" font-family=\"Times New Roman,serif\" font-size=\"14.00\">odor_l &lt;= 0.5</text>\r\n",
       "<text text-anchor=\"middle\" x=\"62\" y=\"-513.8\" font-family=\"Times New Roman,serif\" font-size=\"14.00\">gini = 0.047</text>\r\n",
       "<text text-anchor=\"middle\" x=\"62\" y=\"-498.8\" font-family=\"Times New Roman,serif\" font-size=\"14.00\">samples = 2706</text>\r\n",
       "<text text-anchor=\"middle\" x=\"62\" y=\"-483.8\" font-family=\"Times New Roman,serif\" font-size=\"14.00\">value = [65, 2641]</text>\r\n",
       "<text text-anchor=\"middle\" x=\"62\" y=\"-468.8\" font-family=\"Times New Roman,serif\" font-size=\"14.00\">class = 독</text>\r\n",
       "</g>\r\n",
       "<!-- 2&#45;&gt;3 -->\r\n",
       "<g id=\"edge3\" class=\"edge\"><title>2&#45;&gt;3</title>\r\n",
       "<path fill=\"none\" stroke=\"black\" d=\"M123.387,-579.907C116.169,-570.923 108.45,-561.315 101.006,-552.05\"/>\r\n",
       "<polygon fill=\"black\" stroke=\"black\" points=\"103.547,-549.624 94.5552,-544.021 98.0899,-554.009 103.547,-549.624\"/>\r\n",
       "</g>\r\n",
       "<!-- 8 -->\r\n",
       "<g id=\"node9\" class=\"node\"><title>8</title>\r\n",
       "<polygon fill=\"#e58139\" stroke=\"black\" points=\"243,-536.5 139,-536.5 139,-468.5 243,-468.5 243,-536.5\"/>\r\n",
       "<text text-anchor=\"middle\" x=\"191\" y=\"-521.3\" font-family=\"Times New Roman,serif\" font-size=\"14.00\">gini = 0.0</text>\r\n",
       "<text text-anchor=\"middle\" x=\"191\" y=\"-506.3\" font-family=\"Times New Roman,serif\" font-size=\"14.00\">samples = 136</text>\r\n",
       "<text text-anchor=\"middle\" x=\"191\" y=\"-491.3\" font-family=\"Times New Roman,serif\" font-size=\"14.00\">value = [136, 0]</text>\r\n",
       "<text text-anchor=\"middle\" x=\"191\" y=\"-476.3\" font-family=\"Times New Roman,serif\" font-size=\"14.00\">class = 식용</text>\r\n",
       "</g>\r\n",
       "<!-- 2&#45;&gt;8 -->\r\n",
       "<g id=\"edge8\" class=\"edge\"><title>2&#45;&gt;8</title>\r\n",
       "<path fill=\"none\" stroke=\"black\" d=\"M168.143,-579.907C171.378,-569.094 174.883,-557.376 178.154,-546.441\"/>\r\n",
       "<polygon fill=\"black\" stroke=\"black\" points=\"181.565,-547.251 181.078,-536.667 174.859,-545.244 181.565,-547.251\"/>\r\n",
       "</g>\r\n",
       "<!-- 4 -->\r\n",
       "<g id=\"node5\" class=\"node\"><title>4</title>\r\n",
       "<polygon fill=\"#3b9ee5\" stroke=\"black\" points=\"118,-425 0,-425 0,-342 118,-342 118,-425\"/>\r\n",
       "<text text-anchor=\"middle\" x=\"59\" y=\"-409.8\" font-family=\"Times New Roman,serif\" font-size=\"14.00\">odor_a &lt;= 0.5</text>\r\n",
       "<text text-anchor=\"middle\" x=\"59\" y=\"-394.8\" font-family=\"Times New Roman,serif\" font-size=\"14.00\">gini = 0.021</text>\r\n",
       "<text text-anchor=\"middle\" x=\"59\" y=\"-379.8\" font-family=\"Times New Roman,serif\" font-size=\"14.00\">samples = 2670</text>\r\n",
       "<text text-anchor=\"middle\" x=\"59\" y=\"-364.8\" font-family=\"Times New Roman,serif\" font-size=\"14.00\">value = [29, 2641]</text>\r\n",
       "<text text-anchor=\"middle\" x=\"59\" y=\"-349.8\" font-family=\"Times New Roman,serif\" font-size=\"14.00\">class = 독</text>\r\n",
       "</g>\r\n",
       "<!-- 3&#45;&gt;4 -->\r\n",
       "<g id=\"edge4\" class=\"edge\"><title>3&#45;&gt;4</title>\r\n",
       "<path fill=\"none\" stroke=\"black\" d=\"M60.9592,-460.907C60.7451,-452.558 60.5172,-443.671 60.2954,-435.02\"/>\r\n",
       "<polygon fill=\"black\" stroke=\"black\" points=\"63.7943,-434.928 60.039,-425.021 56.7966,-435.107 63.7943,-434.928\"/>\r\n",
       "</g>\r\n",
       "<!-- 7 -->\r\n",
       "<g id=\"node8\" class=\"node\"><title>7</title>\r\n",
       "<polygon fill=\"#e58139\" stroke=\"black\" points=\"234,-417.5 136,-417.5 136,-349.5 234,-349.5 234,-417.5\"/>\r\n",
       "<text text-anchor=\"middle\" x=\"185\" y=\"-402.3\" font-family=\"Times New Roman,serif\" font-size=\"14.00\">gini = 0.0</text>\r\n",
       "<text text-anchor=\"middle\" x=\"185\" y=\"-387.3\" font-family=\"Times New Roman,serif\" font-size=\"14.00\">samples = 36</text>\r\n",
       "<text text-anchor=\"middle\" x=\"185\" y=\"-372.3\" font-family=\"Times New Roman,serif\" font-size=\"14.00\">value = [36, 0]</text>\r\n",
       "<text text-anchor=\"middle\" x=\"185\" y=\"-357.3\" font-family=\"Times New Roman,serif\" font-size=\"14.00\">class = 식용</text>\r\n",
       "</g>\r\n",
       "<!-- 3&#45;&gt;7 -->\r\n",
       "<g id=\"edge7\" class=\"edge\"><title>3&#45;&gt;7</title>\r\n",
       "<path fill=\"none\" stroke=\"black\" d=\"M104.674,-460.907C116.971,-449.211 130.378,-436.457 142.655,-424.78\"/>\r\n",
       "<polygon fill=\"black\" stroke=\"black\" points=\"145.299,-427.095 150.132,-417.667 140.474,-422.023 145.299,-427.095\"/>\r\n",
       "</g>\r\n",
       "<!-- 5 -->\r\n",
       "<g id=\"node6\" class=\"node\"><title>5</title>\r\n",
       "<polygon fill=\"#399de5\" stroke=\"black\" points=\"114.5,-298.5 3.5,-298.5 3.5,-230.5 114.5,-230.5 114.5,-298.5\"/>\r\n",
       "<text text-anchor=\"middle\" x=\"59\" y=\"-283.3\" font-family=\"Times New Roman,serif\" font-size=\"14.00\">gini = 0.0</text>\r\n",
       "<text text-anchor=\"middle\" x=\"59\" y=\"-268.3\" font-family=\"Times New Roman,serif\" font-size=\"14.00\">samples = 2641</text>\r\n",
       "<text text-anchor=\"middle\" x=\"59\" y=\"-253.3\" font-family=\"Times New Roman,serif\" font-size=\"14.00\">value = [0, 2641]</text>\r\n",
       "<text text-anchor=\"middle\" x=\"59\" y=\"-238.3\" font-family=\"Times New Roman,serif\" font-size=\"14.00\">class = 독</text>\r\n",
       "</g>\r\n",
       "<!-- 4&#45;&gt;5 -->\r\n",
       "<g id=\"edge5\" class=\"edge\"><title>4&#45;&gt;5</title>\r\n",
       "<path fill=\"none\" stroke=\"black\" d=\"M59,-341.907C59,-331.204 59,-319.615 59,-308.776\"/>\r\n",
       "<polygon fill=\"black\" stroke=\"black\" points=\"62.5001,-308.667 59,-298.667 55.5001,-308.667 62.5001,-308.667\"/>\r\n",
       "</g>\r\n",
       "<!-- 6 -->\r\n",
       "<g id=\"node7\" class=\"node\"><title>6</title>\r\n",
       "<polygon fill=\"#e58139\" stroke=\"black\" points=\"231,-298.5 133,-298.5 133,-230.5 231,-230.5 231,-298.5\"/>\r\n",
       "<text text-anchor=\"middle\" x=\"182\" y=\"-283.3\" font-family=\"Times New Roman,serif\" font-size=\"14.00\">gini = 0.0</text>\r\n",
       "<text text-anchor=\"middle\" x=\"182\" y=\"-268.3\" font-family=\"Times New Roman,serif\" font-size=\"14.00\">samples = 29</text>\r\n",
       "<text text-anchor=\"middle\" x=\"182\" y=\"-253.3\" font-family=\"Times New Roman,serif\" font-size=\"14.00\">value = [29, 0]</text>\r\n",
       "<text text-anchor=\"middle\" x=\"182\" y=\"-238.3\" font-family=\"Times New Roman,serif\" font-size=\"14.00\">class = 식용</text>\r\n",
       "</g>\r\n",
       "<!-- 4&#45;&gt;6 -->\r\n",
       "<g id=\"edge6\" class=\"edge\"><title>4&#45;&gt;6</title>\r\n",
       "<path fill=\"none\" stroke=\"black\" d=\"M101.674,-341.907C113.971,-330.211 127.378,-317.457 139.655,-305.78\"/>\r\n",
       "<polygon fill=\"black\" stroke=\"black\" points=\"142.299,-308.095 147.132,-298.667 137.474,-303.023 142.299,-308.095\"/>\r\n",
       "</g>\r\n",
       "<!-- 10 -->\r\n",
       "<g id=\"node11\" class=\"node\"><title>10</title>\r\n",
       "<polygon fill=\"#e58139\" stroke=\"black\" points=\"366,-536.5 262,-536.5 262,-468.5 366,-468.5 366,-536.5\"/>\r\n",
       "<text text-anchor=\"middle\" x=\"314\" y=\"-521.3\" font-family=\"Times New Roman,serif\" font-size=\"14.00\">gini = 0.0</text>\r\n",
       "<text text-anchor=\"middle\" x=\"314\" y=\"-506.3\" font-family=\"Times New Roman,serif\" font-size=\"14.00\">samples = 363</text>\r\n",
       "<text text-anchor=\"middle\" x=\"314\" y=\"-491.3\" font-family=\"Times New Roman,serif\" font-size=\"14.00\">value = [363, 0]</text>\r\n",
       "<text text-anchor=\"middle\" x=\"314\" y=\"-476.3\" font-family=\"Times New Roman,serif\" font-size=\"14.00\">class = 식용</text>\r\n",
       "</g>\r\n",
       "<!-- 9&#45;&gt;10 -->\r\n",
       "<g id=\"edge10\" class=\"edge\"><title>9&#45;&gt;10</title>\r\n",
       "<path fill=\"none\" stroke=\"black\" d=\"M357.102,-579.907C350.815,-568.763 343.987,-556.658 337.658,-545.439\"/>\r\n",
       "<polygon fill=\"black\" stroke=\"black\" points=\"340.671,-543.657 332.71,-536.667 334.574,-547.096 340.671,-543.657\"/>\r\n",
       "</g>\r\n",
       "<!-- 11 -->\r\n",
       "<g id=\"node12\" class=\"node\"><title>11</title>\r\n",
       "<polygon fill=\"#399de5\" stroke=\"black\" points=\"482,-536.5 384,-536.5 384,-468.5 482,-468.5 482,-536.5\"/>\r\n",
       "<text text-anchor=\"middle\" x=\"433\" y=\"-521.3\" font-family=\"Times New Roman,serif\" font-size=\"14.00\">gini = 0.0</text>\r\n",
       "<text text-anchor=\"middle\" x=\"433\" y=\"-506.3\" font-family=\"Times New Roman,serif\" font-size=\"14.00\">samples = 22</text>\r\n",
       "<text text-anchor=\"middle\" x=\"433\" y=\"-491.3\" font-family=\"Times New Roman,serif\" font-size=\"14.00\">value = [0, 22]</text>\r\n",
       "<text text-anchor=\"middle\" x=\"433\" y=\"-476.3\" font-family=\"Times New Roman,serif\" font-size=\"14.00\">class = 독</text>\r\n",
       "</g>\r\n",
       "<!-- 9&#45;&gt;11 -->\r\n",
       "<g id=\"edge11\" class=\"edge\"><title>9&#45;&gt;11</title>\r\n",
       "<path fill=\"none\" stroke=\"black\" d=\"M398.388,-579.907C403.337,-568.983 408.703,-557.137 413.7,-546.107\"/>\r\n",
       "<polygon fill=\"black\" stroke=\"black\" points=\"417.037,-547.22 417.976,-536.667 410.661,-544.332 417.037,-547.22\"/>\r\n",
       "</g>\r\n",
       "<!-- 13 -->\r\n",
       "<g id=\"node14\" class=\"node\"><title>13</title>\r\n",
       "<polygon fill=\"#e5833c\" stroke=\"black\" points=\"707,-663 501,-663 501,-580 707,-580 707,-663\"/>\r\n",
       "<text text-anchor=\"middle\" x=\"604\" y=\"-647.8\" font-family=\"Times New Roman,serif\" font-size=\"14.00\">stalk&#45;surface&#45;below&#45;ring_y &lt;= 0.5</text>\r\n",
       "<text text-anchor=\"middle\" x=\"604\" y=\"-632.8\" font-family=\"Times New Roman,serif\" font-size=\"14.00\">gini = 0.029</text>\r\n",
       "<text text-anchor=\"middle\" x=\"604\" y=\"-617.8\" font-family=\"Times New Roman,serif\" font-size=\"14.00\">samples = 2408</text>\r\n",
       "<text text-anchor=\"middle\" x=\"604\" y=\"-602.8\" font-family=\"Times New Roman,serif\" font-size=\"14.00\">value = [2373, 35]</text>\r\n",
       "<text text-anchor=\"middle\" x=\"604\" y=\"-587.8\" font-family=\"Times New Roman,serif\" font-size=\"14.00\">class = 식용</text>\r\n",
       "</g>\r\n",
       "<!-- 12&#45;&gt;13 -->\r\n",
       "<g id=\"edge13\" class=\"edge\"><title>12&#45;&gt;13</title>\r\n",
       "<path fill=\"none\" stroke=\"black\" d=\"M604,-698.907C604,-690.649 604,-681.864 604,-673.302\"/>\r\n",
       "<polygon fill=\"black\" stroke=\"black\" points=\"607.5,-673.021 604,-663.021 600.5,-673.021 607.5,-673.021\"/>\r\n",
       "</g>\r\n",
       "<!-- 26 -->\r\n",
       "<g id=\"node27\" class=\"node\"><title>26</title>\r\n",
       "<polygon fill=\"#399de5\" stroke=\"black\" points=\"823,-655.5 725,-655.5 725,-587.5 823,-587.5 823,-655.5\"/>\r\n",
       "<text text-anchor=\"middle\" x=\"774\" y=\"-640.3\" font-family=\"Times New Roman,serif\" font-size=\"14.00\">gini = 0.0</text>\r\n",
       "<text text-anchor=\"middle\" x=\"774\" y=\"-625.3\" font-family=\"Times New Roman,serif\" font-size=\"14.00\">samples = 51</text>\r\n",
       "<text text-anchor=\"middle\" x=\"774\" y=\"-610.3\" font-family=\"Times New Roman,serif\" font-size=\"14.00\">value = [0, 51]</text>\r\n",
       "<text text-anchor=\"middle\" x=\"774\" y=\"-595.3\" font-family=\"Times New Roman,serif\" font-size=\"14.00\">class = 독</text>\r\n",
       "</g>\r\n",
       "<!-- 12&#45;&gt;26 -->\r\n",
       "<g id=\"edge26\" class=\"edge\"><title>12&#45;&gt;26</title>\r\n",
       "<path fill=\"none\" stroke=\"black\" d=\"M663.657,-698.92C680.598,-687.351 699.046,-674.709 716,-663 716.752,-662.481 717.508,-661.958 718.27,-661.431\"/>\r\n",
       "<polygon fill=\"black\" stroke=\"black\" points=\"720.324,-664.266 726.549,-655.693 716.336,-658.513 720.324,-664.266\"/>\r\n",
       "</g>\r\n",
       "<!-- 14 -->\r\n",
       "<g id=\"node15\" class=\"node\"><title>14</title>\r\n",
       "<polygon fill=\"#e5813a\" stroke=\"black\" points=\"638.5,-544 501.5,-544 501.5,-461 638.5,-461 638.5,-544\"/>\r\n",
       "<text text-anchor=\"middle\" x=\"570\" y=\"-528.8\" font-family=\"Times New Roman,serif\" font-size=\"14.00\">cap&#45;surface_g &lt;= 0.5</text>\r\n",
       "<text text-anchor=\"middle\" x=\"570\" y=\"-513.8\" font-family=\"Times New Roman,serif\" font-size=\"14.00\">gini = 0.005</text>\r\n",
       "<text text-anchor=\"middle\" x=\"570\" y=\"-498.8\" font-family=\"Times New Roman,serif\" font-size=\"14.00\">samples = 2371</text>\r\n",
       "<text text-anchor=\"middle\" x=\"570\" y=\"-483.8\" font-family=\"Times New Roman,serif\" font-size=\"14.00\">value = [2365, 6]</text>\r\n",
       "<text text-anchor=\"middle\" x=\"570\" y=\"-468.8\" font-family=\"Times New Roman,serif\" font-size=\"14.00\">class = 식용</text>\r\n",
       "</g>\r\n",
       "<!-- 13&#45;&gt;14 -->\r\n",
       "<g id=\"edge14\" class=\"edge\"><title>13&#45;&gt;14</title>\r\n",
       "<path fill=\"none\" stroke=\"black\" d=\"M592.204,-579.907C589.751,-571.468 587.139,-562.477 584.599,-553.738\"/>\r\n",
       "<polygon fill=\"black\" stroke=\"black\" points=\"587.927,-552.647 581.775,-544.021 581.205,-554.6 587.927,-552.647\"/>\r\n",
       "</g>\r\n",
       "<!-- 23 -->\r\n",
       "<g id=\"node24\" class=\"node\"><title>23</title>\r\n",
       "<polygon fill=\"#70b8ec\" stroke=\"black\" points=\"779,-544 657,-544 657,-461 779,-461 779,-544\"/>\r\n",
       "<text text-anchor=\"middle\" x=\"718\" y=\"-528.8\" font-family=\"Times New Roman,serif\" font-size=\"14.00\">ring&#45;type_p &lt;= 0.5</text>\r\n",
       "<text text-anchor=\"middle\" x=\"718\" y=\"-513.8\" font-family=\"Times New Roman,serif\" font-size=\"14.00\">gini = 0.339</text>\r\n",
       "<text text-anchor=\"middle\" x=\"718\" y=\"-498.8\" font-family=\"Times New Roman,serif\" font-size=\"14.00\">samples = 37</text>\r\n",
       "<text text-anchor=\"middle\" x=\"718\" y=\"-483.8\" font-family=\"Times New Roman,serif\" font-size=\"14.00\">value = [8, 29]</text>\r\n",
       "<text text-anchor=\"middle\" x=\"718\" y=\"-468.8\" font-family=\"Times New Roman,serif\" font-size=\"14.00\">class = 독</text>\r\n",
       "</g>\r\n",
       "<!-- 13&#45;&gt;23 -->\r\n",
       "<g id=\"edge23\" class=\"edge\"><title>13&#45;&gt;23</title>\r\n",
       "<path fill=\"none\" stroke=\"black\" d=\"M643.552,-579.907C652.571,-570.651 662.235,-560.732 671.514,-551.209\"/>\r\n",
       "<polygon fill=\"black\" stroke=\"black\" points=\"674.046,-553.626 678.518,-544.021 669.033,-548.741 674.046,-553.626\"/>\r\n",
       "</g>\r\n",
       "<!-- 15 -->\r\n",
       "<g id=\"node16\" class=\"node\"><title>15</title>\r\n",
       "<polygon fill=\"#e58139\" stroke=\"black\" points=\"515.5,-425 386.5,-425 386.5,-342 515.5,-342 515.5,-425\"/>\r\n",
       "<text text-anchor=\"middle\" x=\"451\" y=\"-409.8\" font-family=\"Times New Roman,serif\" font-size=\"14.00\">cap&#45;shape_c &lt;= 0.5</text>\r\n",
       "<text text-anchor=\"middle\" x=\"451\" y=\"-394.8\" font-family=\"Times New Roman,serif\" font-size=\"14.00\">gini = 0.002</text>\r\n",
       "<text text-anchor=\"middle\" x=\"451\" y=\"-379.8\" font-family=\"Times New Roman,serif\" font-size=\"14.00\">samples = 2367</text>\r\n",
       "<text text-anchor=\"middle\" x=\"451\" y=\"-364.8\" font-family=\"Times New Roman,serif\" font-size=\"14.00\">value = [2365, 2]</text>\r\n",
       "<text text-anchor=\"middle\" x=\"451\" y=\"-349.8\" font-family=\"Times New Roman,serif\" font-size=\"14.00\">class = 식용</text>\r\n",
       "</g>\r\n",
       "<!-- 14&#45;&gt;15 -->\r\n",
       "<g id=\"edge15\" class=\"edge\"><title>14&#45;&gt;15</title>\r\n",
       "<path fill=\"none\" stroke=\"black\" d=\"M528.714,-460.907C519.299,-451.651 509.211,-441.732 499.524,-432.209\"/>\r\n",
       "<polygon fill=\"black\" stroke=\"black\" points=\"501.798,-429.536 492.213,-425.021 496.89,-434.527 501.798,-429.536\"/>\r\n",
       "</g>\r\n",
       "<!-- 22 -->\r\n",
       "<g id=\"node23\" class=\"node\"><title>22</title>\r\n",
       "<polygon fill=\"#399de5\" stroke=\"black\" points=\"624.5,-417.5 533.5,-417.5 533.5,-349.5 624.5,-349.5 624.5,-417.5\"/>\r\n",
       "<text text-anchor=\"middle\" x=\"579\" y=\"-402.3\" font-family=\"Times New Roman,serif\" font-size=\"14.00\">gini = 0.0</text>\r\n",
       "<text text-anchor=\"middle\" x=\"579\" y=\"-387.3\" font-family=\"Times New Roman,serif\" font-size=\"14.00\">samples = 4</text>\r\n",
       "<text text-anchor=\"middle\" x=\"579\" y=\"-372.3\" font-family=\"Times New Roman,serif\" font-size=\"14.00\">value = [0, 4]</text>\r\n",
       "<text text-anchor=\"middle\" x=\"579\" y=\"-357.3\" font-family=\"Times New Roman,serif\" font-size=\"14.00\">class = 독</text>\r\n",
       "</g>\r\n",
       "<!-- 14&#45;&gt;22 -->\r\n",
       "<g id=\"edge22\" class=\"edge\"><title>14&#45;&gt;22</title>\r\n",
       "<path fill=\"none\" stroke=\"black\" d=\"M573.123,-460.907C573.946,-450.204 574.837,-438.615 575.671,-427.776\"/>\r\n",
       "<polygon fill=\"black\" stroke=\"black\" points=\"579.171,-427.906 576.449,-417.667 572.192,-427.369 579.171,-427.906\"/>\r\n",
       "</g>\r\n",
       "<!-- 16 -->\r\n",
       "<g id=\"node17\" class=\"node\"><title>16</title>\r\n",
       "<polygon fill=\"#e58139\" stroke=\"black\" points=\"443,-306 313,-306 313,-223 443,-223 443,-306\"/>\r\n",
       "<text text-anchor=\"middle\" x=\"378\" y=\"-290.8\" font-family=\"Times New Roman,serif\" font-size=\"14.00\">cap&#45;shape_b &lt;= 0.5</text>\r\n",
       "<text text-anchor=\"middle\" x=\"378\" y=\"-275.8\" font-family=\"Times New Roman,serif\" font-size=\"14.00\">gini = 0.001</text>\r\n",
       "<text text-anchor=\"middle\" x=\"378\" y=\"-260.8\" font-family=\"Times New Roman,serif\" font-size=\"14.00\">samples = 2366</text>\r\n",
       "<text text-anchor=\"middle\" x=\"378\" y=\"-245.8\" font-family=\"Times New Roman,serif\" font-size=\"14.00\">value = [2365, 1]</text>\r\n",
       "<text text-anchor=\"middle\" x=\"378\" y=\"-230.8\" font-family=\"Times New Roman,serif\" font-size=\"14.00\">class = 식용</text>\r\n",
       "</g>\r\n",
       "<!-- 15&#45;&gt;16 -->\r\n",
       "<g id=\"edge16\" class=\"edge\"><title>15&#45;&gt;16</title>\r\n",
       "<path fill=\"none\" stroke=\"black\" d=\"M425.673,-341.907C420.181,-333.105 414.315,-323.703 408.643,-314.612\"/>\r\n",
       "<polygon fill=\"black\" stroke=\"black\" points=\"411.545,-312.652 403.282,-306.021 405.606,-316.358 411.545,-312.652\"/>\r\n",
       "</g>\r\n",
       "<!-- 21 -->\r\n",
       "<g id=\"node22\" class=\"node\"><title>21</title>\r\n",
       "<polygon fill=\"#399de5\" stroke=\"black\" points=\"552.5,-298.5 461.5,-298.5 461.5,-230.5 552.5,-230.5 552.5,-298.5\"/>\r\n",
       "<text text-anchor=\"middle\" x=\"507\" y=\"-283.3\" font-family=\"Times New Roman,serif\" font-size=\"14.00\">gini = 0.0</text>\r\n",
       "<text text-anchor=\"middle\" x=\"507\" y=\"-268.3\" font-family=\"Times New Roman,serif\" font-size=\"14.00\">samples = 1</text>\r\n",
       "<text text-anchor=\"middle\" x=\"507\" y=\"-253.3\" font-family=\"Times New Roman,serif\" font-size=\"14.00\">value = [0, 1]</text>\r\n",
       "<text text-anchor=\"middle\" x=\"507\" y=\"-238.3\" font-family=\"Times New Roman,serif\" font-size=\"14.00\">class = 독</text>\r\n",
       "</g>\r\n",
       "<!-- 15&#45;&gt;21 -->\r\n",
       "<g id=\"edge21\" class=\"edge\"><title>15&#45;&gt;21</title>\r\n",
       "<path fill=\"none\" stroke=\"black\" d=\"M470.429,-341.907C475.71,-330.873 481.442,-318.898 486.767,-307.773\"/>\r\n",
       "<polygon fill=\"black\" stroke=\"black\" points=\"489.965,-309.198 491.125,-298.667 483.651,-306.176 489.965,-309.198\"/>\r\n",
       "</g>\r\n",
       "<!-- 17 -->\r\n",
       "<g id=\"node18\" class=\"node\"><title>17</title>\r\n",
       "<polygon fill=\"#e58139\" stroke=\"black\" points=\"364.5,-179.5 253.5,-179.5 253.5,-111.5 364.5,-111.5 364.5,-179.5\"/>\r\n",
       "<text text-anchor=\"middle\" x=\"309\" y=\"-164.3\" font-family=\"Times New Roman,serif\" font-size=\"14.00\">gini = 0.0</text>\r\n",
       "<text text-anchor=\"middle\" x=\"309\" y=\"-149.3\" font-family=\"Times New Roman,serif\" font-size=\"14.00\">samples = 2271</text>\r\n",
       "<text text-anchor=\"middle\" x=\"309\" y=\"-134.3\" font-family=\"Times New Roman,serif\" font-size=\"14.00\">value = [2271, 0]</text>\r\n",
       "<text text-anchor=\"middle\" x=\"309\" y=\"-119.3\" font-family=\"Times New Roman,serif\" font-size=\"14.00\">class = 식용</text>\r\n",
       "</g>\r\n",
       "<!-- 16&#45;&gt;17 -->\r\n",
       "<g id=\"edge17\" class=\"edge\"><title>16&#45;&gt;17</title>\r\n",
       "<path fill=\"none\" stroke=\"black\" d=\"M354.061,-222.907C347.488,-211.763 340.35,-199.658 333.733,-188.439\"/>\r\n",
       "<polygon fill=\"black\" stroke=\"black\" points=\"336.655,-186.503 328.56,-179.667 330.625,-190.059 336.655,-186.503\"/>\r\n",
       "</g>\r\n",
       "<!-- 18 -->\r\n",
       "<g id=\"node19\" class=\"node\"><title>18</title>\r\n",
       "<polygon fill=\"#e5823b\" stroke=\"black\" points=\"509,-187 383,-187 383,-104 509,-104 509,-187\"/>\r\n",
       "<text text-anchor=\"middle\" x=\"446\" y=\"-171.8\" font-family=\"Times New Roman,serif\" font-size=\"14.00\">stalk&#45;root_b &lt;= 0.5</text>\r\n",
       "<text text-anchor=\"middle\" x=\"446\" y=\"-156.8\" font-family=\"Times New Roman,serif\" font-size=\"14.00\">gini = 0.021</text>\r\n",
       "<text text-anchor=\"middle\" x=\"446\" y=\"-141.8\" font-family=\"Times New Roman,serif\" font-size=\"14.00\">samples = 95</text>\r\n",
       "<text text-anchor=\"middle\" x=\"446\" y=\"-126.8\" font-family=\"Times New Roman,serif\" font-size=\"14.00\">value = [94, 1]</text>\r\n",
       "<text text-anchor=\"middle\" x=\"446\" y=\"-111.8\" font-family=\"Times New Roman,serif\" font-size=\"14.00\">class = 식용</text>\r\n",
       "</g>\r\n",
       "<!-- 16&#45;&gt;18 -->\r\n",
       "<g id=\"edge18\" class=\"edge\"><title>16&#45;&gt;18</title>\r\n",
       "<path fill=\"none\" stroke=\"black\" d=\"M401.592,-222.907C406.656,-214.195 412.06,-204.897 417.293,-195.893\"/>\r\n",
       "<polygon fill=\"black\" stroke=\"black\" points=\"420.451,-197.425 422.449,-187.021 414.398,-193.908 420.451,-197.425\"/>\r\n",
       "</g>\r\n",
       "<!-- 19 -->\r\n",
       "<g id=\"node20\" class=\"node\"><title>19</title>\r\n",
       "<polygon fill=\"#e58139\" stroke=\"black\" points=\"438,-68 340,-68 340,-0 438,-0 438,-68\"/>\r\n",
       "<text text-anchor=\"middle\" x=\"389\" y=\"-52.8\" font-family=\"Times New Roman,serif\" font-size=\"14.00\">gini = 0.0</text>\r\n",
       "<text text-anchor=\"middle\" x=\"389\" y=\"-37.8\" font-family=\"Times New Roman,serif\" font-size=\"14.00\">samples = 94</text>\r\n",
       "<text text-anchor=\"middle\" x=\"389\" y=\"-22.8\" font-family=\"Times New Roman,serif\" font-size=\"14.00\">value = [94, 0]</text>\r\n",
       "<text text-anchor=\"middle\" x=\"389\" y=\"-7.8\" font-family=\"Times New Roman,serif\" font-size=\"14.00\">class = 식용</text>\r\n",
       "</g>\r\n",
       "<!-- 18&#45;&gt;19 -->\r\n",
       "<g id=\"edge19\" class=\"edge\"><title>18&#45;&gt;19</title>\r\n",
       "<path fill=\"none\" stroke=\"black\" d=\"M424.775,-103.726C420.265,-95.0615 415.494,-85.8962 410.957,-77.1802\"/>\r\n",
       "<polygon fill=\"black\" stroke=\"black\" points=\"414.056,-75.5537 406.334,-68.2996 407.847,-78.7859 414.056,-75.5537\"/>\r\n",
       "</g>\r\n",
       "<!-- 20 -->\r\n",
       "<g id=\"node21\" class=\"node\"><title>20</title>\r\n",
       "<polygon fill=\"#399de5\" stroke=\"black\" points=\"547.5,-68 456.5,-68 456.5,-0 547.5,-0 547.5,-68\"/>\r\n",
       "<text text-anchor=\"middle\" x=\"502\" y=\"-52.8\" font-family=\"Times New Roman,serif\" font-size=\"14.00\">gini = 0.0</text>\r\n",
       "<text text-anchor=\"middle\" x=\"502\" y=\"-37.8\" font-family=\"Times New Roman,serif\" font-size=\"14.00\">samples = 1</text>\r\n",
       "<text text-anchor=\"middle\" x=\"502\" y=\"-22.8\" font-family=\"Times New Roman,serif\" font-size=\"14.00\">value = [0, 1]</text>\r\n",
       "<text text-anchor=\"middle\" x=\"502\" y=\"-7.8\" font-family=\"Times New Roman,serif\" font-size=\"14.00\">class = 독</text>\r\n",
       "</g>\r\n",
       "<!-- 18&#45;&gt;20 -->\r\n",
       "<g id=\"edge20\" class=\"edge\"><title>18&#45;&gt;20</title>\r\n",
       "<path fill=\"none\" stroke=\"black\" d=\"M466.852,-103.726C471.237,-95.1527 475.872,-86.0891 480.288,-77.4555\"/>\r\n",
       "<polygon fill=\"black\" stroke=\"black\" points=\"483.533,-78.7965 484.97,-68.2996 477.301,-75.6092 483.533,-78.7965\"/>\r\n",
       "</g>\r\n",
       "<!-- 24 -->\r\n",
       "<g id=\"node25\" class=\"node\"><title>24</title>\r\n",
       "<polygon fill=\"#399de5\" stroke=\"black\" points=\"758,-417.5 660,-417.5 660,-349.5 758,-349.5 758,-417.5\"/>\r\n",
       "<text text-anchor=\"middle\" x=\"709\" y=\"-402.3\" font-family=\"Times New Roman,serif\" font-size=\"14.00\">gini = 0.0</text>\r\n",
       "<text text-anchor=\"middle\" x=\"709\" y=\"-387.3\" font-family=\"Times New Roman,serif\" font-size=\"14.00\">samples = 29</text>\r\n",
       "<text text-anchor=\"middle\" x=\"709\" y=\"-372.3\" font-family=\"Times New Roman,serif\" font-size=\"14.00\">value = [0, 29]</text>\r\n",
       "<text text-anchor=\"middle\" x=\"709\" y=\"-357.3\" font-family=\"Times New Roman,serif\" font-size=\"14.00\">class = 독</text>\r\n",
       "</g>\r\n",
       "<!-- 23&#45;&gt;24 -->\r\n",
       "<g id=\"edge24\" class=\"edge\"><title>23&#45;&gt;24</title>\r\n",
       "<path fill=\"none\" stroke=\"black\" d=\"M714.877,-460.907C714.054,-450.204 713.163,-438.615 712.329,-427.776\"/>\r\n",
       "<polygon fill=\"black\" stroke=\"black\" points=\"715.808,-427.369 711.551,-417.667 708.829,-427.906 715.808,-427.369\"/>\r\n",
       "</g>\r\n",
       "<!-- 25 -->\r\n",
       "<g id=\"node26\" class=\"node\"><title>25</title>\r\n",
       "<polygon fill=\"#e58139\" stroke=\"black\" points=\"867.5,-417.5 776.5,-417.5 776.5,-349.5 867.5,-349.5 867.5,-417.5\"/>\r\n",
       "<text text-anchor=\"middle\" x=\"822\" y=\"-402.3\" font-family=\"Times New Roman,serif\" font-size=\"14.00\">gini = 0.0</text>\r\n",
       "<text text-anchor=\"middle\" x=\"822\" y=\"-387.3\" font-family=\"Times New Roman,serif\" font-size=\"14.00\">samples = 8</text>\r\n",
       "<text text-anchor=\"middle\" x=\"822\" y=\"-372.3\" font-family=\"Times New Roman,serif\" font-size=\"14.00\">value = [8, 0]</text>\r\n",
       "<text text-anchor=\"middle\" x=\"822\" y=\"-357.3\" font-family=\"Times New Roman,serif\" font-size=\"14.00\">class = 식용</text>\r\n",
       "</g>\r\n",
       "<!-- 23&#45;&gt;25 -->\r\n",
       "<g id=\"edge25\" class=\"edge\"><title>23&#45;&gt;25</title>\r\n",
       "<path fill=\"none\" stroke=\"black\" d=\"M754.082,-460.907C764.283,-449.432 775.388,-436.938 785.607,-425.442\"/>\r\n",
       "<polygon fill=\"black\" stroke=\"black\" points=\"788.491,-427.466 792.518,-417.667 783.259,-422.816 788.491,-427.466\"/>\r\n",
       "</g>\r\n",
       "</g>\r\n",
       "</svg>\r\n"
      ],
      "text/plain": [
       "<graphviz.files.Source at 0x2559150f8e0>"
      ]
     },
     "metadata": {},
     "output_type": "display_data"
    }
   ],
   "source": [
    "import graphviz\n",
    "\n",
    "with open('tree.dot', encoding='UTF8') as f:\n",
    "    dot_graph = f.read()\n",
    "    \n",
    "display(graphviz.Source(dot_graph))"
   ]
  },
  {
   "cell_type": "code",
   "execution_count": 61,
   "metadata": {},
   "outputs": [
    {
     "data": {
      "text/plain": [
       "DecisionTreeClassifier(max_depth=1)"
      ]
     },
     "execution_count": 61,
     "metadata": {},
     "output_type": "execute_result"
    }
   ],
   "source": [
    "tree_model2 = DecisionTreeClassifier(max_depth=1)\n",
    "tree_model2.fit(X_train, y_train)"
   ]
  },
  {
   "cell_type": "code",
   "execution_count": 63,
   "metadata": {},
   "outputs": [
    {
     "name": "stdout",
     "output_type": "stream",
     "text": [
      "0.885684136475554\n",
      "0.889253486464315\n"
     ]
    }
   ],
   "source": [
    "print(tree_model2.score(X_train,y_train))\n",
    "print(tree_model2.score(X_test,y_test))"
   ]
  },
  {
   "cell_type": "code",
   "execution_count": 64,
   "metadata": {},
   "outputs": [
    {
     "data": {
      "image/svg+xml": [
       "<?xml version=\"1.0\" encoding=\"UTF-8\" standalone=\"no\"?>\r\n",
       "<!DOCTYPE svg PUBLIC \"-//W3C//DTD SVG 1.1//EN\"\r\n",
       " \"http://www.w3.org/Graphics/SVG/1.1/DTD/svg11.dtd\">\r\n",
       "<!-- Generated by graphviz version 2.38.0 (20140413.2041)\r\n",
       " -->\r\n",
       "<!-- Title: Tree Pages: 1 -->\r\n",
       "<svg width=\"270pt\" height=\"195pt\"\r\n",
       " viewBox=\"0.00 0.00 269.50 195.00\" xmlns=\"http://www.w3.org/2000/svg\" xmlns:xlink=\"http://www.w3.org/1999/xlink\">\r\n",
       "<g id=\"graph0\" class=\"graph\" transform=\"scale(1 1) rotate(0) translate(4 191)\">\r\n",
       "<title>Tree</title>\r\n",
       "<polygon fill=\"white\" stroke=\"none\" points=\"-4,4 -4,-191 265.5,-191 265.5,4 -4,4\"/>\r\n",
       "<!-- 0 -->\r\n",
       "<g id=\"node1\" class=\"node\"><title>0</title>\r\n",
       "<polygon fill=\"#fdf7f2\" stroke=\"black\" points=\"198,-187 67,-187 67,-104 198,-104 198,-187\"/>\r\n",
       "<text text-anchor=\"middle\" x=\"132.5\" y=\"-171.8\" font-family=\"Times New Roman,serif\" font-size=\"14.00\">odor_n &lt;= 0.5</text>\r\n",
       "<text text-anchor=\"middle\" x=\"132.5\" y=\"-156.8\" font-family=\"Times New Roman,serif\" font-size=\"14.00\">gini = 0.499</text>\r\n",
       "<text text-anchor=\"middle\" x=\"132.5\" y=\"-141.8\" font-family=\"Times New Roman,serif\" font-size=\"14.00\">samples = 5686</text>\r\n",
       "<text text-anchor=\"middle\" x=\"132.5\" y=\"-126.8\" font-family=\"Times New Roman,serif\" font-size=\"14.00\">value = [2937, 2749]</text>\r\n",
       "<text text-anchor=\"middle\" x=\"132.5\" y=\"-111.8\" font-family=\"Times New Roman,serif\" font-size=\"14.00\">class = 식용</text>\r\n",
       "</g>\r\n",
       "<!-- 1 -->\r\n",
       "<g id=\"node2\" class=\"node\"><title>1</title>\r\n",
       "<polygon fill=\"#63b2eb\" stroke=\"black\" points=\"125,-68 0,-68 0,-0 125,-0 125,-68\"/>\r\n",
       "<text text-anchor=\"middle\" x=\"62.5\" y=\"-52.8\" font-family=\"Times New Roman,serif\" font-size=\"14.00\">gini = 0.288</text>\r\n",
       "<text text-anchor=\"middle\" x=\"62.5\" y=\"-37.8\" font-family=\"Times New Roman,serif\" font-size=\"14.00\">samples = 3227</text>\r\n",
       "<text text-anchor=\"middle\" x=\"62.5\" y=\"-22.8\" font-family=\"Times New Roman,serif\" font-size=\"14.00\">value = [564, 2663]</text>\r\n",
       "<text text-anchor=\"middle\" x=\"62.5\" y=\"-7.8\" font-family=\"Times New Roman,serif\" font-size=\"14.00\">class = 독</text>\r\n",
       "</g>\r\n",
       "<!-- 0&#45;&gt;1 -->\r\n",
       "<g id=\"edge1\" class=\"edge\"><title>0&#45;&gt;1</title>\r\n",
       "<path fill=\"none\" stroke=\"black\" d=\"M106.435,-103.726C100.837,-94.9703 94.913,-85.7032 89.2886,-76.9051\"/>\r\n",
       "<polygon fill=\"black\" stroke=\"black\" points=\"92.1226,-74.8399 83.7874,-68.2996 86.2247,-78.6103 92.1226,-74.8399\"/>\r\n",
       "<text text-anchor=\"middle\" x=\"78.4146\" y=\"-89.0154\" font-family=\"Times New Roman,serif\" font-size=\"14.00\">True</text>\r\n",
       "</g>\r\n",
       "<!-- 2 -->\r\n",
       "<g id=\"node3\" class=\"node\"><title>2</title>\r\n",
       "<polygon fill=\"#e68640\" stroke=\"black\" points=\"261.5,-68 143.5,-68 143.5,-0 261.5,-0 261.5,-68\"/>\r\n",
       "<text text-anchor=\"middle\" x=\"202.5\" y=\"-52.8\" font-family=\"Times New Roman,serif\" font-size=\"14.00\">gini = 0.068</text>\r\n",
       "<text text-anchor=\"middle\" x=\"202.5\" y=\"-37.8\" font-family=\"Times New Roman,serif\" font-size=\"14.00\">samples = 2459</text>\r\n",
       "<text text-anchor=\"middle\" x=\"202.5\" y=\"-22.8\" font-family=\"Times New Roman,serif\" font-size=\"14.00\">value = [2373, 86]</text>\r\n",
       "<text text-anchor=\"middle\" x=\"202.5\" y=\"-7.8\" font-family=\"Times New Roman,serif\" font-size=\"14.00\">class = 식용</text>\r\n",
       "</g>\r\n",
       "<!-- 0&#45;&gt;2 -->\r\n",
       "<g id=\"edge2\" class=\"edge\"><title>0&#45;&gt;2</title>\r\n",
       "<path fill=\"none\" stroke=\"black\" d=\"M158.565,-103.726C164.163,-94.9703 170.087,-85.7032 175.711,-76.9051\"/>\r\n",
       "<polygon fill=\"black\" stroke=\"black\" points=\"178.775,-78.6103 181.213,-68.2996 172.877,-74.8399 178.775,-78.6103\"/>\r\n",
       "<text text-anchor=\"middle\" x=\"186.585\" y=\"-89.0154\" font-family=\"Times New Roman,serif\" font-size=\"14.00\">False</text>\r\n",
       "</g>\r\n",
       "</g>\r\n",
       "</svg>\r\n"
      ],
      "text/plain": [
       "<graphviz.files.Source at 0x255913c4820>"
      ]
     },
     "metadata": {},
     "output_type": "display_data"
    }
   ],
   "source": [
    "export_graphviz(tree_model2, out_file = 'tree2.dot',\n",
    "               class_names=['식용','독'],\n",
    "               feature_names=X_train.columns,\n",
    "               impurity=True,\n",
    "               filled = True)\n",
    "\n",
    "with open('tree2.dot', encoding='UTF8') as f:\n",
    "    dot_graph = f.read()\n",
    "    \n",
    "display(graphviz.Source(dot_graph))"
   ]
  },
  {
   "cell_type": "markdown",
   "metadata": {},
   "source": [
    "### 특성선택\n",
    "- tree 모델의 특성중요도"
   ]
  },
  {
   "cell_type": "code",
   "execution_count": 66,
   "metadata": {
    "scrolled": true
   },
   "outputs": [
    {
     "data": {
      "text/plain": [
       "array([7.11552514e-06, 7.03359667e-04, 0.00000000e+00, 0.00000000e+00,\n",
       "       0.00000000e+00, 0.00000000e+00, 0.00000000e+00, 2.80750565e-03,\n",
       "       0.00000000e+00, 0.00000000e+00, 0.00000000e+00, 0.00000000e+00,\n",
       "       0.00000000e+00, 0.00000000e+00, 0.00000000e+00, 0.00000000e+00,\n",
       "       0.00000000e+00, 0.00000000e+00, 0.00000000e+00, 0.00000000e+00,\n",
       "       0.00000000e+00, 0.00000000e+00, 2.02014855e-02, 0.00000000e+00,\n",
       "       0.00000000e+00, 2.44753222e-02, 0.00000000e+00, 6.13774762e-01,\n",
       "       0.00000000e+00, 0.00000000e+00, 0.00000000e+00, 0.00000000e+00,\n",
       "       0.00000000e+00, 0.00000000e+00, 0.00000000e+00, 0.00000000e+00,\n",
       "       0.00000000e+00, 0.00000000e+00, 0.00000000e+00, 0.00000000e+00,\n",
       "       0.00000000e+00, 0.00000000e+00, 0.00000000e+00, 0.00000000e+00,\n",
       "       0.00000000e+00, 0.00000000e+00, 0.00000000e+00, 0.00000000e+00,\n",
       "       0.00000000e+00, 0.00000000e+00, 0.00000000e+00, 0.00000000e+00,\n",
       "       6.96838949e-04, 1.81626306e-01, 0.00000000e+00, 0.00000000e+00,\n",
       "       0.00000000e+00, 0.00000000e+00, 0.00000000e+00, 0.00000000e+00,\n",
       "       0.00000000e+00, 0.00000000e+00, 0.00000000e+00, 1.17134525e-01,\n",
       "       0.00000000e+00, 0.00000000e+00, 0.00000000e+00, 0.00000000e+00,\n",
       "       0.00000000e+00, 0.00000000e+00, 0.00000000e+00, 0.00000000e+00,\n",
       "       0.00000000e+00, 0.00000000e+00, 0.00000000e+00, 0.00000000e+00,\n",
       "       0.00000000e+00, 0.00000000e+00, 0.00000000e+00, 0.00000000e+00,\n",
       "       0.00000000e+00, 0.00000000e+00, 0.00000000e+00, 0.00000000e+00,\n",
       "       0.00000000e+00, 0.00000000e+00, 0.00000000e+00, 0.00000000e+00,\n",
       "       0.00000000e+00, 0.00000000e+00, 0.00000000e+00, 0.00000000e+00,\n",
       "       0.00000000e+00, 0.00000000e+00, 4.41585119e-03, 0.00000000e+00,\n",
       "       0.00000000e+00, 0.00000000e+00, 0.00000000e+00, 0.00000000e+00,\n",
       "       3.41569285e-02, 0.00000000e+00, 0.00000000e+00, 0.00000000e+00,\n",
       "       0.00000000e+00, 0.00000000e+00, 0.00000000e+00, 0.00000000e+00,\n",
       "       0.00000000e+00, 0.00000000e+00, 0.00000000e+00, 0.00000000e+00,\n",
       "       0.00000000e+00, 0.00000000e+00, 0.00000000e+00, 0.00000000e+00,\n",
       "       0.00000000e+00])"
      ]
     },
     "execution_count": 66,
     "metadata": {},
     "output_type": "execute_result"
    }
   ],
   "source": [
    "fi = tree_model.feature_importances_\n",
    "fi"
   ]
  },
  {
   "cell_type": "code",
   "execution_count": 67,
   "metadata": {},
   "outputs": [
    {
     "data": {
      "text/html": [
       "<div>\n",
       "<style scoped>\n",
       "    .dataframe tbody tr th:only-of-type {\n",
       "        vertical-align: middle;\n",
       "    }\n",
       "\n",
       "    .dataframe tbody tr th {\n",
       "        vertical-align: top;\n",
       "    }\n",
       "\n",
       "    .dataframe thead th {\n",
       "        text-align: right;\n",
       "    }\n",
       "</style>\n",
       "<table border=\"1\" class=\"dataframe\">\n",
       "  <thead>\n",
       "    <tr style=\"text-align: right;\">\n",
       "      <th></th>\n",
       "      <th>0</th>\n",
       "    </tr>\n",
       "  </thead>\n",
       "  <tbody>\n",
       "    <tr>\n",
       "      <th>odor_n</th>\n",
       "      <td>0.613775</td>\n",
       "    </tr>\n",
       "    <tr>\n",
       "      <th>stalk-root_c</th>\n",
       "      <td>0.181626</td>\n",
       "    </tr>\n",
       "    <tr>\n",
       "      <th>stalk-surface-below-ring_y</th>\n",
       "      <td>0.117135</td>\n",
       "    </tr>\n",
       "    <tr>\n",
       "      <th>spore-print-color_r</th>\n",
       "      <td>0.034157</td>\n",
       "    </tr>\n",
       "    <tr>\n",
       "      <th>odor_l</th>\n",
       "      <td>0.024475</td>\n",
       "    </tr>\n",
       "    <tr>\n",
       "      <th>...</th>\n",
       "      <td>...</td>\n",
       "    </tr>\n",
       "    <tr>\n",
       "      <th>gill-color_b</th>\n",
       "      <td>0.000000</td>\n",
       "    </tr>\n",
       "    <tr>\n",
       "      <th>gill-size_n</th>\n",
       "      <td>0.000000</td>\n",
       "    </tr>\n",
       "    <tr>\n",
       "      <th>gill-size_b</th>\n",
       "      <td>0.000000</td>\n",
       "    </tr>\n",
       "    <tr>\n",
       "      <th>gill-spacing_w</th>\n",
       "      <td>0.000000</td>\n",
       "    </tr>\n",
       "    <tr>\n",
       "      <th>habitat_w</th>\n",
       "      <td>0.000000</td>\n",
       "    </tr>\n",
       "  </tbody>\n",
       "</table>\n",
       "<p>117 rows × 1 columns</p>\n",
       "</div>"
      ],
      "text/plain": [
       "                                   0\n",
       "odor_n                      0.613775\n",
       "stalk-root_c                0.181626\n",
       "stalk-surface-below-ring_y  0.117135\n",
       "spore-print-color_r         0.034157\n",
       "odor_l                      0.024475\n",
       "...                              ...\n",
       "gill-color_b                0.000000\n",
       "gill-size_n                 0.000000\n",
       "gill-size_b                 0.000000\n",
       "gill-spacing_w              0.000000\n",
       "habitat_w                   0.000000\n",
       "\n",
       "[117 rows x 1 columns]"
      ]
     },
     "execution_count": 67,
     "metadata": {},
     "output_type": "execute_result"
    }
   ],
   "source": [
    "df = pd.DataFrame(fi, index=X_train.columns)\n",
    "df.sort_values(by=0, ascending = False)"
   ]
  },
  {
   "cell_type": "markdown",
   "metadata": {},
   "source": [
    "### 정규화(Normalization)"
   ]
  },
  {
   "cell_type": "code",
   "execution_count": 68,
   "metadata": {},
   "outputs": [
    {
     "data": {
      "text/html": [
       "<div>\n",
       "<style scoped>\n",
       "    .dataframe tbody tr th:only-of-type {\n",
       "        vertical-align: middle;\n",
       "    }\n",
       "\n",
       "    .dataframe tbody tr th {\n",
       "        vertical-align: top;\n",
       "    }\n",
       "\n",
       "    .dataframe thead th {\n",
       "        text-align: right;\n",
       "    }\n",
       "</style>\n",
       "<table border=\"1\" class=\"dataframe\">\n",
       "  <thead>\n",
       "    <tr style=\"text-align: right;\">\n",
       "      <th></th>\n",
       "      <th>0</th>\n",
       "      <th>1</th>\n",
       "      <th>2</th>\n",
       "      <th>y</th>\n",
       "    </tr>\n",
       "  </thead>\n",
       "  <tbody>\n",
       "    <tr>\n",
       "      <th>0</th>\n",
       "      <td>56</td>\n",
       "      <td>18</td>\n",
       "      <td>27</td>\n",
       "      <td>2.926144</td>\n",
       "    </tr>\n",
       "    <tr>\n",
       "      <th>1</th>\n",
       "      <td>81</td>\n",
       "      <td>57</td>\n",
       "      <td>3</td>\n",
       "      <td>4.744364</td>\n",
       "    </tr>\n",
       "    <tr>\n",
       "      <th>2</th>\n",
       "      <td>25</td>\n",
       "      <td>9</td>\n",
       "      <td>11</td>\n",
       "      <td>1.439488</td>\n",
       "    </tr>\n",
       "    <tr>\n",
       "      <th>3</th>\n",
       "      <td>20</td>\n",
       "      <td>13</td>\n",
       "      <td>30</td>\n",
       "      <td>0.569621</td>\n",
       "    </tr>\n",
       "    <tr>\n",
       "      <th>4</th>\n",
       "      <td>27</td>\n",
       "      <td>13</td>\n",
       "      <td>13</td>\n",
       "      <td>1.230924</td>\n",
       "    </tr>\n",
       "  </tbody>\n",
       "</table>\n",
       "</div>"
      ],
      "text/plain": [
       "    0   1   2         y\n",
       "0  56  18  27  2.926144\n",
       "1  81  57   3  4.744364\n",
       "2  25   9  11  1.439488\n",
       "3  20  13  30  0.569621\n",
       "4  27  13  13  1.230924"
      ]
     },
     "execution_count": 68,
     "metadata": {},
     "output_type": "execute_result"
    }
   ],
   "source": [
    "data = pd.read_csv('data_skew.csv')\n",
    "data.head()"
   ]
  },
  {
   "cell_type": "code",
   "execution_count": 70,
   "metadata": {},
   "outputs": [],
   "source": [
    "X = data.iloc[:,:-1]\n",
    "y = data.iloc[:,-1]"
   ]
  },
  {
   "cell_type": "code",
   "execution_count": 71,
   "metadata": {},
   "outputs": [
    {
     "data": {
      "text/plain": [
       "((1000, 3), (1000,))"
      ]
     },
     "execution_count": 71,
     "metadata": {},
     "output_type": "execute_result"
    }
   ],
   "source": [
    "X.shape, y.shape"
   ]
  },
  {
   "cell_type": "code",
   "execution_count": 72,
   "metadata": {},
   "outputs": [
    {
     "data": {
      "text/plain": [
       "Text(0.5, 0, 'value')"
      ]
     },
     "execution_count": 72,
     "metadata": {},
     "output_type": "execute_result"
    },
    {
     "data": {
      "image/png": "[encoded data removed]",
      "text/plain": [
       "<Figure size 432x288 with 1 Axes>"
      ]
     },
     "metadata": {
      "needs_background": "light"
     },
     "output_type": "display_data"
    }
   ],
   "source": [
    "plt.xlim(0,160)\n",
    "plt.ylim(0,70)\n",
    "\n",
    "bins = np.bincount(X.iloc[:,1])\n",
    "plt.bar(range(len(bins)), bins)\n",
    "plt.ylabel('count')\n",
    "plt.xlabel('value')"
   ]
  },
  {
   "cell_type": "code",
   "execution_count": 74,
   "metadata": {},
   "outputs": [],
   "source": [
    "X_train, X_test, y_train, y_test = train_test_split(X, y, random_state = 0)"
   ]
  },
  {
   "cell_type": "code",
   "execution_count": 75,
   "metadata": {},
   "outputs": [
    {
     "data": {
      "text/plain": [
       "0.8850473651140385"
      ]
     },
     "execution_count": 75,
     "metadata": {},
     "output_type": "execute_result"
    }
   ],
   "source": [
    "from sklearn.neighbors import KNeighborsRegressor\n",
    "#모델선택\n",
    "knn = KNeighborsRegressor(n_neighbors = 3)\n",
    "#모델학습\n",
    "knn.fit(X_train,y_train)\n",
    "#모델평가\n",
    "knn.score(X_train,y_train)"
   ]
  },
  {
   "cell_type": "code",
   "execution_count": 76,
   "metadata": {},
   "outputs": [],
   "source": [
    "X_train_log = np.log(X_train + 1)\n",
    "X_test_log = np.log(X_test + 1)"
   ]
  },
  {
   "cell_type": "code",
   "execution_count": 77,
   "metadata": {},
   "outputs": [
    {
     "data": {
      "text/plain": [
       "Text(0.5, 0, 'value')"
      ]
     },
     "execution_count": 77,
     "metadata": {},
     "output_type": "execute_result"
    },
    {
     "data": {
      "image/png": "[encoded data removed]",
      "text/plain": [
       "<Figure size 432x288 with 1 Axes>"
      ]
     },
     "metadata": {
      "needs_background": "light"
     },
     "output_type": "display_data"
    }
   ],
   "source": [
    "plt.hist(X_train_log.iloc[:,0], bins = 25)\n",
    "plt.ylabel('count')\n",
    "plt.xlabel('value')"
   ]
  },
  {
   "cell_type": "code",
   "execution_count": 78,
   "metadata": {},
   "outputs": [
    {
     "data": {
      "text/plain": [
       "0.9132914933308882"
      ]
     },
     "execution_count": 78,
     "metadata": {},
     "output_type": "execute_result"
    }
   ],
   "source": [
    "knn.fit(X_train_log, y_train)\n",
    "knn.score(X_train_log, y_train)\n",
    "\n",
    "# 만약 데이터가 오른쪽으로 분포가 쏠려있다면? -> 지수함수를 써서 변환\n",
    "\n",
    "# 0.8850473651140385  -> 0.9132914933308882 성능 개선"
   ]
  },
  {
   "cell_type": "code",
   "execution_count": null,
   "metadata": {},
   "outputs": [],
   "source": []
  },
  {
   "cell_type": "code",
   "execution_count": null,
   "metadata": {},
   "outputs": [],
   "source": []
  },
  {
   "cell_type": "code",
   "execution_count": null,
   "metadata": {},
   "outputs": [],
   "source": []
  },
  {
   "cell_type": "code",
   "execution_count": null,
   "metadata": {},
   "outputs": [],
   "source": []
  },
  {
   "cell_type": "code",
   "execution_count": null,
   "metadata": {},
   "outputs": [],
   "source": []
  },
  {
   "cell_type": "code",
   "execution_count": null,
   "metadata": {},
   "outputs": [],
   "source": []
  },
  {
   "cell_type": "code",
   "execution_count": null,
   "metadata": {},
   "outputs": [],
   "source": []
  },
  {
   "cell_type": "code",
   "execution_count": null,
   "metadata": {},
   "outputs": [],
   "source": []
  },
  {
   "cell_type": "code",
   "execution_count": null,
   "metadata": {},
   "outputs": [],
   "source": []
  },
  {
   "cell_type": "code",
   "execution_count": null,
   "metadata": {},
   "outputs": [],
   "source": []
  },
  {
   "cell_type": "code",
   "execution_count": null,
   "metadata": {},
   "outputs": [],
   "source": []
  },
  {
   "cell_type": "code",
   "execution_count": null,
   "metadata": {},
   "outputs": [],
   "source": []
  },
  {
   "cell_type": "code",
   "execution_count": null,
   "metadata": {},
   "outputs": [],
   "source": []
  },
  {
   "cell_type": "code",
   "execution_count": null,
   "metadata": {},
   "outputs": [],
   "source": []
  }
 ],
 "metadata": {
  "kernelspec": {
   "display_name": "Python 3",
   "language": "python",
   "name": "python3"
  },
  "language_info": {
   "codemirror_mode": {
    "name": "ipython",
    "version": 3
   },
   "file_extension": ".py",
   "mimetype": "text/x-python",
   "name": "python",
   "nbconvert_exporter": "python",
   "pygments_lexer": "ipython3",
   "version": "3.6.12"
  }
 },
 "nbformat": 4,
 "nbformat_minor": 4
}
