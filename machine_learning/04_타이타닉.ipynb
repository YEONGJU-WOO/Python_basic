{
 "cells": [
  {
   "cell_type": "markdown",
   "metadata": {},
   "source": [
    "## 목표\n",
    "- 타이타닉 데이터를 생존/사망자 예측\n",
    "- 머신러닝의 전체과정을 진행해보자"
   ]
  },
  {
   "cell_type": "markdown",
   "metadata": {},
   "source": [
    "### 머신러닝\n",
    "- 문제정의\n",
    "- 데이터 수집\n",
    "- 데이터 전처리\n",
    "- 탐색적 데이터 분석EDA(시각화)\n",
    "--------------------------------------------------------(빅데이터, 머신러닝)\n",
    "- 모델 선택\n",
    "- 모델 학습\n",
    "- 모델 평가\n",
    "- 추론(예측)"
   ]
  },
  {
   "cell_type": "markdown",
   "metadata": {},
   "source": [
    "### 1. 문제정의\n",
    "- 생존자/사망자를 예측\n",
    "- Kaggle 경진대회에서 높은 순위를 받아보자\n",
    "- 머신러닝 과정을 전체적으로 체험해보자"
   ]
  },
  {
   "cell_type": "markdown",
   "metadata": {},
   "source": [
    "### 2.데이터 수집\n",
    "- Kaggel 사이트에서 train.csv, test.csv 다운"
   ]
  },
  {
   "cell_type": "code",
   "execution_count": 1,
   "metadata": {},
   "outputs": [],
   "source": [
    "import warnings\n",
    "warnings.filterwarnings('ignore') #경고를 무시함"
   ]
  },
  {
   "cell_type": "code",
   "execution_count": 2,
   "metadata": {},
   "outputs": [],
   "source": [
    "import numpy as np\n",
    "import pandas as pd\n",
    "import matplotlib.pyplot as plt\n",
    "%matplotlib inline"
   ]
  },
  {
   "cell_type": "code",
   "execution_count": 3,
   "metadata": {},
   "outputs": [
    {
     "data": {
      "text/plain": [
       "((891, 11), (418, 10))"
      ]
     },
     "execution_count": 3,
     "metadata": {},
     "output_type": "execute_result"
    }
   ],
   "source": [
    "train = pd.read_csv('smhrd20210107/titanic_train.csv', index_col = 'PassengerId')\n",
    "test = pd.read_csv('smhrd20210107/titanic_test.csv', index_col = 'PassengerId')\n",
    "\n",
    "train.shape, test.shape"
   ]
  },
  {
   "cell_type": "code",
   "execution_count": 4,
   "metadata": {},
   "outputs": [
    {
     "data": {
      "text/plain": [
       "Index(['Survived', 'Pclass', 'Name', 'Sex', 'Age', 'SibSp', 'Parch', 'Ticket',\n",
       "       'Fare', 'Cabin', 'Embarked'],\n",
       "      dtype='object')"
      ]
     },
     "execution_count": 4,
     "metadata": {},
     "output_type": "execute_result"
    }
   ],
   "source": [
    "train.columns"
   ]
  },
  {
   "cell_type": "code",
   "execution_count": 5,
   "metadata": {},
   "outputs": [
    {
     "data": {
      "text/html": [
       "<div>\n",
       "<style scoped>\n",
       "    .dataframe tbody tr th:only-of-type {\n",
       "        vertical-align: middle;\n",
       "    }\n",
       "\n",
       "    .dataframe tbody tr th {\n",
       "        vertical-align: top;\n",
       "    }\n",
       "\n",
       "    .dataframe thead th {\n",
       "        text-align: right;\n",
       "    }\n",
       "</style>\n",
       "<table border=\"1\" class=\"dataframe\">\n",
       "  <thead>\n",
       "    <tr style=\"text-align: right;\">\n",
       "      <th></th>\n",
       "      <th>Survived</th>\n",
       "      <th>Pclass</th>\n",
       "      <th>Name</th>\n",
       "      <th>Sex</th>\n",
       "      <th>Age</th>\n",
       "      <th>SibSp</th>\n",
       "      <th>Parch</th>\n",
       "      <th>Ticket</th>\n",
       "      <th>Fare</th>\n",
       "      <th>Cabin</th>\n",
       "      <th>Embarked</th>\n",
       "    </tr>\n",
       "    <tr>\n",
       "      <th>PassengerId</th>\n",
       "      <th></th>\n",
       "      <th></th>\n",
       "      <th></th>\n",
       "      <th></th>\n",
       "      <th></th>\n",
       "      <th></th>\n",
       "      <th></th>\n",
       "      <th></th>\n",
       "      <th></th>\n",
       "      <th></th>\n",
       "      <th></th>\n",
       "    </tr>\n",
       "  </thead>\n",
       "  <tbody>\n",
       "    <tr>\n",
       "      <th>1</th>\n",
       "      <td>0</td>\n",
       "      <td>3</td>\n",
       "      <td>Braund, Mr. Owen Harris</td>\n",
       "      <td>male</td>\n",
       "      <td>22.0</td>\n",
       "      <td>1</td>\n",
       "      <td>0</td>\n",
       "      <td>A/5 21171</td>\n",
       "      <td>7.2500</td>\n",
       "      <td>NaN</td>\n",
       "      <td>S</td>\n",
       "    </tr>\n",
       "    <tr>\n",
       "      <th>2</th>\n",
       "      <td>1</td>\n",
       "      <td>1</td>\n",
       "      <td>Cumings, Mrs. John Bradley (Florence Briggs Th...</td>\n",
       "      <td>female</td>\n",
       "      <td>38.0</td>\n",
       "      <td>1</td>\n",
       "      <td>0</td>\n",
       "      <td>PC 17599</td>\n",
       "      <td>71.2833</td>\n",
       "      <td>C85</td>\n",
       "      <td>C</td>\n",
       "    </tr>\n",
       "    <tr>\n",
       "      <th>3</th>\n",
       "      <td>1</td>\n",
       "      <td>3</td>\n",
       "      <td>Heikkinen, Miss. Laina</td>\n",
       "      <td>female</td>\n",
       "      <td>26.0</td>\n",
       "      <td>0</td>\n",
       "      <td>0</td>\n",
       "      <td>STON/O2. 3101282</td>\n",
       "      <td>7.9250</td>\n",
       "      <td>NaN</td>\n",
       "      <td>S</td>\n",
       "    </tr>\n",
       "    <tr>\n",
       "      <th>4</th>\n",
       "      <td>1</td>\n",
       "      <td>1</td>\n",
       "      <td>Futrelle, Mrs. Jacques Heath (Lily May Peel)</td>\n",
       "      <td>female</td>\n",
       "      <td>35.0</td>\n",
       "      <td>1</td>\n",
       "      <td>0</td>\n",
       "      <td>113803</td>\n",
       "      <td>53.1000</td>\n",
       "      <td>C123</td>\n",
       "      <td>S</td>\n",
       "    </tr>\n",
       "    <tr>\n",
       "      <th>5</th>\n",
       "      <td>0</td>\n",
       "      <td>3</td>\n",
       "      <td>Allen, Mr. William Henry</td>\n",
       "      <td>male</td>\n",
       "      <td>35.0</td>\n",
       "      <td>0</td>\n",
       "      <td>0</td>\n",
       "      <td>373450</td>\n",
       "      <td>8.0500</td>\n",
       "      <td>NaN</td>\n",
       "      <td>S</td>\n",
       "    </tr>\n",
       "  </tbody>\n",
       "</table>\n",
       "</div>"
      ],
      "text/plain": [
       "             Survived  Pclass  \\\n",
       "PassengerId                     \n",
       "1                   0       3   \n",
       "2                   1       1   \n",
       "3                   1       3   \n",
       "4                   1       1   \n",
       "5                   0       3   \n",
       "\n",
       "                                                          Name     Sex   Age  \\\n",
       "PassengerId                                                                    \n",
       "1                                      Braund, Mr. Owen Harris    male  22.0   \n",
       "2            Cumings, Mrs. John Bradley (Florence Briggs Th...  female  38.0   \n",
       "3                                       Heikkinen, Miss. Laina  female  26.0   \n",
       "4                 Futrelle, Mrs. Jacques Heath (Lily May Peel)  female  35.0   \n",
       "5                                     Allen, Mr. William Henry    male  35.0   \n",
       "\n",
       "             SibSp  Parch            Ticket     Fare Cabin Embarked  \n",
       "PassengerId                                                          \n",
       "1                1      0         A/5 21171   7.2500   NaN        S  \n",
       "2                1      0          PC 17599  71.2833   C85        C  \n",
       "3                0      0  STON/O2. 3101282   7.9250   NaN        S  \n",
       "4                1      0            113803  53.1000  C123        S  \n",
       "5                0      0            373450   8.0500   NaN        S  "
      ]
     },
     "execution_count": 5,
     "metadata": {},
     "output_type": "execute_result"
    }
   ],
   "source": [
    "train.head()"
   ]
  },
  {
   "cell_type": "code",
   "execution_count": 6,
   "metadata": {},
   "outputs": [],
   "source": [
    "y = train['Survived']\n",
    "train = train.drop('Survived', axis = 1)"
   ]
  },
  {
   "cell_type": "code",
   "execution_count": 7,
   "metadata": {},
   "outputs": [
    {
     "data": {
      "text/plain": [
       "(891, 10)"
      ]
     },
     "execution_count": 7,
     "metadata": {},
     "output_type": "execute_result"
    }
   ],
   "source": [
    "train.shape"
   ]
  },
  {
   "cell_type": "markdown",
   "metadata": {},
   "source": [
    "### 3~4. 데이터 전처리 및 데이터 탐색(EDA)"
   ]
  },
  {
   "cell_type": "markdown",
   "metadata": {},
   "source": [
    "### 결측치(null data)확인"
   ]
  },
  {
   "cell_type": "code",
   "execution_count": 8,
   "metadata": {},
   "outputs": [
    {
     "name": "stdout",
     "output_type": "stream",
     "text": [
      "<class 'pandas.core.frame.DataFrame'>\n",
      "Int64Index: 891 entries, 1 to 891\n",
      "Data columns (total 10 columns):\n",
      " #   Column    Non-Null Count  Dtype  \n",
      "---  ------    --------------  -----  \n",
      " 0   Pclass    891 non-null    int64  \n",
      " 1   Name      891 non-null    object \n",
      " 2   Sex       891 non-null    object \n",
      " 3   Age       714 non-null    float64\n",
      " 4   SibSp     891 non-null    int64  \n",
      " 5   Parch     891 non-null    int64  \n",
      " 6   Ticket    891 non-null    object \n",
      " 7   Fare      891 non-null    float64\n",
      " 8   Cabin     204 non-null    object \n",
      " 9   Embarked  889 non-null    object \n",
      "dtypes: float64(2), int64(3), object(5)\n",
      "memory usage: 76.6+ KB\n"
     ]
    }
   ],
   "source": [
    "train.info()"
   ]
  },
  {
   "cell_type": "code",
   "execution_count": 9,
   "metadata": {},
   "outputs": [
    {
     "data": {
      "text/plain": [
       "Pclass        0\n",
       "Name          0\n",
       "Sex           0\n",
       "Age         177\n",
       "SibSp         0\n",
       "Parch         0\n",
       "Ticket        0\n",
       "Fare          0\n",
       "Cabin       687\n",
       "Embarked      2\n",
       "dtype: int64"
      ]
     },
     "execution_count": 9,
     "metadata": {},
     "output_type": "execute_result"
    }
   ],
   "source": [
    "train.isnull().sum()"
   ]
  },
  {
   "cell_type": "code",
   "execution_count": 10,
   "metadata": {},
   "outputs": [
    {
     "data": {
      "text/html": [
       "<div>\n",
       "<style scoped>\n",
       "    .dataframe tbody tr th:only-of-type {\n",
       "        vertical-align: middle;\n",
       "    }\n",
       "\n",
       "    .dataframe tbody tr th {\n",
       "        vertical-align: top;\n",
       "    }\n",
       "\n",
       "    .dataframe thead th {\n",
       "        text-align: right;\n",
       "    }\n",
       "</style>\n",
       "<table border=\"1\" class=\"dataframe\">\n",
       "  <thead>\n",
       "    <tr style=\"text-align: right;\">\n",
       "      <th></th>\n",
       "      <th>Pclass</th>\n",
       "      <th>Age</th>\n",
       "      <th>SibSp</th>\n",
       "      <th>Parch</th>\n",
       "      <th>Fare</th>\n",
       "    </tr>\n",
       "  </thead>\n",
       "  <tbody>\n",
       "    <tr>\n",
       "      <th>count</th>\n",
       "      <td>891.000000</td>\n",
       "      <td>714.000000</td>\n",
       "      <td>891.000000</td>\n",
       "      <td>891.000000</td>\n",
       "      <td>891.000000</td>\n",
       "    </tr>\n",
       "    <tr>\n",
       "      <th>mean</th>\n",
       "      <td>2.308642</td>\n",
       "      <td>29.699118</td>\n",
       "      <td>0.523008</td>\n",
       "      <td>0.381594</td>\n",
       "      <td>32.204208</td>\n",
       "    </tr>\n",
       "    <tr>\n",
       "      <th>std</th>\n",
       "      <td>0.836071</td>\n",
       "      <td>14.526497</td>\n",
       "      <td>1.102743</td>\n",
       "      <td>0.806057</td>\n",
       "      <td>49.693429</td>\n",
       "    </tr>\n",
       "    <tr>\n",
       "      <th>min</th>\n",
       "      <td>1.000000</td>\n",
       "      <td>0.420000</td>\n",
       "      <td>0.000000</td>\n",
       "      <td>0.000000</td>\n",
       "      <td>0.000000</td>\n",
       "    </tr>\n",
       "    <tr>\n",
       "      <th>25%</th>\n",
       "      <td>2.000000</td>\n",
       "      <td>20.125000</td>\n",
       "      <td>0.000000</td>\n",
       "      <td>0.000000</td>\n",
       "      <td>7.910400</td>\n",
       "    </tr>\n",
       "    <tr>\n",
       "      <th>50%</th>\n",
       "      <td>3.000000</td>\n",
       "      <td>28.000000</td>\n",
       "      <td>0.000000</td>\n",
       "      <td>0.000000</td>\n",
       "      <td>14.454200</td>\n",
       "    </tr>\n",
       "    <tr>\n",
       "      <th>75%</th>\n",
       "      <td>3.000000</td>\n",
       "      <td>38.000000</td>\n",
       "      <td>1.000000</td>\n",
       "      <td>0.000000</td>\n",
       "      <td>31.000000</td>\n",
       "    </tr>\n",
       "    <tr>\n",
       "      <th>max</th>\n",
       "      <td>3.000000</td>\n",
       "      <td>80.000000</td>\n",
       "      <td>8.000000</td>\n",
       "      <td>6.000000</td>\n",
       "      <td>512.329200</td>\n",
       "    </tr>\n",
       "  </tbody>\n",
       "</table>\n",
       "</div>"
      ],
      "text/plain": [
       "           Pclass         Age       SibSp       Parch        Fare\n",
       "count  891.000000  714.000000  891.000000  891.000000  891.000000\n",
       "mean     2.308642   29.699118    0.523008    0.381594   32.204208\n",
       "std      0.836071   14.526497    1.102743    0.806057   49.693429\n",
       "min      1.000000    0.420000    0.000000    0.000000    0.000000\n",
       "25%      2.000000   20.125000    0.000000    0.000000    7.910400\n",
       "50%      3.000000   28.000000    0.000000    0.000000   14.454200\n",
       "75%      3.000000   38.000000    1.000000    0.000000   31.000000\n",
       "max      3.000000   80.000000    8.000000    6.000000  512.329200"
      ]
     },
     "execution_count": 10,
     "metadata": {},
     "output_type": "execute_result"
    }
   ],
   "source": [
    "train.describe()"
   ]
  },
  {
   "cell_type": "markdown",
   "metadata": {},
   "source": [
    "### 결측치처리\n",
    "1. 결측치 자체를 삭제\n",
    "\n",
    "2. 결측치를 대체(평균, 중앙값, 최빈값, 예측값)\n",
    "\n",
    "3. 결측치로 표기"
   ]
  },
  {
   "cell_type": "markdown",
   "metadata": {},
   "source": [
    "Age 채우기"
   ]
  },
  {
   "cell_type": "markdown",
   "metadata": {},
   "source": [
    "- 단순 기술통계차로 채우지 않고 다른 컬럼과 상관관계를 이용해 결측치를 채워보자\n",
    "- Age와 다른컬럼간 상관관계를 알아보자"
   ]
  },
  {
   "cell_type": "code",
   "execution_count": 11,
   "metadata": {},
   "outputs": [
    {
     "data": {
      "text/html": [
       "<div>\n",
       "<style scoped>\n",
       "    .dataframe tbody tr th:only-of-type {\n",
       "        vertical-align: middle;\n",
       "    }\n",
       "\n",
       "    .dataframe tbody tr th {\n",
       "        vertical-align: top;\n",
       "    }\n",
       "\n",
       "    .dataframe thead th {\n",
       "        text-align: right;\n",
       "    }\n",
       "</style>\n",
       "<table border=\"1\" class=\"dataframe\">\n",
       "  <thead>\n",
       "    <tr style=\"text-align: right;\">\n",
       "      <th></th>\n",
       "      <th>Pclass</th>\n",
       "      <th>Age</th>\n",
       "      <th>SibSp</th>\n",
       "      <th>Parch</th>\n",
       "      <th>Fare</th>\n",
       "    </tr>\n",
       "  </thead>\n",
       "  <tbody>\n",
       "    <tr>\n",
       "      <th>Pclass</th>\n",
       "      <td>1.000000</td>\n",
       "      <td>-0.369226</td>\n",
       "      <td>0.083081</td>\n",
       "      <td>0.018443</td>\n",
       "      <td>-0.549500</td>\n",
       "    </tr>\n",
       "    <tr>\n",
       "      <th>Age</th>\n",
       "      <td>-0.369226</td>\n",
       "      <td>1.000000</td>\n",
       "      <td>-0.308247</td>\n",
       "      <td>-0.189119</td>\n",
       "      <td>0.096067</td>\n",
       "    </tr>\n",
       "    <tr>\n",
       "      <th>SibSp</th>\n",
       "      <td>0.083081</td>\n",
       "      <td>-0.308247</td>\n",
       "      <td>1.000000</td>\n",
       "      <td>0.414838</td>\n",
       "      <td>0.159651</td>\n",
       "    </tr>\n",
       "    <tr>\n",
       "      <th>Parch</th>\n",
       "      <td>0.018443</td>\n",
       "      <td>-0.189119</td>\n",
       "      <td>0.414838</td>\n",
       "      <td>1.000000</td>\n",
       "      <td>0.216225</td>\n",
       "    </tr>\n",
       "    <tr>\n",
       "      <th>Fare</th>\n",
       "      <td>-0.549500</td>\n",
       "      <td>0.096067</td>\n",
       "      <td>0.159651</td>\n",
       "      <td>0.216225</td>\n",
       "      <td>1.000000</td>\n",
       "    </tr>\n",
       "  </tbody>\n",
       "</table>\n",
       "</div>"
      ],
      "text/plain": [
       "          Pclass       Age     SibSp     Parch      Fare\n",
       "Pclass  1.000000 -0.369226  0.083081  0.018443 -0.549500\n",
       "Age    -0.369226  1.000000 -0.308247 -0.189119  0.096067\n",
       "SibSp   0.083081 -0.308247  1.000000  0.414838  0.159651\n",
       "Parch   0.018443 -0.189119  0.414838  1.000000  0.216225\n",
       "Fare   -0.549500  0.096067  0.159651  0.216225  1.000000"
      ]
     },
     "execution_count": 11,
     "metadata": {},
     "output_type": "execute_result"
    }
   ],
   "source": [
    "train.corr()"
   ]
  },
  {
   "cell_type": "code",
   "execution_count": 12,
   "metadata": {},
   "outputs": [
    {
     "data": {
      "text/html": [
       "<div>\n",
       "<style scoped>\n",
       "    .dataframe tbody tr th:only-of-type {\n",
       "        vertical-align: middle;\n",
       "    }\n",
       "\n",
       "    .dataframe tbody tr th {\n",
       "        vertical-align: top;\n",
       "    }\n",
       "\n",
       "    .dataframe thead th {\n",
       "        text-align: right;\n",
       "    }\n",
       "</style>\n",
       "<table border=\"1\" class=\"dataframe\">\n",
       "  <thead>\n",
       "    <tr style=\"text-align: right;\">\n",
       "      <th></th>\n",
       "      <th></th>\n",
       "      <th>Age</th>\n",
       "    </tr>\n",
       "    <tr>\n",
       "      <th>Pclass</th>\n",
       "      <th>Sex</th>\n",
       "      <th></th>\n",
       "    </tr>\n",
       "  </thead>\n",
       "  <tbody>\n",
       "    <tr>\n",
       "      <th rowspan=\"2\" valign=\"top\">1</th>\n",
       "      <th>female</th>\n",
       "      <td>34.611765</td>\n",
       "    </tr>\n",
       "    <tr>\n",
       "      <th>male</th>\n",
       "      <td>41.281386</td>\n",
       "    </tr>\n",
       "    <tr>\n",
       "      <th rowspan=\"2\" valign=\"top\">2</th>\n",
       "      <th>female</th>\n",
       "      <td>28.722973</td>\n",
       "    </tr>\n",
       "    <tr>\n",
       "      <th>male</th>\n",
       "      <td>30.740707</td>\n",
       "    </tr>\n",
       "    <tr>\n",
       "      <th rowspan=\"2\" valign=\"top\">3</th>\n",
       "      <th>female</th>\n",
       "      <td>21.750000</td>\n",
       "    </tr>\n",
       "    <tr>\n",
       "      <th>male</th>\n",
       "      <td>26.507589</td>\n",
       "    </tr>\n",
       "  </tbody>\n",
       "</table>\n",
       "</div>"
      ],
      "text/plain": [
       "                     Age\n",
       "Pclass Sex              \n",
       "1      female  34.611765\n",
       "       male    41.281386\n",
       "2      female  28.722973\n",
       "       male    30.740707\n",
       "3      female  21.750000\n",
       "       male    26.507589"
      ]
     },
     "execution_count": 12,
     "metadata": {},
     "output_type": "execute_result"
    }
   ],
   "source": [
    "pt1 = train.pivot_table(values = 'Age',\n",
    "                       index= ['Pclass','Sex'],\n",
    "                       aggfunc='mean') #aggfunc: 어떤 값으로 확인할지\n",
    "\n",
    "pt1"
   ]
  },
  {
   "cell_type": "code",
   "execution_count": 13,
   "metadata": {},
   "outputs": [
    {
     "data": {
      "text/plain": [
       "Age    26.507589\n",
       "Name: (3, male), dtype: float64"
      ]
     },
     "execution_count": 13,
     "metadata": {},
     "output_type": "execute_result"
    }
   ],
   "source": [
    "#피벗 테이블에 접근하는 방법\n",
    "# 피벗테이블명.loc[첫번째컬럼명,두번째컬럼명.....]\n",
    "pt1.loc[3,'male']"
   ]
  },
  {
   "cell_type": "code",
   "execution_count": 14,
   "metadata": {},
   "outputs": [],
   "source": [
    "# Age의 결측치를 피벗테이블 참조해서 채운다.\n",
    "# row: 데이터 1개\n",
    "def fill_Age(row):\n",
    "    # 받은 데이터의 Age가 결측치인지 확인\n",
    "    if np.isnan(row['Age']):\n",
    "    # 결측이 있다면 피벗테이블에서 동일한 Pclass와 Sex인 값을 가져와서 반환한다.\n",
    "        return pt1.loc[row['Pclass'], row['Sex']]\n",
    "    else:\n",
    "    # 결측치가 없다면 Age 값을 반환\n",
    "        return row['Age']"
   ]
  },
  {
   "cell_type": "code",
   "execution_count": 15,
   "metadata": {},
   "outputs": [],
   "source": [
    "# apply() 함수로 결측치를 채워준다.\n",
    "# train 데이터에 대해서 fill_Age() 함수로 실행한다.\n",
    "# axis = 1 : 1행의 데이터를 호출한 함수로 보낸다.\n",
    "# 나이는 정수형 : 함수에 넘어온 값이 실수이므로 정수형으로 변환해서 저장\n",
    "train.Age = train.apply(fill_Age, axis =1).astype('int64')"
   ]
  },
  {
   "cell_type": "code",
   "execution_count": 16,
   "metadata": {
    "scrolled": true
   },
   "outputs": [
    {
     "name": "stdout",
     "output_type": "stream",
     "text": [
      "<class 'pandas.core.frame.DataFrame'>\n",
      "Int64Index: 891 entries, 1 to 891\n",
      "Data columns (total 10 columns):\n",
      " #   Column    Non-Null Count  Dtype  \n",
      "---  ------    --------------  -----  \n",
      " 0   Pclass    891 non-null    int64  \n",
      " 1   Name      891 non-null    object \n",
      " 2   Sex       891 non-null    object \n",
      " 3   Age       891 non-null    int64  \n",
      " 4   SibSp     891 non-null    int64  \n",
      " 5   Parch     891 non-null    int64  \n",
      " 6   Ticket    891 non-null    object \n",
      " 7   Fare      891 non-null    float64\n",
      " 8   Cabin     204 non-null    object \n",
      " 9   Embarked  889 non-null    object \n",
      "dtypes: float64(1), int64(4), object(5)\n",
      "memory usage: 76.6+ KB\n"
     ]
    }
   ],
   "source": [
    "train.info()"
   ]
  },
  {
   "cell_type": "code",
   "execution_count": 17,
   "metadata": {},
   "outputs": [],
   "source": [
    "test.Age = test.apply(fill_Age, axis =1).astype('int64')"
   ]
  },
  {
   "cell_type": "code",
   "execution_count": 18,
   "metadata": {},
   "outputs": [
    {
     "name": "stdout",
     "output_type": "stream",
     "text": [
      "<class 'pandas.core.frame.DataFrame'>\n",
      "Int64Index: 418 entries, 892 to 1309\n",
      "Data columns (total 10 columns):\n",
      " #   Column    Non-Null Count  Dtype  \n",
      "---  ------    --------------  -----  \n",
      " 0   Pclass    418 non-null    int64  \n",
      " 1   Name      418 non-null    object \n",
      " 2   Sex       418 non-null    object \n",
      " 3   Age       418 non-null    int64  \n",
      " 4   SibSp     418 non-null    int64  \n",
      " 5   Parch     418 non-null    int64  \n",
      " 6   Ticket    418 non-null    object \n",
      " 7   Fare      417 non-null    float64\n",
      " 8   Cabin     91 non-null     object \n",
      " 9   Embarked  418 non-null    object \n",
      "dtypes: float64(1), int64(4), object(5)\n",
      "memory usage: 35.9+ KB\n"
     ]
    }
   ],
   "source": [
    "test.info()"
   ]
  },
  {
   "cell_type": "markdown",
   "metadata": {},
   "source": [
    "Embarked 결측치 채우기"
   ]
  },
  {
   "cell_type": "code",
   "execution_count": 19,
   "metadata": {},
   "outputs": [],
   "source": [
    "# 훈련데이터에 있는 결측치 2개\n",
    "# 결측치 수가 적은 범주형 데이터의 경우 : 가장 많은 수의 클래스로 채워줌\n",
    "# 결측치 수가 적은 수치형 데이터의 경우 : 평균이나 중간값으로 채워줌\n",
    "# Embarked -> 범주형 데이터"
   ]
  },
  {
   "cell_type": "code",
   "execution_count": 20,
   "metadata": {},
   "outputs": [
    {
     "data": {
      "text/plain": [
       "S    644\n",
       "C    168\n",
       "Q     77\n",
       "Name: Embarked, dtype: int64"
      ]
     },
     "execution_count": 20,
     "metadata": {},
     "output_type": "execute_result"
    }
   ],
   "source": [
    "train.Embarked.value_counts()"
   ]
  },
  {
   "cell_type": "code",
   "execution_count": 21,
   "metadata": {},
   "outputs": [],
   "source": [
    "# 가장 많은 S로 채운다.\n",
    "train.Embarked = train.Embarked.fillna(\"S\")"
   ]
  },
  {
   "cell_type": "code",
   "execution_count": 22,
   "metadata": {},
   "outputs": [
    {
     "name": "stdout",
     "output_type": "stream",
     "text": [
      "<class 'pandas.core.frame.DataFrame'>\n",
      "Int64Index: 891 entries, 1 to 891\n",
      "Data columns (total 10 columns):\n",
      " #   Column    Non-Null Count  Dtype  \n",
      "---  ------    --------------  -----  \n",
      " 0   Pclass    891 non-null    int64  \n",
      " 1   Name      891 non-null    object \n",
      " 2   Sex       891 non-null    object \n",
      " 3   Age       891 non-null    int64  \n",
      " 4   SibSp     891 non-null    int64  \n",
      " 5   Parch     891 non-null    int64  \n",
      " 6   Ticket    891 non-null    object \n",
      " 7   Fare      891 non-null    float64\n",
      " 8   Cabin     204 non-null    object \n",
      " 9   Embarked  891 non-null    object \n",
      "dtypes: float64(1), int64(4), object(5)\n",
      "memory usage: 76.6+ KB\n"
     ]
    }
   ],
   "source": [
    "train.info()"
   ]
  },
  {
   "cell_type": "code",
   "execution_count": 23,
   "metadata": {},
   "outputs": [
    {
     "data": {
      "text/html": [
       "<div>\n",
       "<style scoped>\n",
       "    .dataframe tbody tr th:only-of-type {\n",
       "        vertical-align: middle;\n",
       "    }\n",
       "\n",
       "    .dataframe tbody tr th {\n",
       "        vertical-align: top;\n",
       "    }\n",
       "\n",
       "    .dataframe thead th {\n",
       "        text-align: right;\n",
       "    }\n",
       "</style>\n",
       "<table border=\"1\" class=\"dataframe\">\n",
       "  <thead>\n",
       "    <tr style=\"text-align: right;\">\n",
       "      <th></th>\n",
       "      <th></th>\n",
       "      <th>Fare</th>\n",
       "    </tr>\n",
       "    <tr>\n",
       "      <th>Pclass</th>\n",
       "      <th>Sex</th>\n",
       "      <th></th>\n",
       "    </tr>\n",
       "  </thead>\n",
       "  <tbody>\n",
       "    <tr>\n",
       "      <th rowspan=\"2\" valign=\"top\">1</th>\n",
       "      <th>female</th>\n",
       "      <td>106.125798</td>\n",
       "    </tr>\n",
       "    <tr>\n",
       "      <th>male</th>\n",
       "      <td>67.226127</td>\n",
       "    </tr>\n",
       "    <tr>\n",
       "      <th rowspan=\"2\" valign=\"top\">2</th>\n",
       "      <th>female</th>\n",
       "      <td>21.970121</td>\n",
       "    </tr>\n",
       "    <tr>\n",
       "      <th>male</th>\n",
       "      <td>19.741782</td>\n",
       "    </tr>\n",
       "    <tr>\n",
       "      <th rowspan=\"2\" valign=\"top\">3</th>\n",
       "      <th>female</th>\n",
       "      <td>16.118810</td>\n",
       "    </tr>\n",
       "    <tr>\n",
       "      <th>male</th>\n",
       "      <td>12.661633</td>\n",
       "    </tr>\n",
       "  </tbody>\n",
       "</table>\n",
       "</div>"
      ],
      "text/plain": [
       "                     Fare\n",
       "Pclass Sex               \n",
       "1      female  106.125798\n",
       "       male     67.226127\n",
       "2      female   21.970121\n",
       "       male     19.741782\n",
       "3      female   16.118810\n",
       "       male     12.661633"
      ]
     },
     "execution_count": 23,
     "metadata": {},
     "output_type": "execute_result"
    }
   ],
   "source": [
    "# Pclass 와 Sex를 기준으로 Fare의 평균을 피벗 테이블로 생성\n",
    "pt2 = train.pivot_table(values = 'Fare',\n",
    "                       index= ['Pclass','Sex'],\n",
    "                       aggfunc='mean') #aggfunc: 어떤 값으로 확인할지\n",
    "\n",
    "pt2"
   ]
  },
  {
   "cell_type": "code",
   "execution_count": 24,
   "metadata": {},
   "outputs": [],
   "source": [
    "# 결측치가 있는 Fare 데이터의 값을 채우는 함수\n",
    "def fill_Fare(row):\n",
    "    if np.isnan(row['Fare']):\n",
    "        return pt2.loc[row['Pclass'], row['Sex']]\n",
    "    else:\n",
    "        return row['Fare']"
   ]
  },
  {
   "cell_type": "code",
   "execution_count": 25,
   "metadata": {},
   "outputs": [
    {
     "data": {
      "text/html": [
       "<div>\n",
       "<style scoped>\n",
       "    .dataframe tbody tr th:only-of-type {\n",
       "        vertical-align: middle;\n",
       "    }\n",
       "\n",
       "    .dataframe tbody tr th {\n",
       "        vertical-align: top;\n",
       "    }\n",
       "\n",
       "    .dataframe thead th {\n",
       "        text-align: right;\n",
       "    }\n",
       "</style>\n",
       "<table border=\"1\" class=\"dataframe\">\n",
       "  <thead>\n",
       "    <tr style=\"text-align: right;\">\n",
       "      <th></th>\n",
       "      <th>Pclass</th>\n",
       "      <th>Name</th>\n",
       "      <th>Sex</th>\n",
       "      <th>Age</th>\n",
       "      <th>SibSp</th>\n",
       "      <th>Parch</th>\n",
       "      <th>Ticket</th>\n",
       "      <th>Fare</th>\n",
       "      <th>Cabin</th>\n",
       "      <th>Embarked</th>\n",
       "    </tr>\n",
       "    <tr>\n",
       "      <th>PassengerId</th>\n",
       "      <th></th>\n",
       "      <th></th>\n",
       "      <th></th>\n",
       "      <th></th>\n",
       "      <th></th>\n",
       "      <th></th>\n",
       "      <th></th>\n",
       "      <th></th>\n",
       "      <th></th>\n",
       "      <th></th>\n",
       "    </tr>\n",
       "  </thead>\n",
       "  <tbody>\n",
       "    <tr>\n",
       "      <th>1044</th>\n",
       "      <td>3</td>\n",
       "      <td>Storey, Mr. Thomas</td>\n",
       "      <td>male</td>\n",
       "      <td>60</td>\n",
       "      <td>0</td>\n",
       "      <td>0</td>\n",
       "      <td>3701</td>\n",
       "      <td>NaN</td>\n",
       "      <td>NaN</td>\n",
       "      <td>S</td>\n",
       "    </tr>\n",
       "  </tbody>\n",
       "</table>\n",
       "</div>"
      ],
      "text/plain": [
       "             Pclass                Name   Sex  Age  SibSp  Parch Ticket  Fare  \\\n",
       "PassengerId                                                                     \n",
       "1044              3  Storey, Mr. Thomas  male   60      0      0   3701   NaN   \n",
       "\n",
       "            Cabin Embarked  \n",
       "PassengerId                 \n",
       "1044          NaN        S  "
      ]
     },
     "execution_count": 25,
     "metadata": {},
     "output_type": "execute_result"
    }
   ],
   "source": [
    "# Fare 컬럼중에서 결츨치가 있는 데이터만 출력\n",
    "test[test['Fare'].isnull()]"
   ]
  },
  {
   "cell_type": "code",
   "execution_count": 26,
   "metadata": {},
   "outputs": [
    {
     "name": "stdout",
     "output_type": "stream",
     "text": [
      "<class 'pandas.core.frame.DataFrame'>\n",
      "Int64Index: 418 entries, 892 to 1309\n",
      "Data columns (total 10 columns):\n",
      " #   Column    Non-Null Count  Dtype  \n",
      "---  ------    --------------  -----  \n",
      " 0   Pclass    418 non-null    int64  \n",
      " 1   Name      418 non-null    object \n",
      " 2   Sex       418 non-null    object \n",
      " 3   Age       418 non-null    int64  \n",
      " 4   SibSp     418 non-null    int64  \n",
      " 5   Parch     418 non-null    int64  \n",
      " 6   Ticket    418 non-null    object \n",
      " 7   Fare      418 non-null    float64\n",
      " 8   Cabin     91 non-null     object \n",
      " 9   Embarked  418 non-null    object \n",
      "dtypes: float64(1), int64(4), object(5)\n",
      "memory usage: 35.9+ KB\n"
     ]
    }
   ],
   "source": [
    "# Fare 데이터의 결측치를 함수로 호출하여 채움\n",
    "test.Fare = test.apply(fill_Fare, axis =1).astype('float64')\n",
    "test.info()"
   ]
  },
  {
   "cell_type": "code",
   "execution_count": 27,
   "metadata": {},
   "outputs": [
    {
     "data": {
      "text/html": [
       "<div>\n",
       "<style scoped>\n",
       "    .dataframe tbody tr th:only-of-type {\n",
       "        vertical-align: middle;\n",
       "    }\n",
       "\n",
       "    .dataframe tbody tr th {\n",
       "        vertical-align: top;\n",
       "    }\n",
       "\n",
       "    .dataframe thead th {\n",
       "        text-align: right;\n",
       "    }\n",
       "</style>\n",
       "<table border=\"1\" class=\"dataframe\">\n",
       "  <thead>\n",
       "    <tr style=\"text-align: right;\">\n",
       "      <th></th>\n",
       "      <th>Pclass</th>\n",
       "      <th>Name</th>\n",
       "      <th>Sex</th>\n",
       "      <th>Age</th>\n",
       "      <th>SibSp</th>\n",
       "      <th>Parch</th>\n",
       "      <th>Ticket</th>\n",
       "      <th>Fare</th>\n",
       "      <th>Cabin</th>\n",
       "      <th>Embarked</th>\n",
       "    </tr>\n",
       "    <tr>\n",
       "      <th>PassengerId</th>\n",
       "      <th></th>\n",
       "      <th></th>\n",
       "      <th></th>\n",
       "      <th></th>\n",
       "      <th></th>\n",
       "      <th></th>\n",
       "      <th></th>\n",
       "      <th></th>\n",
       "      <th></th>\n",
       "      <th></th>\n",
       "    </tr>\n",
       "  </thead>\n",
       "  <tbody>\n",
       "    <tr>\n",
       "      <th>1044</th>\n",
       "      <td>3</td>\n",
       "      <td>Storey, Mr. Thomas</td>\n",
       "      <td>male</td>\n",
       "      <td>60</td>\n",
       "      <td>0</td>\n",
       "      <td>0</td>\n",
       "      <td>3701</td>\n",
       "      <td>12.661633</td>\n",
       "      <td>NaN</td>\n",
       "      <td>S</td>\n",
       "    </tr>\n",
       "  </tbody>\n",
       "</table>\n",
       "</div>"
      ],
      "text/plain": [
       "             Pclass                Name   Sex  Age  SibSp  Parch Ticket  \\\n",
       "PassengerId                                                               \n",
       "1044              3  Storey, Mr. Thomas  male   60      0      0   3701   \n",
       "\n",
       "                  Fare Cabin Embarked  \n",
       "PassengerId                            \n",
       "1044         12.661633   NaN        S  "
      ]
     },
     "execution_count": 27,
     "metadata": {},
     "output_type": "execute_result"
    }
   ],
   "source": [
    "test[test['Name'] == 'Storey, Mr. Thomas']"
   ]
  },
  {
   "cell_type": "code",
   "execution_count": 28,
   "metadata": {
    "scrolled": true
   },
   "outputs": [
    {
     "data": {
      "text/plain": [
       "array([nan, 'C85', 'C123', 'E46', 'G6', 'C103', 'D56', 'A6',\n",
       "       'C23 C25 C27', 'B78', 'D33', 'B30', 'C52', 'B28', 'C83', 'F33',\n",
       "       'F G73', 'E31', 'A5', 'D10 D12', 'D26', 'C110', 'B58 B60', 'E101',\n",
       "       'F E69', 'D47', 'B86', 'F2', 'C2', 'E33', 'B19', 'A7', 'C49', 'F4',\n",
       "       'A32', 'B4', 'B80', 'A31', 'D36', 'D15', 'C93', 'C78', 'D35',\n",
       "       'C87', 'B77', 'E67', 'B94', 'C125', 'C99', 'C118', 'D7', 'A19',\n",
       "       'B49', 'D', 'C22 C26', 'C106', 'C65', 'E36', 'C54',\n",
       "       'B57 B59 B63 B66', 'C7', 'E34', 'C32', 'B18', 'C124', 'C91', 'E40',\n",
       "       'T', 'C128', 'D37', 'B35', 'E50', 'C82', 'B96 B98', 'E10', 'E44',\n",
       "       'A34', 'C104', 'C111', 'C92', 'E38', 'D21', 'E12', 'E63', 'A14',\n",
       "       'B37', 'C30', 'D20', 'B79', 'E25', 'D46', 'B73', 'C95', 'B38',\n",
       "       'B39', 'B22', 'C86', 'C70', 'A16', 'C101', 'C68', 'A10', 'E68',\n",
       "       'B41', 'A20', 'D19', 'D50', 'D9', 'A23', 'B50', 'A26', 'D48',\n",
       "       'E58', 'C126', 'B71', 'B51 B53 B55', 'D49', 'B5', 'B20', 'F G63',\n",
       "       'C62 C64', 'E24', 'C90', 'C45', 'E8', 'B101', 'D45', 'C46', 'D30',\n",
       "       'E121', 'D11', 'E77', 'F38', 'B3', 'D6', 'B82 B84', 'D17', 'A36',\n",
       "       'B102', 'B69', 'E49', 'C47', 'D28', 'E17', 'A24', 'C50', 'B42',\n",
       "       'C148'], dtype=object)"
      ]
     },
     "execution_count": 28,
     "metadata": {},
     "output_type": "execute_result"
    }
   ],
   "source": [
    "train.Cabin.unique()"
   ]
  },
  {
   "cell_type": "code",
   "execution_count": 29,
   "metadata": {},
   "outputs": [
    {
     "data": {
      "text/plain": [
       "B96 B98        4\n",
       "G6             4\n",
       "C23 C25 C27    4\n",
       "F33            3\n",
       "C22 C26        3\n",
       "              ..\n",
       "D11            1\n",
       "B50            1\n",
       "B79            1\n",
       "E36            1\n",
       "C99            1\n",
       "Name: Cabin, Length: 147, dtype: int64"
      ]
     },
     "execution_count": 29,
     "metadata": {},
     "output_type": "execute_result"
    }
   ],
   "source": [
    "train.Cabin.value_counts()"
   ]
  },
  {
   "cell_type": "code",
   "execution_count": 30,
   "metadata": {},
   "outputs": [],
   "source": [
    "# 어느 클래스에 넣을지 판단하기 힘들 다수의 결측치는 임의의 값으로 치환\n",
    "# 객실번호 앞 알파벳에 속하지 않는 알파벳으로 결측치를 채움(M으로 채움)\n",
    "# Deck 컬럼을 추가해서 결측치를 채움\n",
    "train['Deck'] = train.Cabin.fillna('M')\n",
    "test['Deck'] = test.Cabin.fillna('M')"
   ]
  },
  {
   "cell_type": "code",
   "execution_count": 31,
   "metadata": {},
   "outputs": [
    {
     "name": "stdout",
     "output_type": "stream",
     "text": [
      "<class 'pandas.core.frame.DataFrame'>\n",
      "Int64Index: 891 entries, 1 to 891\n",
      "Data columns (total 11 columns):\n",
      " #   Column    Non-Null Count  Dtype  \n",
      "---  ------    --------------  -----  \n",
      " 0   Pclass    891 non-null    int64  \n",
      " 1   Name      891 non-null    object \n",
      " 2   Sex       891 non-null    object \n",
      " 3   Age       891 non-null    int64  \n",
      " 4   SibSp     891 non-null    int64  \n",
      " 5   Parch     891 non-null    int64  \n",
      " 6   Ticket    891 non-null    object \n",
      " 7   Fare      891 non-null    float64\n",
      " 8   Cabin     204 non-null    object \n",
      " 9   Embarked  891 non-null    object \n",
      " 10  Deck      891 non-null    object \n",
      "dtypes: float64(1), int64(4), object(6)\n",
      "memory usage: 83.5+ KB\n"
     ]
    }
   ],
   "source": [
    "train.info()"
   ]
  },
  {
   "cell_type": "code",
   "execution_count": 32,
   "metadata": {},
   "outputs": [
    {
     "name": "stdout",
     "output_type": "stream",
     "text": [
      "<class 'pandas.core.frame.DataFrame'>\n",
      "Int64Index: 418 entries, 892 to 1309\n",
      "Data columns (total 11 columns):\n",
      " #   Column    Non-Null Count  Dtype  \n",
      "---  ------    --------------  -----  \n",
      " 0   Pclass    418 non-null    int64  \n",
      " 1   Name      418 non-null    object \n",
      " 2   Sex       418 non-null    object \n",
      " 3   Age       418 non-null    int64  \n",
      " 4   SibSp     418 non-null    int64  \n",
      " 5   Parch     418 non-null    int64  \n",
      " 6   Ticket    418 non-null    object \n",
      " 7   Fare      418 non-null    float64\n",
      " 8   Cabin     91 non-null     object \n",
      " 9   Embarked  418 non-null    object \n",
      " 10  Deck      418 non-null    object \n",
      "dtypes: float64(1), int64(4), object(6)\n",
      "memory usage: 39.2+ KB\n"
     ]
    }
   ],
   "source": [
    "test.info()"
   ]
  },
  {
   "cell_type": "code",
   "execution_count": 33,
   "metadata": {
    "scrolled": true
   },
   "outputs": [
    {
     "data": {
      "text/plain": [
       "M              687\n",
       "C23 C25 C27      4\n",
       "G6               4\n",
       "B96 B98          4\n",
       "E101             3\n",
       "              ... \n",
       "C95              1\n",
       "D15              1\n",
       "A19              1\n",
       "C70              1\n",
       "C99              1\n",
       "Name: Deck, Length: 148, dtype: int64"
      ]
     },
     "execution_count": 33,
     "metadata": {},
     "output_type": "execute_result"
    }
   ],
   "source": [
    "train.Deck.value_counts()"
   ]
  },
  {
   "cell_type": "code",
   "execution_count": 34,
   "metadata": {},
   "outputs": [
    {
     "data": {
      "text/plain": [
       "M    687\n",
       "C     59\n",
       "B     47\n",
       "D     33\n",
       "E     32\n",
       "A     15\n",
       "F     13\n",
       "G      4\n",
       "T      1\n",
       "Name: Deck, dtype: int64"
      ]
     },
     "execution_count": 34,
     "metadata": {},
     "output_type": "execute_result"
    }
   ],
   "source": [
    "# 객실번호에서 첫번째 영문자만 잘라서 저장\n",
    "train.Deck = train.Deck.str[0]\n",
    "test.Deck = test.Deck.str[0]\n",
    "\n",
    "train.Deck.value_counts()"
   ]
  },
  {
   "cell_type": "code",
   "execution_count": 35,
   "metadata": {},
   "outputs": [
    {
     "data": {
      "text/plain": [
       "M    327\n",
       "C     35\n",
       "B     18\n",
       "D     13\n",
       "E      9\n",
       "F      8\n",
       "A      7\n",
       "G      1\n",
       "Name: Deck, dtype: int64"
      ]
     },
     "execution_count": 35,
     "metadata": {},
     "output_type": "execute_result"
    }
   ],
   "source": [
    "test.Deck.value_counts()"
   ]
  },
  {
   "cell_type": "code",
   "execution_count": 36,
   "metadata": {},
   "outputs": [
    {
     "name": "stdout",
     "output_type": "stream",
     "text": [
      "<class 'pandas.core.frame.DataFrame'>\n",
      "Int64Index: 891 entries, 1 to 891\n",
      "Data columns (total 10 columns):\n",
      " #   Column    Non-Null Count  Dtype  \n",
      "---  ------    --------------  -----  \n",
      " 0   Pclass    891 non-null    int64  \n",
      " 1   Name      891 non-null    object \n",
      " 2   Sex       891 non-null    object \n",
      " 3   Age       891 non-null    int64  \n",
      " 4   SibSp     891 non-null    int64  \n",
      " 5   Parch     891 non-null    int64  \n",
      " 6   Ticket    891 non-null    object \n",
      " 7   Fare      891 non-null    float64\n",
      " 8   Embarked  891 non-null    object \n",
      " 9   Deck      891 non-null    object \n",
      "dtypes: float64(1), int64(4), object(5)\n",
      "memory usage: 76.6+ KB\n"
     ]
    }
   ],
   "source": [
    "# 필요가 없어진 Cabin 컬럼은 삭제\n",
    "train.drop('Cabin', axis=1,inplace=True)\n",
    "train.info()"
   ]
  },
  {
   "cell_type": "code",
   "execution_count": 37,
   "metadata": {},
   "outputs": [
    {
     "name": "stdout",
     "output_type": "stream",
     "text": [
      "<class 'pandas.core.frame.DataFrame'>\n",
      "Int64Index: 418 entries, 892 to 1309\n",
      "Data columns (total 10 columns):\n",
      " #   Column    Non-Null Count  Dtype  \n",
      "---  ------    --------------  -----  \n",
      " 0   Pclass    418 non-null    int64  \n",
      " 1   Name      418 non-null    object \n",
      " 2   Sex       418 non-null    object \n",
      " 3   Age       418 non-null    int64  \n",
      " 4   SibSp     418 non-null    int64  \n",
      " 5   Parch     418 non-null    int64  \n",
      " 6   Ticket    418 non-null    object \n",
      " 7   Fare      418 non-null    float64\n",
      " 8   Embarked  418 non-null    object \n",
      " 9   Deck      418 non-null    object \n",
      "dtypes: float64(1), int64(4), object(5)\n",
      "memory usage: 35.9+ KB\n"
     ]
    }
   ],
   "source": [
    "del test['Cabin']\n",
    "\n",
    "test.info()"
   ]
  },
  {
   "cell_type": "markdown",
   "metadata": {},
   "source": [
    "## 데이터 전처리 및 시각화"
   ]
  },
  {
   "cell_type": "markdown",
   "metadata": {},
   "source": [
    "Deck 과 Survived간의 관계\n",
    "- 객실별 생존사망 수를 계수"
   ]
  },
  {
   "cell_type": "code",
   "execution_count": 38,
   "metadata": {},
   "outputs": [
    {
     "name": "stdout",
     "output_type": "stream",
     "text": [
      "<class 'pandas.core.frame.DataFrame'>\n",
      "Int64Index: 891 entries, 1 to 891\n",
      "Data columns (total 11 columns):\n",
      " #   Column    Non-Null Count  Dtype  \n",
      "---  ------    --------------  -----  \n",
      " 0   Pclass    891 non-null    int64  \n",
      " 1   Name      891 non-null    object \n",
      " 2   Sex       891 non-null    object \n",
      " 3   Age       891 non-null    int64  \n",
      " 4   SibSp     891 non-null    int64  \n",
      " 5   Parch     891 non-null    int64  \n",
      " 6   Ticket    891 non-null    object \n",
      " 7   Fare      891 non-null    float64\n",
      " 8   Embarked  891 non-null    object \n",
      " 9   Deck      891 non-null    object \n",
      " 10  Survived  891 non-null    int64  \n",
      "dtypes: float64(1), int64(5), object(5)\n",
      "memory usage: 83.5+ KB\n"
     ]
    }
   ],
   "source": [
    "train = pd.concat([train, y], axis=1)\n",
    "train.info()"
   ]
  },
  {
   "cell_type": "code",
   "execution_count": 39,
   "metadata": {},
   "outputs": [
    {
     "data": {
      "text/plain": [
       "<AxesSubplot:xlabel='Deck', ylabel='count'>"
      ]
     },
     "execution_count": 39,
     "metadata": {},
     "output_type": "execute_result"
    },
    {
     "data": {
      "image/png": "[encoded data removed]",
      "text/plain": [
       "<Figure size 432x288 with 1 Axes>"
      ]
     },
     "metadata": {
      "needs_background": "light"
     },
     "output_type": "display_data"
    }
   ],
   "source": [
    "import seaborn as sns\n",
    "\n",
    "sns.countplot(data = train, x= 'Deck', hue='Survived')"
   ]
  },
  {
   "cell_type": "markdown",
   "metadata": {},
   "source": [
    "Pclass별 생존,사망수를 계수"
   ]
  },
  {
   "cell_type": "code",
   "execution_count": 40,
   "metadata": {},
   "outputs": [
    {
     "data": {
      "text/plain": [
       "<AxesSubplot:xlabel='Pclass', ylabel='count'>"
      ]
     },
     "execution_count": 40,
     "metadata": {},
     "output_type": "execute_result"
    },
    {
     "data": {
      "image/png": "[encoded data removed]",
      "text/plain": [
       "<Figure size 432x288 with 1 Axes>"
      ]
     },
     "metadata": {
      "needs_background": "light"
     },
     "output_type": "display_data"
    }
   ],
   "source": [
    "sns.countplot(data = train, x= 'Pclass', hue='Survived')"
   ]
  },
  {
   "cell_type": "code",
   "execution_count": 41,
   "metadata": {},
   "outputs": [
    {
     "data": {
      "text/plain": [
       "<AxesSubplot:xlabel='Deck', ylabel='count'>"
      ]
     },
     "execution_count": 41,
     "metadata": {},
     "output_type": "execute_result"
    },
    {
     "data": {
      "image/png": "[encoded data removed]",
      "text/plain": [
       "<Figure size 432x288 with 1 Axes>"
      ]
     },
     "metadata": {
      "needs_background": "light"
     },
     "output_type": "display_data"
    }
   ],
   "source": [
    "# Deck 기분으로 Pcalss의 수를 카운트\n",
    "sns.countplot(data = train, x= 'Deck', hue='Pclass')"
   ]
  },
  {
   "cell_type": "markdown",
   "metadata": {},
   "source": [
    "(문제) Sex, Embarked에 대해서도 Survived를 분석"
   ]
  },
  {
   "cell_type": "code",
   "execution_count": 42,
   "metadata": {},
   "outputs": [
    {
     "data": {
      "text/plain": [
       "<AxesSubplot:xlabel='Sex', ylabel='count'>"
      ]
     },
     "execution_count": 42,
     "metadata": {},
     "output_type": "execute_result"
    },
    {
     "data": {
      "image/png": "[encoded data removed]",
      "text/plain": [
       "<Figure size 432x288 with 1 Axes>"
      ]
     },
     "metadata": {
      "needs_background": "light"
     },
     "output_type": "display_data"
    }
   ],
   "source": [
    "sns.countplot(data = train, x= 'Sex', hue='Survived')"
   ]
  },
  {
   "cell_type": "code",
   "execution_count": 43,
   "metadata": {},
   "outputs": [
    {
     "data": {
      "text/plain": [
       "<AxesSubplot:xlabel='Embarked', ylabel='count'>"
      ]
     },
     "execution_count": 43,
     "metadata": {},
     "output_type": "execute_result"
    },
    {
     "data": {
      "image/png": "[encoded data removed]",
      "text/plain": [
       "<Figure size 432x288 with 1 Axes>"
      ]
     },
     "metadata": {
      "needs_background": "light"
     },
     "output_type": "display_data"
    }
   ],
   "source": [
    "sns.countplot(data = train, x= 'Embarked', hue='Survived')"
   ]
  },
  {
   "cell_type": "code",
   "execution_count": 44,
   "metadata": {},
   "outputs": [
    {
     "data": {
      "text/plain": [
       "<AxesSubplot:xlabel='Embarked', ylabel='count'>"
      ]
     },
     "execution_count": 44,
     "metadata": {},
     "output_type": "execute_result"
    },
    {
     "data": {
      "image/png": "[encoded data removed]",
      "text/plain": [
       "<Figure size 432x288 with 1 Axes>"
      ]
     },
     "metadata": {
      "needs_background": "light"
     },
     "output_type": "display_data"
    }
   ],
   "source": [
    "sns.countplot(data = train, x= 'Embarked', hue='Pclass')"
   ]
  },
  {
   "cell_type": "markdown",
   "metadata": {},
   "source": [
    "수치형 데이터의 시각화 - KDE, line, violinplot 등\n",
    "\n",
    "- Age 시각화\n",
    "\n",
    "- violinplot = boxplot과 KDE plot을 합쳐 놓은 것"
   ]
  },
  {
   "cell_type": "code",
   "execution_count": 45,
   "metadata": {},
   "outputs": [
    {
     "data": {
      "text/plain": [
       "<AxesSubplot:xlabel='Pclass', ylabel='Age'>"
      ]
     },
     "execution_count": 45,
     "metadata": {},
     "output_type": "execute_result"
    },
    {
     "data": {
      "image/png": "[encoded data removed]",
      "text/plain": [
       "<Figure size 1296x576 with 2 Axes>"
      ]
     },
     "metadata": {
      "needs_background": "light"
     },
     "output_type": "display_data"
    }
   ],
   "source": [
    "f, ax = plt.subplots(1,2,figsize= (18,8))\n",
    "sns.violinplot(data = train, x = 'Sex', y = 'Age', hue= 'Survived', split = True, ax = ax[0])\n",
    "sns.violinplot(data = train, x = 'Pclass', y = 'Age', hue= 'Survived', split = True, ax = ax[1])"
   ]
  },
  {
   "cell_type": "markdown",
   "metadata": {},
   "source": [
    "#### Age를 범주형 데이터로 변경 (수치 -> 범주 : binning)\n",
    "\n",
    "- 나이가 0-80세로 연속된 숫자로 되어 있어 학습 정확도가 낮아질 수 있어서\n",
    "\n",
    "    -0-9 (0), 10-19 (1), 20-29 (2), 30-39 (3), 40-49 (4), 50-59 (5), 60-69 (6), 70-79 (7),"
   ]
  },
  {
   "cell_type": "code",
   "execution_count": 46,
   "metadata": {},
   "outputs": [],
   "source": [
    "# def Age_cat(row) :\n",
    "#     if row < 10:\n",
    "#         return 0\n",
    "#     elif row < 20:\n",
    "#         return 1\n",
    "#     elif row < 30:\n",
    "#         return 2\n",
    "#     elif row < 40:\n",
    "#         return 3\n",
    "#     elif row < 50:\n",
    "#         return 4\n",
    "#     elif row < 60:\n",
    "#         return 5\n",
    "#     elif row < 70:\n",
    "#         return 6\n",
    "#     else:\n",
    "#         return 7\n",
    "    \n",
    "\n",
    "# train['Age_cut'] = train.Age.apply(Age_cat).astype('int64')\n",
    "train['Age_cut']=pd.cut(train.Age, bins=[-1,10,20,30,40,50,60,70,90],labels=['0','1','2','3','4','5','6','7'])"
   ]
  },
  {
   "cell_type": "code",
   "execution_count": 47,
   "metadata": {},
   "outputs": [
    {
     "data": {
      "text/html": [
       "<div>\n",
       "<style scoped>\n",
       "    .dataframe tbody tr th:only-of-type {\n",
       "        vertical-align: middle;\n",
       "    }\n",
       "\n",
       "    .dataframe tbody tr th {\n",
       "        vertical-align: top;\n",
       "    }\n",
       "\n",
       "    .dataframe thead th {\n",
       "        text-align: right;\n",
       "    }\n",
       "</style>\n",
       "<table border=\"1\" class=\"dataframe\">\n",
       "  <thead>\n",
       "    <tr style=\"text-align: right;\">\n",
       "      <th></th>\n",
       "      <th>Pclass</th>\n",
       "      <th>Name</th>\n",
       "      <th>Sex</th>\n",
       "      <th>Age</th>\n",
       "      <th>SibSp</th>\n",
       "      <th>Parch</th>\n",
       "      <th>Ticket</th>\n",
       "      <th>Fare</th>\n",
       "      <th>Embarked</th>\n",
       "      <th>Deck</th>\n",
       "      <th>Survived</th>\n",
       "      <th>Age_cut</th>\n",
       "    </tr>\n",
       "    <tr>\n",
       "      <th>PassengerId</th>\n",
       "      <th></th>\n",
       "      <th></th>\n",
       "      <th></th>\n",
       "      <th></th>\n",
       "      <th></th>\n",
       "      <th></th>\n",
       "      <th></th>\n",
       "      <th></th>\n",
       "      <th></th>\n",
       "      <th></th>\n",
       "      <th></th>\n",
       "      <th></th>\n",
       "    </tr>\n",
       "  </thead>\n",
       "  <tbody>\n",
       "    <tr>\n",
       "      <th>1</th>\n",
       "      <td>3</td>\n",
       "      <td>Braund, Mr. Owen Harris</td>\n",
       "      <td>male</td>\n",
       "      <td>22</td>\n",
       "      <td>1</td>\n",
       "      <td>0</td>\n",
       "      <td>A/5 21171</td>\n",
       "      <td>7.2500</td>\n",
       "      <td>S</td>\n",
       "      <td>M</td>\n",
       "      <td>0</td>\n",
       "      <td>2</td>\n",
       "    </tr>\n",
       "    <tr>\n",
       "      <th>2</th>\n",
       "      <td>1</td>\n",
       "      <td>Cumings, Mrs. John Bradley (Florence Briggs Th...</td>\n",
       "      <td>female</td>\n",
       "      <td>38</td>\n",
       "      <td>1</td>\n",
       "      <td>0</td>\n",
       "      <td>PC 17599</td>\n",
       "      <td>71.2833</td>\n",
       "      <td>C</td>\n",
       "      <td>C</td>\n",
       "      <td>1</td>\n",
       "      <td>3</td>\n",
       "    </tr>\n",
       "    <tr>\n",
       "      <th>3</th>\n",
       "      <td>3</td>\n",
       "      <td>Heikkinen, Miss. Laina</td>\n",
       "      <td>female</td>\n",
       "      <td>26</td>\n",
       "      <td>0</td>\n",
       "      <td>0</td>\n",
       "      <td>STON/O2. 3101282</td>\n",
       "      <td>7.9250</td>\n",
       "      <td>S</td>\n",
       "      <td>M</td>\n",
       "      <td>1</td>\n",
       "      <td>2</td>\n",
       "    </tr>\n",
       "    <tr>\n",
       "      <th>4</th>\n",
       "      <td>1</td>\n",
       "      <td>Futrelle, Mrs. Jacques Heath (Lily May Peel)</td>\n",
       "      <td>female</td>\n",
       "      <td>35</td>\n",
       "      <td>1</td>\n",
       "      <td>0</td>\n",
       "      <td>113803</td>\n",
       "      <td>53.1000</td>\n",
       "      <td>S</td>\n",
       "      <td>C</td>\n",
       "      <td>1</td>\n",
       "      <td>3</td>\n",
       "    </tr>\n",
       "    <tr>\n",
       "      <th>5</th>\n",
       "      <td>3</td>\n",
       "      <td>Allen, Mr. William Henry</td>\n",
       "      <td>male</td>\n",
       "      <td>35</td>\n",
       "      <td>0</td>\n",
       "      <td>0</td>\n",
       "      <td>373450</td>\n",
       "      <td>8.0500</td>\n",
       "      <td>S</td>\n",
       "      <td>M</td>\n",
       "      <td>0</td>\n",
       "      <td>3</td>\n",
       "    </tr>\n",
       "  </tbody>\n",
       "</table>\n",
       "</div>"
      ],
      "text/plain": [
       "             Pclass                                               Name  \\\n",
       "PassengerId                                                              \n",
       "1                 3                            Braund, Mr. Owen Harris   \n",
       "2                 1  Cumings, Mrs. John Bradley (Florence Briggs Th...   \n",
       "3                 3                             Heikkinen, Miss. Laina   \n",
       "4                 1       Futrelle, Mrs. Jacques Heath (Lily May Peel)   \n",
       "5                 3                           Allen, Mr. William Henry   \n",
       "\n",
       "                Sex  Age  SibSp  Parch            Ticket     Fare Embarked  \\\n",
       "PassengerId                                                                  \n",
       "1              male   22      1      0         A/5 21171   7.2500        S   \n",
       "2            female   38      1      0          PC 17599  71.2833        C   \n",
       "3            female   26      0      0  STON/O2. 3101282   7.9250        S   \n",
       "4            female   35      1      0            113803  53.1000        S   \n",
       "5              male   35      0      0            373450   8.0500        S   \n",
       "\n",
       "            Deck  Survived Age_cut  \n",
       "PassengerId                         \n",
       "1              M         0       2  \n",
       "2              C         1       3  \n",
       "3              M         1       2  \n",
       "4              C         1       3  \n",
       "5              M         0       3  "
      ]
     },
     "execution_count": 47,
     "metadata": {},
     "output_type": "execute_result"
    }
   ],
   "source": [
    "train.head()"
   ]
  },
  {
   "cell_type": "code",
   "execution_count": 48,
   "metadata": {},
   "outputs": [
    {
     "data": {
      "text/html": [
       "<div>\n",
       "<style scoped>\n",
       "    .dataframe tbody tr th:only-of-type {\n",
       "        vertical-align: middle;\n",
       "    }\n",
       "\n",
       "    .dataframe tbody tr th {\n",
       "        vertical-align: top;\n",
       "    }\n",
       "\n",
       "    .dataframe thead th {\n",
       "        text-align: right;\n",
       "    }\n",
       "</style>\n",
       "<table border=\"1\" class=\"dataframe\">\n",
       "  <thead>\n",
       "    <tr style=\"text-align: right;\">\n",
       "      <th></th>\n",
       "      <th>Pclass</th>\n",
       "      <th>Name</th>\n",
       "      <th>Sex</th>\n",
       "      <th>SibSp</th>\n",
       "      <th>Parch</th>\n",
       "      <th>Ticket</th>\n",
       "      <th>Fare</th>\n",
       "      <th>Embarked</th>\n",
       "      <th>Deck</th>\n",
       "      <th>Survived</th>\n",
       "      <th>Age_cut</th>\n",
       "    </tr>\n",
       "    <tr>\n",
       "      <th>PassengerId</th>\n",
       "      <th></th>\n",
       "      <th></th>\n",
       "      <th></th>\n",
       "      <th></th>\n",
       "      <th></th>\n",
       "      <th></th>\n",
       "      <th></th>\n",
       "      <th></th>\n",
       "      <th></th>\n",
       "      <th></th>\n",
       "      <th></th>\n",
       "    </tr>\n",
       "  </thead>\n",
       "  <tbody>\n",
       "    <tr>\n",
       "      <th>1</th>\n",
       "      <td>3</td>\n",
       "      <td>Braund, Mr. Owen Harris</td>\n",
       "      <td>male</td>\n",
       "      <td>1</td>\n",
       "      <td>0</td>\n",
       "      <td>A/5 21171</td>\n",
       "      <td>7.2500</td>\n",
       "      <td>S</td>\n",
       "      <td>M</td>\n",
       "      <td>0</td>\n",
       "      <td>2</td>\n",
       "    </tr>\n",
       "    <tr>\n",
       "      <th>2</th>\n",
       "      <td>1</td>\n",
       "      <td>Cumings, Mrs. John Bradley (Florence Briggs Th...</td>\n",
       "      <td>female</td>\n",
       "      <td>1</td>\n",
       "      <td>0</td>\n",
       "      <td>PC 17599</td>\n",
       "      <td>71.2833</td>\n",
       "      <td>C</td>\n",
       "      <td>C</td>\n",
       "      <td>1</td>\n",
       "      <td>3</td>\n",
       "    </tr>\n",
       "    <tr>\n",
       "      <th>3</th>\n",
       "      <td>3</td>\n",
       "      <td>Heikkinen, Miss. Laina</td>\n",
       "      <td>female</td>\n",
       "      <td>0</td>\n",
       "      <td>0</td>\n",
       "      <td>STON/O2. 3101282</td>\n",
       "      <td>7.9250</td>\n",
       "      <td>S</td>\n",
       "      <td>M</td>\n",
       "      <td>1</td>\n",
       "      <td>2</td>\n",
       "    </tr>\n",
       "    <tr>\n",
       "      <th>4</th>\n",
       "      <td>1</td>\n",
       "      <td>Futrelle, Mrs. Jacques Heath (Lily May Peel)</td>\n",
       "      <td>female</td>\n",
       "      <td>1</td>\n",
       "      <td>0</td>\n",
       "      <td>113803</td>\n",
       "      <td>53.1000</td>\n",
       "      <td>S</td>\n",
       "      <td>C</td>\n",
       "      <td>1</td>\n",
       "      <td>3</td>\n",
       "    </tr>\n",
       "    <tr>\n",
       "      <th>5</th>\n",
       "      <td>3</td>\n",
       "      <td>Allen, Mr. William Henry</td>\n",
       "      <td>male</td>\n",
       "      <td>0</td>\n",
       "      <td>0</td>\n",
       "      <td>373450</td>\n",
       "      <td>8.0500</td>\n",
       "      <td>S</td>\n",
       "      <td>M</td>\n",
       "      <td>0</td>\n",
       "      <td>3</td>\n",
       "    </tr>\n",
       "  </tbody>\n",
       "</table>\n",
       "</div>"
      ],
      "text/plain": [
       "             Pclass                                               Name  \\\n",
       "PassengerId                                                              \n",
       "1                 3                            Braund, Mr. Owen Harris   \n",
       "2                 1  Cumings, Mrs. John Bradley (Florence Briggs Th...   \n",
       "3                 3                             Heikkinen, Miss. Laina   \n",
       "4                 1       Futrelle, Mrs. Jacques Heath (Lily May Peel)   \n",
       "5                 3                           Allen, Mr. William Henry   \n",
       "\n",
       "                Sex  SibSp  Parch            Ticket     Fare Embarked Deck  \\\n",
       "PassengerId                                                                  \n",
       "1              male      1      0         A/5 21171   7.2500        S    M   \n",
       "2            female      1      0          PC 17599  71.2833        C    C   \n",
       "3            female      0      0  STON/O2. 3101282   7.9250        S    M   \n",
       "4            female      1      0            113803  53.1000        S    C   \n",
       "5              male      0      0            373450   8.0500        S    M   \n",
       "\n",
       "             Survived Age_cut  \n",
       "PassengerId                    \n",
       "1                   0       2  \n",
       "2                   1       3  \n",
       "3                   1       2  \n",
       "4                   1       3  \n",
       "5                   0       3  "
      ]
     },
     "execution_count": 48,
     "metadata": {},
     "output_type": "execute_result"
    }
   ],
   "source": [
    "del train['Age']\n",
    "train.head()"
   ]
  },
  {
   "cell_type": "markdown",
   "metadata": {},
   "source": [
    "train[\"Age_cut\"]=train[\"Age\"]//10\n",
    "train[\"Age_cut\"][train[\"Age\"]>=80]=7\n",
    "\n",
    "\n",
    "train['Age_cut']=pd.cut(train.Age, bins=[0,10,20,30,40,50,60,70,90],labels=['0','1','2','3','4','5','6','7'])"
   ]
  },
  {
   "cell_type": "code",
   "execution_count": 49,
   "metadata": {},
   "outputs": [
    {
     "data": {
      "text/html": [
       "<div>\n",
       "<style scoped>\n",
       "    .dataframe tbody tr th:only-of-type {\n",
       "        vertical-align: middle;\n",
       "    }\n",
       "\n",
       "    .dataframe tbody tr th {\n",
       "        vertical-align: top;\n",
       "    }\n",
       "\n",
       "    .dataframe thead th {\n",
       "        text-align: right;\n",
       "    }\n",
       "</style>\n",
       "<table border=\"1\" class=\"dataframe\">\n",
       "  <thead>\n",
       "    <tr style=\"text-align: right;\">\n",
       "      <th></th>\n",
       "      <th>Pclass</th>\n",
       "      <th>Name</th>\n",
       "      <th>Sex</th>\n",
       "      <th>SibSp</th>\n",
       "      <th>Parch</th>\n",
       "      <th>Ticket</th>\n",
       "      <th>Fare</th>\n",
       "      <th>Embarked</th>\n",
       "      <th>Deck</th>\n",
       "      <th>Age_cut</th>\n",
       "    </tr>\n",
       "    <tr>\n",
       "      <th>PassengerId</th>\n",
       "      <th></th>\n",
       "      <th></th>\n",
       "      <th></th>\n",
       "      <th></th>\n",
       "      <th></th>\n",
       "      <th></th>\n",
       "      <th></th>\n",
       "      <th></th>\n",
       "      <th></th>\n",
       "      <th></th>\n",
       "    </tr>\n",
       "  </thead>\n",
       "  <tbody>\n",
       "    <tr>\n",
       "      <th>892</th>\n",
       "      <td>3</td>\n",
       "      <td>Kelly, Mr. James</td>\n",
       "      <td>male</td>\n",
       "      <td>0</td>\n",
       "      <td>0</td>\n",
       "      <td>330911</td>\n",
       "      <td>7.8292</td>\n",
       "      <td>Q</td>\n",
       "      <td>M</td>\n",
       "      <td>3</td>\n",
       "    </tr>\n",
       "    <tr>\n",
       "      <th>893</th>\n",
       "      <td>3</td>\n",
       "      <td>Wilkes, Mrs. James (Ellen Needs)</td>\n",
       "      <td>female</td>\n",
       "      <td>1</td>\n",
       "      <td>0</td>\n",
       "      <td>363272</td>\n",
       "      <td>7.0000</td>\n",
       "      <td>S</td>\n",
       "      <td>M</td>\n",
       "      <td>4</td>\n",
       "    </tr>\n",
       "    <tr>\n",
       "      <th>894</th>\n",
       "      <td>2</td>\n",
       "      <td>Myles, Mr. Thomas Francis</td>\n",
       "      <td>male</td>\n",
       "      <td>0</td>\n",
       "      <td>0</td>\n",
       "      <td>240276</td>\n",
       "      <td>9.6875</td>\n",
       "      <td>Q</td>\n",
       "      <td>M</td>\n",
       "      <td>6</td>\n",
       "    </tr>\n",
       "    <tr>\n",
       "      <th>895</th>\n",
       "      <td>3</td>\n",
       "      <td>Wirz, Mr. Albert</td>\n",
       "      <td>male</td>\n",
       "      <td>0</td>\n",
       "      <td>0</td>\n",
       "      <td>315154</td>\n",
       "      <td>8.6625</td>\n",
       "      <td>S</td>\n",
       "      <td>M</td>\n",
       "      <td>2</td>\n",
       "    </tr>\n",
       "    <tr>\n",
       "      <th>896</th>\n",
       "      <td>3</td>\n",
       "      <td>Hirvonen, Mrs. Alexander (Helga E Lindqvist)</td>\n",
       "      <td>female</td>\n",
       "      <td>1</td>\n",
       "      <td>1</td>\n",
       "      <td>3101298</td>\n",
       "      <td>12.2875</td>\n",
       "      <td>S</td>\n",
       "      <td>M</td>\n",
       "      <td>2</td>\n",
       "    </tr>\n",
       "  </tbody>\n",
       "</table>\n",
       "</div>"
      ],
      "text/plain": [
       "             Pclass                                          Name     Sex  \\\n",
       "PassengerId                                                                 \n",
       "892               3                              Kelly, Mr. James    male   \n",
       "893               3              Wilkes, Mrs. James (Ellen Needs)  female   \n",
       "894               2                     Myles, Mr. Thomas Francis    male   \n",
       "895               3                              Wirz, Mr. Albert    male   \n",
       "896               3  Hirvonen, Mrs. Alexander (Helga E Lindqvist)  female   \n",
       "\n",
       "             SibSp  Parch   Ticket     Fare Embarked Deck Age_cut  \n",
       "PassengerId                                                        \n",
       "892              0      0   330911   7.8292        Q    M       3  \n",
       "893              1      0   363272   7.0000        S    M       4  \n",
       "894              0      0   240276   9.6875        Q    M       6  \n",
       "895              0      0   315154   8.6625        S    M       2  \n",
       "896              1      1  3101298  12.2875        S    M       2  "
      ]
     },
     "execution_count": 49,
     "metadata": {},
     "output_type": "execute_result"
    }
   ],
   "source": [
    "test['Age_cut'] = pd.cut(test.Age, bins = [-1,10,20,30,40,50,60,70,90],\n",
    "                     labels = ['0','1','2','3','4','5','6','7'])\n",
    "del test['Age']\n",
    "\n",
    "test.head()"
   ]
  },
  {
   "cell_type": "code",
   "execution_count": 50,
   "metadata": {},
   "outputs": [
    {
     "name": "stdout",
     "output_type": "stream",
     "text": [
      "<class 'pandas.core.frame.DataFrame'>\n",
      "Int64Index: 418 entries, 892 to 1309\n",
      "Data columns (total 10 columns):\n",
      " #   Column    Non-Null Count  Dtype   \n",
      "---  ------    --------------  -----   \n",
      " 0   Pclass    418 non-null    int64   \n",
      " 1   Name      418 non-null    object  \n",
      " 2   Sex       418 non-null    object  \n",
      " 3   SibSp     418 non-null    int64   \n",
      " 4   Parch     418 non-null    int64   \n",
      " 5   Ticket    418 non-null    object  \n",
      " 6   Fare      418 non-null    float64 \n",
      " 7   Embarked  418 non-null    object  \n",
      " 8   Deck      418 non-null    object  \n",
      " 9   Age_cut   418 non-null    category\n",
      "dtypes: category(1), float64(1), int64(3), object(5)\n",
      "memory usage: 33.4+ KB\n"
     ]
    }
   ],
   "source": [
    "test.info()"
   ]
  },
  {
   "cell_type": "code",
   "execution_count": 51,
   "metadata": {
    "scrolled": true
   },
   "outputs": [
    {
     "name": "stdout",
     "output_type": "stream",
     "text": [
      "<class 'pandas.core.frame.DataFrame'>\n",
      "Int64Index: 891 entries, 1 to 891\n",
      "Data columns (total 11 columns):\n",
      " #   Column    Non-Null Count  Dtype   \n",
      "---  ------    --------------  -----   \n",
      " 0   Pclass    891 non-null    int64   \n",
      " 1   Name      891 non-null    object  \n",
      " 2   Sex       891 non-null    object  \n",
      " 3   SibSp     891 non-null    int64   \n",
      " 4   Parch     891 non-null    int64   \n",
      " 5   Ticket    891 non-null    object  \n",
      " 6   Fare      891 non-null    float64 \n",
      " 7   Embarked  891 non-null    object  \n",
      " 8   Deck      891 non-null    object  \n",
      " 9   Survived  891 non-null    int64   \n",
      " 10  Age_cut   891 non-null    category\n",
      "dtypes: category(1), float64(1), int64(4), object(5)\n",
      "memory usage: 117.8+ KB\n"
     ]
    }
   ],
   "source": [
    "train.info()"
   ]
  },
  {
   "cell_type": "code",
   "execution_count": 52,
   "metadata": {},
   "outputs": [
    {
     "data": {
      "text/plain": [
       "count    891.000000\n",
       "mean      32.204208\n",
       "std       49.693429\n",
       "min        0.000000\n",
       "25%        7.910400\n",
       "50%       14.454200\n",
       "75%       31.000000\n",
       "max      512.329200\n",
       "Name: Fare, dtype: float64"
      ]
     },
     "execution_count": 52,
     "metadata": {},
     "output_type": "execute_result"
    }
   ],
   "source": [
    "train.Fare.describe()"
   ]
  },
  {
   "cell_type": "code",
   "execution_count": 53,
   "metadata": {},
   "outputs": [
    {
     "data": {
      "text/plain": [
       "<AxesSubplot:xlabel='Sex', ylabel='Fare'>"
      ]
     },
     "execution_count": 53,
     "metadata": {},
     "output_type": "execute_result"
    },
    {
     "data": {
      "image/png": "[encoded data removed]",
      "text/plain": [
       "<Figure size 1296x576 with 1 Axes>"
      ]
     },
     "metadata": {
      "needs_background": "light"
     },
     "output_type": "display_data"
    }
   ],
   "source": [
    "plt.figure(figsize = (18,8))\n",
    "sns.violinplot(data = train, x = 'Sex', y= 'Fare', hue = 'Survived', split = True)"
   ]
  },
  {
   "cell_type": "markdown",
   "metadata": {},
   "source": [
    "## Fare데이터 분포 확인"
   ]
  },
  {
   "cell_type": "code",
   "execution_count": 54,
   "metadata": {},
   "outputs": [
    {
     "data": {
      "text/plain": [
       "<matplotlib.legend.Legend at 0x21b2e1dfb50>"
      ]
     },
     "execution_count": 54,
     "metadata": {},
     "output_type": "execute_result"
    },
    {
     "data": {
      "image/png": "[encoded data removed]",
      "text/plain": [
       "<Figure size 576x576 with 1 Axes>"
      ]
     },
     "metadata": {
      "needs_background": "light"
     },
     "output_type": "display_data"
    }
   ],
   "source": [
    "plt.figure(figsize=(8,8))\n",
    "g = sns.distplot(train.Fare, color = 'b', label= '{:.2f}'.format(train.Fare.skew()))\n",
    "g.legend()"
   ]
  },
  {
   "cell_type": "code",
   "execution_count": 55,
   "metadata": {},
   "outputs": [],
   "source": [
    "train['Fare'] = np.log(train['Fare']+1)\n",
    "test['Fare'] = np.log(test['Fare']+1)"
   ]
  },
  {
   "cell_type": "code",
   "execution_count": 56,
   "metadata": {},
   "outputs": [
    {
     "data": {
      "text/plain": [
       "<matplotlib.legend.Legend at 0x21b2e889bb0>"
      ]
     },
     "execution_count": 56,
     "metadata": {},
     "output_type": "execute_result"
    },
    {
     "data": {
      "image/png": "[encoded data removed]",
      "text/plain": [
       "<Figure size 576x576 with 1 Axes>"
      ]
     },
     "metadata": {
      "needs_background": "light"
     },
     "output_type": "display_data"
    }
   ],
   "source": [
    "plt.figure(figsize=(8,8))\n",
    "g = sns.distplot(train.Fare, color = 'b', label= '{:.2f}'.format(train.Fare.skew()))\n",
    "g.legend()"
   ]
  },
  {
   "cell_type": "markdown",
   "metadata": {},
   "source": [
    "### 로그를 취해줘서 비대칭성이 많이 사라짐(정규분포에 가까워짐)"
   ]
  },
  {
   "cell_type": "code",
   "execution_count": 57,
   "metadata": {},
   "outputs": [
    {
     "name": "stdout",
     "output_type": "stream",
     "text": [
      "<class 'pandas.core.frame.DataFrame'>\n",
      "Int64Index: 891 entries, 1 to 891\n",
      "Data columns (total 11 columns):\n",
      " #   Column    Non-Null Count  Dtype   \n",
      "---  ------    --------------  -----   \n",
      " 0   Pclass    891 non-null    int64   \n",
      " 1   Name      891 non-null    object  \n",
      " 2   Sex       891 non-null    object  \n",
      " 3   SibSp     891 non-null    int64   \n",
      " 4   Parch     891 non-null    int64   \n",
      " 5   Ticket    891 non-null    object  \n",
      " 6   Fare      891 non-null    float64 \n",
      " 7   Embarked  891 non-null    object  \n",
      " 8   Deck      891 non-null    object  \n",
      " 9   Survived  891 non-null    int64   \n",
      " 10  Age_cut   891 non-null    category\n",
      "dtypes: category(1), float64(1), int64(4), object(5)\n",
      "memory usage: 117.8+ KB\n"
     ]
    }
   ],
   "source": [
    "train.info()"
   ]
  },
  {
   "cell_type": "markdown",
   "metadata": {},
   "source": [
    "### Parch, Sibsp - 부모자식, 형제배우자\n",
    "- 특성공학: 기존의 특성을 이용하여 좀 더 유용한 특성을 만들어보자\n",
    "- Family_size = Parch + Sibsp"
   ]
  },
  {
   "cell_type": "code",
   "execution_count": 58,
   "metadata": {},
   "outputs": [],
   "source": [
    "train['Family_size'] = train['Parch'] + train['SibSp'] +1 \n",
    "test['Family_size'] = test['Parch']+ test['SibSp']+1"
   ]
  },
  {
   "cell_type": "code",
   "execution_count": 59,
   "metadata": {},
   "outputs": [
    {
     "name": "stdout",
     "output_type": "stream",
     "text": [
      "<class 'pandas.core.frame.DataFrame'>\n",
      "Int64Index: 891 entries, 1 to 891\n",
      "Data columns (total 12 columns):\n",
      " #   Column       Non-Null Count  Dtype   \n",
      "---  ------       --------------  -----   \n",
      " 0   Pclass       891 non-null    int64   \n",
      " 1   Name         891 non-null    object  \n",
      " 2   Sex          891 non-null    object  \n",
      " 3   SibSp        891 non-null    int64   \n",
      " 4   Parch        891 non-null    int64   \n",
      " 5   Ticket       891 non-null    object  \n",
      " 6   Fare         891 non-null    float64 \n",
      " 7   Embarked     891 non-null    object  \n",
      " 8   Deck         891 non-null    object  \n",
      " 9   Survived     891 non-null    int64   \n",
      " 10  Age_cut      891 non-null    category\n",
      " 11  Family_size  891 non-null    int64   \n",
      "dtypes: category(1), float64(1), int64(5), object(5)\n",
      "memory usage: 124.8+ KB\n"
     ]
    }
   ],
   "source": [
    "train.info()"
   ]
  },
  {
   "cell_type": "code",
   "execution_count": 60,
   "metadata": {},
   "outputs": [],
   "source": [
    "train.drop('Parch', axis=1, inplace=True)\n",
    "test.drop('Parch', axis=1, inplace=True)\n",
    "train.drop('SibSp', axis=1, inplace=True)\n",
    "test.drop('SibSp', axis=1, inplace=True)"
   ]
  },
  {
   "cell_type": "code",
   "execution_count": 61,
   "metadata": {},
   "outputs": [
    {
     "name": "stdout",
     "output_type": "stream",
     "text": [
      "<class 'pandas.core.frame.DataFrame'>\n",
      "Int64Index: 891 entries, 1 to 891\n",
      "Data columns (total 10 columns):\n",
      " #   Column       Non-Null Count  Dtype   \n",
      "---  ------       --------------  -----   \n",
      " 0   Pclass       891 non-null    int64   \n",
      " 1   Name         891 non-null    object  \n",
      " 2   Sex          891 non-null    object  \n",
      " 3   Ticket       891 non-null    object  \n",
      " 4   Fare         891 non-null    float64 \n",
      " 5   Embarked     891 non-null    object  \n",
      " 6   Deck         891 non-null    object  \n",
      " 7   Survived     891 non-null    int64   \n",
      " 8   Age_cut      891 non-null    category\n",
      " 9   Family_size  891 non-null    int64   \n",
      "dtypes: category(1), float64(1), int64(3), object(5)\n",
      "memory usage: 110.9+ KB\n"
     ]
    }
   ],
   "source": [
    "train.info()"
   ]
  },
  {
   "cell_type": "code",
   "execution_count": 62,
   "metadata": {},
   "outputs": [
    {
     "data": {
      "text/plain": [
       "<AxesSubplot:xlabel='Family_size', ylabel='count'>"
      ]
     },
     "execution_count": 62,
     "metadata": {},
     "output_type": "execute_result"
    },
    {
     "data": {
      "image/png": "[encoded data removed]",
      "text/plain": [
       "<Figure size 432x288 with 1 Axes>"
      ]
     },
     "metadata": {
      "needs_background": "light"
     },
     "output_type": "display_data"
    }
   ],
   "source": [
    "sns.countplot(data = train, x = 'Family_size', hue = 'Survived')"
   ]
  },
  {
   "cell_type": "markdown",
   "metadata": {},
   "source": [
    "- 1: 죽은 사람\n",
    "- 2~4 : 산사람\n",
    "- 5명 이상일 경우 죽은사람"
   ]
  },
  {
   "cell_type": "markdown",
   "metadata": {},
   "source": [
    "### bining 수치형 -> 카테고리 형\n",
    "- 가족사이즈 1: 'Alone'\n",
    "- 가족사이즈 2~4: 'Small'\n",
    "- 가족사이즈 5이상: 'Large'"
   ]
  },
  {
   "cell_type": "code",
   "execution_count": 63,
   "metadata": {},
   "outputs": [
    {
     "data": {
      "text/plain": [
       "array([ 1,  2,  3,  5,  4,  6,  8,  7, 11], dtype=int64)"
      ]
     },
     "execution_count": 63,
     "metadata": {},
     "output_type": "execute_result"
    }
   ],
   "source": [
    "test['Family_size'].unique()"
   ]
  },
  {
   "cell_type": "code",
   "execution_count": 64,
   "metadata": {},
   "outputs": [],
   "source": [
    "bins = [0,1,4,11]\n",
    "labels = ['Alone', 'Small', 'Large']\n",
    "train['Family_Group'] = pd.cut(train['Family_size'], bins=bins, labels=labels)\n",
    "test['Family_Group'] = pd.cut(test['Family_size'], bins=bins, labels=labels)"
   ]
  },
  {
   "cell_type": "code",
   "execution_count": 65,
   "metadata": {},
   "outputs": [
    {
     "name": "stdout",
     "output_type": "stream",
     "text": [
      "<class 'pandas.core.frame.DataFrame'>\n",
      "Int64Index: 891 entries, 1 to 891\n",
      "Data columns (total 11 columns):\n",
      " #   Column        Non-Null Count  Dtype   \n",
      "---  ------        --------------  -----   \n",
      " 0   Pclass        891 non-null    int64   \n",
      " 1   Name          891 non-null    object  \n",
      " 2   Sex           891 non-null    object  \n",
      " 3   Ticket        891 non-null    object  \n",
      " 4   Fare          891 non-null    float64 \n",
      " 5   Embarked      891 non-null    object  \n",
      " 6   Deck          891 non-null    object  \n",
      " 7   Survived      891 non-null    int64   \n",
      " 8   Age_cut       891 non-null    category\n",
      " 9   Family_size   891 non-null    int64   \n",
      " 10  Family_Group  891 non-null    category\n",
      "dtypes: category(2), float64(1), int64(3), object(5)\n",
      "memory usage: 111.8+ KB\n"
     ]
    }
   ],
   "source": [
    "train.info()"
   ]
  },
  {
   "cell_type": "code",
   "execution_count": 66,
   "metadata": {},
   "outputs": [
    {
     "data": {
      "text/plain": [
       "<AxesSubplot:xlabel='Family_Group', ylabel='count'>"
      ]
     },
     "execution_count": 66,
     "metadata": {},
     "output_type": "execute_result"
    },
    {
     "data": {
      "image/png": "[encoded data removed]",
      "text/plain": [
       "<Figure size 432x288 with 1 Axes>"
      ]
     },
     "metadata": {
      "needs_background": "light"
     },
     "output_type": "display_data"
    }
   ],
   "source": [
    "sns.countplot(data= train, x ='Family_Group', hue = 'Survived')"
   ]
  },
  {
   "cell_type": "code",
   "execution_count": 67,
   "metadata": {},
   "outputs": [],
   "source": [
    "del train['Family_size']\n",
    "del test['Family_size']"
   ]
  },
  {
   "cell_type": "markdown",
   "metadata": {},
   "source": [
    "### Text 데이터 다루기"
   ]
  },
  {
   "cell_type": "markdown",
   "metadata": {},
   "source": [
    "### Name 시각화"
   ]
  },
  {
   "cell_type": "code",
   "execution_count": 68,
   "metadata": {},
   "outputs": [
    {
     "data": {
      "text/plain": [
       "PassengerId\n",
       "1                                Braund, Mr. Owen Harris\n",
       "2      Cumings, Mrs. John Bradley (Florence Briggs Th...\n",
       "3                                 Heikkinen, Miss. Laina\n",
       "4           Futrelle, Mrs. Jacques Heath (Lily May Peel)\n",
       "5                               Allen, Mr. William Henry\n",
       "                             ...                        \n",
       "887                                Montvila, Rev. Juozas\n",
       "888                         Graham, Miss. Margaret Edith\n",
       "889             Johnston, Miss. Catherine Helen \"Carrie\"\n",
       "890                                Behr, Mr. Karl Howell\n",
       "891                                  Dooley, Mr. Patrick\n",
       "Name: Name, Length: 891, dtype: object"
      ]
     },
     "execution_count": 68,
     "metadata": {},
     "output_type": "execute_result"
    }
   ],
   "source": [
    "train['Name']"
   ]
  },
  {
   "cell_type": "code",
   "execution_count": 69,
   "metadata": {},
   "outputs": [],
   "source": [
    "def split_title(row):\n",
    "    # , 로 잘라낸 문자열리스트의 2번째 값\n",
    "    # strip(): 해당 문아열내에서 공백문자 제거\n",
    "    return row.split(',')[1].split('.')[0].strip()"
   ]
  },
  {
   "cell_type": "code",
   "execution_count": 70,
   "metadata": {},
   "outputs": [
    {
     "data": {
      "text/plain": [
       "array(['Mr', 'Mrs', 'Miss', 'Master', 'Don', 'Rev', 'Dr', 'Mme', 'Ms',\n",
       "       'Major', 'Lady', 'Sir', 'Mlle', 'Col', 'Capt', 'the Countess',\n",
       "       'Jonkheer'], dtype=object)"
      ]
     },
     "execution_count": 70,
     "metadata": {},
     "output_type": "execute_result"
    }
   ],
   "source": [
    "train['initial'] = train['Name'].apply(split_title)\n",
    "train['initial'].unique()"
   ]
  },
  {
   "cell_type": "code",
   "execution_count": 71,
   "metadata": {},
   "outputs": [
    {
     "data": {
      "text/plain": [
       "array(['Mr', 'Mrs', 'Miss', 'Master', 'Ms', 'Col', 'Rev', 'Dr', 'Dona'],\n",
       "      dtype=object)"
      ]
     },
     "execution_count": 71,
     "metadata": {},
     "output_type": "execute_result"
    }
   ],
   "source": [
    "test['initial'] = test['Name'].apply(split_title)\n",
    "test['initial'].unique()"
   ]
  },
  {
   "cell_type": "code",
   "execution_count": 72,
   "metadata": {},
   "outputs": [],
   "source": [
    "del train['Name']\n",
    "del test['Name']"
   ]
  },
  {
   "cell_type": "code",
   "execution_count": 73,
   "metadata": {},
   "outputs": [
    {
     "data": {
      "text/plain": [
       "<AxesSubplot:xlabel='initial', ylabel='count'>"
      ]
     },
     "execution_count": 73,
     "metadata": {},
     "output_type": "execute_result"
    },
    {
     "data": {
      "image/png": "[encoded data removed]",
      "text/plain": [
       "<Figure size 1080x360 with 1 Axes>"
      ]
     },
     "metadata": {
      "needs_background": "light"
     },
     "output_type": "display_data"
    }
   ],
   "source": [
    "plt.figure(figsize=(15,5))\n",
    "plt.ylim(0,20)\n",
    "sns.countplot(data = train, x = 'initial', hue = 'Survived')"
   ]
  },
  {
   "cell_type": "code",
   "execution_count": 74,
   "metadata": {},
   "outputs": [
    {
     "data": {
      "text/plain": [
       "array(['Mr', 'Mrs', 'Miss', 'Master', 'Don', 'Rev', 'Dr', 'Mme', 'Ms',\n",
       "       'Major', 'Lady', 'Sir', 'Mlle', 'Col', 'Capt', 'the Countess',\n",
       "       'Jonkheer'], dtype=object)"
      ]
     },
     "execution_count": 74,
     "metadata": {},
     "output_type": "execute_result"
    }
   ],
   "source": [
    "train['initial'].unique()"
   ]
  },
  {
   "cell_type": "code",
   "execution_count": 75,
   "metadata": {},
   "outputs": [
    {
     "data": {
      "text/plain": [
       "{'Dona'}"
      ]
     },
     "execution_count": 75,
     "metadata": {},
     "output_type": "execute_result"
    }
   ],
   "source": [
    "# set자료형 - 집합\n",
    "set(test['initial'].unique()) - set(train['initial'].unique())"
   ]
  },
  {
   "cell_type": "code",
   "execution_count": 76,
   "metadata": {},
   "outputs": [],
   "source": [
    "# Dr 중 여성은 49세의 여성이어서 결혼을 했을 것으로 판단하여 Mrs로 변경\n",
    "train['initial'].replace(['Mlle','Mme','Ms','Dr','Major','Lady','the Countess','Jonkheer','Col','Rev','Capt','Sir','Don', 'Dona'],\n",
    "                         ['Miss','Miss','Miss','Mrs','Mr','Mrs','Mrs','Other','Other','Other','Mr','Mr','Mr', 'Mr'],inplace=True)\n",
    "\n",
    "test['initial'].replace(['Mlle','Mme','Ms','Dr','Major','Lady','the Countess','Jonkheer','Col','Rev','Capt','Sir','Don', 'Dona'],\n",
    "                        ['Miss','Miss','Miss','Mrs','Mr','Mrs','Mrs','Other','Other','Other','Mr','Mr','Mr', 'Mr'],inplace=True)"
   ]
  },
  {
   "cell_type": "code",
   "execution_count": 77,
   "metadata": {},
   "outputs": [
    {
     "data": {
      "text/plain": [
       "array(['Mr', 'Mrs', 'Miss', 'Master', 'Other'], dtype=object)"
      ]
     },
     "execution_count": 77,
     "metadata": {},
     "output_type": "execute_result"
    }
   ],
   "source": [
    "train['initial'].unique()"
   ]
  },
  {
   "cell_type": "markdown",
   "metadata": {},
   "source": [
    "## 티켓"
   ]
  },
  {
   "cell_type": "code",
   "execution_count": 78,
   "metadata": {},
   "outputs": [],
   "source": [
    "train.drop('Ticket', axis=1, inplace=True)\n",
    "test.drop('Ticket', axis=1, inplace=True)"
   ]
  },
  {
   "cell_type": "code",
   "execution_count": 79,
   "metadata": {},
   "outputs": [
    {
     "name": "stdout",
     "output_type": "stream",
     "text": [
      "<class 'pandas.core.frame.DataFrame'>\n",
      "Int64Index: 418 entries, 892 to 1309\n",
      "Data columns (total 8 columns):\n",
      " #   Column        Non-Null Count  Dtype   \n",
      "---  ------        --------------  -----   \n",
      " 0   Pclass        418 non-null    int64   \n",
      " 1   Sex           418 non-null    object  \n",
      " 2   Fare          418 non-null    float64 \n",
      " 3   Embarked      418 non-null    object  \n",
      " 4   Deck          418 non-null    object  \n",
      " 5   Age_cut       418 non-null    category\n",
      " 6   Family_Group  418 non-null    category\n",
      " 7   initial       418 non-null    object  \n",
      "dtypes: category(2), float64(1), int64(1), object(4)\n",
      "memory usage: 24.2+ KB\n"
     ]
    }
   ],
   "source": [
    "test.info()"
   ]
  },
  {
   "cell_type": "code",
   "execution_count": 80,
   "metadata": {},
   "outputs": [
    {
     "data": {
      "text/html": [
       "<div>\n",
       "<style scoped>\n",
       "    .dataframe tbody tr th:only-of-type {\n",
       "        vertical-align: middle;\n",
       "    }\n",
       "\n",
       "    .dataframe tbody tr th {\n",
       "        vertical-align: top;\n",
       "    }\n",
       "\n",
       "    .dataframe thead th {\n",
       "        text-align: right;\n",
       "    }\n",
       "</style>\n",
       "<table border=\"1\" class=\"dataframe\">\n",
       "  <thead>\n",
       "    <tr style=\"text-align: right;\">\n",
       "      <th></th>\n",
       "      <th>Pclass</th>\n",
       "      <th>Sex</th>\n",
       "      <th>Fare</th>\n",
       "      <th>Embarked</th>\n",
       "      <th>Deck</th>\n",
       "      <th>Survived</th>\n",
       "      <th>Age_cut</th>\n",
       "      <th>Family_Group</th>\n",
       "      <th>initial</th>\n",
       "    </tr>\n",
       "    <tr>\n",
       "      <th>PassengerId</th>\n",
       "      <th></th>\n",
       "      <th></th>\n",
       "      <th></th>\n",
       "      <th></th>\n",
       "      <th></th>\n",
       "      <th></th>\n",
       "      <th></th>\n",
       "      <th></th>\n",
       "      <th></th>\n",
       "    </tr>\n",
       "  </thead>\n",
       "  <tbody>\n",
       "    <tr>\n",
       "      <th>1</th>\n",
       "      <td>3</td>\n",
       "      <td>male</td>\n",
       "      <td>2.110213</td>\n",
       "      <td>S</td>\n",
       "      <td>M</td>\n",
       "      <td>0</td>\n",
       "      <td>2</td>\n",
       "      <td>Small</td>\n",
       "      <td>Mr</td>\n",
       "    </tr>\n",
       "    <tr>\n",
       "      <th>2</th>\n",
       "      <td>1</td>\n",
       "      <td>female</td>\n",
       "      <td>4.280593</td>\n",
       "      <td>C</td>\n",
       "      <td>C</td>\n",
       "      <td>1</td>\n",
       "      <td>3</td>\n",
       "      <td>Small</td>\n",
       "      <td>Mrs</td>\n",
       "    </tr>\n",
       "    <tr>\n",
       "      <th>3</th>\n",
       "      <td>3</td>\n",
       "      <td>female</td>\n",
       "      <td>2.188856</td>\n",
       "      <td>S</td>\n",
       "      <td>M</td>\n",
       "      <td>1</td>\n",
       "      <td>2</td>\n",
       "      <td>Alone</td>\n",
       "      <td>Miss</td>\n",
       "    </tr>\n",
       "    <tr>\n",
       "      <th>4</th>\n",
       "      <td>1</td>\n",
       "      <td>female</td>\n",
       "      <td>3.990834</td>\n",
       "      <td>S</td>\n",
       "      <td>C</td>\n",
       "      <td>1</td>\n",
       "      <td>3</td>\n",
       "      <td>Small</td>\n",
       "      <td>Mrs</td>\n",
       "    </tr>\n",
       "    <tr>\n",
       "      <th>5</th>\n",
       "      <td>3</td>\n",
       "      <td>male</td>\n",
       "      <td>2.202765</td>\n",
       "      <td>S</td>\n",
       "      <td>M</td>\n",
       "      <td>0</td>\n",
       "      <td>3</td>\n",
       "      <td>Alone</td>\n",
       "      <td>Mr</td>\n",
       "    </tr>\n",
       "  </tbody>\n",
       "</table>\n",
       "</div>"
      ],
      "text/plain": [
       "             Pclass     Sex      Fare Embarked Deck  Survived Age_cut  \\\n",
       "PassengerId                                                             \n",
       "1                 3    male  2.110213        S    M         0       2   \n",
       "2                 1  female  4.280593        C    C         1       3   \n",
       "3                 3  female  2.188856        S    M         1       2   \n",
       "4                 1  female  3.990834        S    C         1       3   \n",
       "5                 3    male  2.202765        S    M         0       3   \n",
       "\n",
       "            Family_Group initial  \n",
       "PassengerId                       \n",
       "1                  Small      Mr  \n",
       "2                  Small     Mrs  \n",
       "3                  Alone    Miss  \n",
       "4                  Small     Mrs  \n",
       "5                  Alone      Mr  "
      ]
     },
     "execution_count": 80,
     "metadata": {},
     "output_type": "execute_result"
    }
   ],
   "source": [
    "train.head()"
   ]
  },
  {
   "cell_type": "code",
   "execution_count": 81,
   "metadata": {},
   "outputs": [],
   "source": [
    "train['Family_Group'] = train['Family_Group'].astype('object')\n",
    "train['Age_cut'] = train['Age_cut'].astype('object')\n",
    "test['Family_Group'] = test['Family_Group'].astype('object')\n",
    "test['Age_cut'] = test['Age_cut'].astype('object')"
   ]
  },
  {
   "cell_type": "code",
   "execution_count": 82,
   "metadata": {},
   "outputs": [
    {
     "name": "stdout",
     "output_type": "stream",
     "text": [
      "<class 'pandas.core.frame.DataFrame'>\n",
      "Int64Index: 891 entries, 1 to 891\n",
      "Data columns (total 9 columns):\n",
      " #   Column        Non-Null Count  Dtype  \n",
      "---  ------        --------------  -----  \n",
      " 0   Pclass        891 non-null    int64  \n",
      " 1   Sex           891 non-null    object \n",
      " 2   Fare          891 non-null    float64\n",
      " 3   Embarked      891 non-null    object \n",
      " 4   Deck          891 non-null    object \n",
      " 5   Survived      891 non-null    int64  \n",
      " 6   Age_cut       891 non-null    object \n",
      " 7   Family_Group  891 non-null    object \n",
      " 8   initial       891 non-null    object \n",
      "dtypes: float64(1), int64(2), object(6)\n",
      "memory usage: 109.6+ KB\n"
     ]
    }
   ],
   "source": [
    "train.info()"
   ]
  },
  {
   "cell_type": "code",
   "execution_count": 83,
   "metadata": {},
   "outputs": [],
   "source": [
    "# 연관관계 분석을 위해 문자를 수치로 변경\n",
    "train['Sex'] = train['Sex'].map({'male': 0, 'female': 1})\n",
    "test['Sex'] = test['Sex'].map({'male': 0, 'female': 1})\n",
    "train['Embarked'] = train['Embarked'].map({'C': 0, 'Q': 1, 'S': 2})\n",
    "test['Embarked'] = test['Embarked'].map({'C': 0, 'Q': 1, 'S': 2})\n",
    "train['Deck'] = train['Deck'].map({'A': 0, 'B': 1, 'C': 2, 'D': 3, 'E': 4, 'F': 5, 'G': 6, 'M': 7, 'T': 8})\n",
    "test['Deck'] = test['Deck'].map({'A': 0, 'B': 1, 'C': 2, 'D': 3, 'E': 4, 'F': 5, 'G': 6, 'M': 7, 'T': 8})\n",
    "train['Family_Group'] = train['Family_Group'].map({'Alone': 0, 'Small': 1, 'Large': 2})\n",
    "test['Family_Group'] = test['Family_Group'].map({'Alone': 0, 'Small': 1, 'Large': 2})\n",
    "train['initial'] = train['initial'].map({'Master': 0, 'Miss': 1, 'Mr': 2, 'Mrs': 3, 'Other': 4})\n",
    "test['initial'] = test['initial'].map({'Master': 0, 'Miss': 1, 'Mr': 2, 'Mrs': 3, 'Other': 4})\n",
    "\n",
    "train['Age_cut'] = train['Age_cut'].map({'0': 0, '1': 1, '2': 2, '3': 3, '4': 4, '5': 5, '6': 6, '7': 7})\n",
    "test['Age_cut'] = test['Age_cut'].map({'0': 0, '1': 1, '2': 2, '3': 3, '4': 4, '5': 5, '6': 6, '7': 7})"
   ]
  },
  {
   "cell_type": "code",
   "execution_count": 84,
   "metadata": {},
   "outputs": [
    {
     "name": "stdout",
     "output_type": "stream",
     "text": [
      "<class 'pandas.core.frame.DataFrame'>\n",
      "Int64Index: 891 entries, 1 to 891\n",
      "Data columns (total 9 columns):\n",
      " #   Column        Non-Null Count  Dtype  \n",
      "---  ------        --------------  -----  \n",
      " 0   Pclass        891 non-null    int64  \n",
      " 1   Sex           891 non-null    int64  \n",
      " 2   Fare          891 non-null    float64\n",
      " 3   Embarked      891 non-null    int64  \n",
      " 4   Deck          891 non-null    int64  \n",
      " 5   Survived      891 non-null    int64  \n",
      " 6   Age_cut       891 non-null    int64  \n",
      " 7   Family_Group  891 non-null    int64  \n",
      " 8   initial       891 non-null    int64  \n",
      "dtypes: float64(1), int64(8)\n",
      "memory usage: 109.6 KB\n"
     ]
    }
   ],
   "source": [
    "train.info()"
   ]
  },
  {
   "cell_type": "code",
   "execution_count": 85,
   "metadata": {},
   "outputs": [
    {
     "data": {
      "text/html": [
       "<div>\n",
       "<style scoped>\n",
       "    .dataframe tbody tr th:only-of-type {\n",
       "        vertical-align: middle;\n",
       "    }\n",
       "\n",
       "    .dataframe tbody tr th {\n",
       "        vertical-align: top;\n",
       "    }\n",
       "\n",
       "    .dataframe thead th {\n",
       "        text-align: right;\n",
       "    }\n",
       "</style>\n",
       "<table border=\"1\" class=\"dataframe\">\n",
       "  <thead>\n",
       "    <tr style=\"text-align: right;\">\n",
       "      <th></th>\n",
       "      <th>Pclass</th>\n",
       "      <th>Sex</th>\n",
       "      <th>Fare</th>\n",
       "      <th>Embarked</th>\n",
       "      <th>Deck</th>\n",
       "      <th>Survived</th>\n",
       "      <th>Age_cut</th>\n",
       "      <th>Family_Group</th>\n",
       "      <th>initial</th>\n",
       "    </tr>\n",
       "  </thead>\n",
       "  <tbody>\n",
       "    <tr>\n",
       "      <th>Pclass</th>\n",
       "      <td>1.000000</td>\n",
       "      <td>-0.131900</td>\n",
       "      <td>-0.661022</td>\n",
       "      <td>0.162098</td>\n",
       "      <td>0.742093</td>\n",
       "      <td>-0.338481</td>\n",
       "      <td>-0.407116</td>\n",
       "      <td>-0.043973</td>\n",
       "      <td>-0.144695</td>\n",
       "    </tr>\n",
       "    <tr>\n",
       "      <th>Sex</th>\n",
       "      <td>-0.131900</td>\n",
       "      <td>1.000000</td>\n",
       "      <td>0.263276</td>\n",
       "      <td>-0.108262</td>\n",
       "      <td>-0.118635</td>\n",
       "      <td>0.543351</td>\n",
       "      <td>-0.090930</td>\n",
       "      <td>0.280570</td>\n",
       "      <td>-0.055823</td>\n",
       "    </tr>\n",
       "    <tr>\n",
       "      <th>Fare</th>\n",
       "      <td>-0.661022</td>\n",
       "      <td>0.263276</td>\n",
       "      <td>1.000000</td>\n",
       "      <td>-0.202444</td>\n",
       "      <td>-0.574672</td>\n",
       "      <td>0.329862</td>\n",
       "      <td>0.154104</td>\n",
       "      <td>0.466154</td>\n",
       "      <td>-0.014682</td>\n",
       "    </tr>\n",
       "    <tr>\n",
       "      <th>Embarked</th>\n",
       "      <td>0.162098</td>\n",
       "      <td>-0.108262</td>\n",
       "      <td>-0.202444</td>\n",
       "      <td>1.000000</td>\n",
       "      <td>0.199444</td>\n",
       "      <td>-0.167675</td>\n",
       "      <td>-0.011371</td>\n",
       "      <td>-0.004951</td>\n",
       "      <td>0.022995</td>\n",
       "    </tr>\n",
       "    <tr>\n",
       "      <th>Deck</th>\n",
       "      <td>0.742093</td>\n",
       "      <td>-0.118635</td>\n",
       "      <td>-0.574672</td>\n",
       "      <td>0.199444</td>\n",
       "      <td>1.000000</td>\n",
       "      <td>-0.295113</td>\n",
       "      <td>-0.290680</td>\n",
       "      <td>-0.079182</td>\n",
       "      <td>-0.055267</td>\n",
       "    </tr>\n",
       "    <tr>\n",
       "      <th>Survived</th>\n",
       "      <td>-0.338481</td>\n",
       "      <td>0.543351</td>\n",
       "      <td>0.329862</td>\n",
       "      <td>-0.167675</td>\n",
       "      <td>-0.295113</td>\n",
       "      <td>1.000000</td>\n",
       "      <td>-0.047698</td>\n",
       "      <td>0.108631</td>\n",
       "      <td>-0.083808</td>\n",
       "    </tr>\n",
       "    <tr>\n",
       "      <th>Age_cut</th>\n",
       "      <td>-0.407116</td>\n",
       "      <td>-0.090930</td>\n",
       "      <td>0.154104</td>\n",
       "      <td>-0.011371</td>\n",
       "      <td>-0.290680</td>\n",
       "      <td>-0.047698</td>\n",
       "      <td>1.000000</td>\n",
       "      <td>-0.216699</td>\n",
       "      <td>0.454734</td>\n",
       "    </tr>\n",
       "    <tr>\n",
       "      <th>Family_Group</th>\n",
       "      <td>-0.043973</td>\n",
       "      <td>0.280570</td>\n",
       "      <td>0.466154</td>\n",
       "      <td>-0.004951</td>\n",
       "      <td>-0.079182</td>\n",
       "      <td>0.108631</td>\n",
       "      <td>-0.216699</td>\n",
       "      <td>1.000000</td>\n",
       "      <td>-0.109933</td>\n",
       "    </tr>\n",
       "    <tr>\n",
       "      <th>initial</th>\n",
       "      <td>-0.144695</td>\n",
       "      <td>-0.055823</td>\n",
       "      <td>-0.014682</td>\n",
       "      <td>0.022995</td>\n",
       "      <td>-0.055267</td>\n",
       "      <td>-0.083808</td>\n",
       "      <td>0.454734</td>\n",
       "      <td>-0.109933</td>\n",
       "      <td>1.000000</td>\n",
       "    </tr>\n",
       "  </tbody>\n",
       "</table>\n",
       "</div>"
      ],
      "text/plain": [
       "                Pclass       Sex      Fare  Embarked      Deck  Survived  \\\n",
       "Pclass        1.000000 -0.131900 -0.661022  0.162098  0.742093 -0.338481   \n",
       "Sex          -0.131900  1.000000  0.263276 -0.108262 -0.118635  0.543351   \n",
       "Fare         -0.661022  0.263276  1.000000 -0.202444 -0.574672  0.329862   \n",
       "Embarked      0.162098 -0.108262 -0.202444  1.000000  0.199444 -0.167675   \n",
       "Deck          0.742093 -0.118635 -0.574672  0.199444  1.000000 -0.295113   \n",
       "Survived     -0.338481  0.543351  0.329862 -0.167675 -0.295113  1.000000   \n",
       "Age_cut      -0.407116 -0.090930  0.154104 -0.011371 -0.290680 -0.047698   \n",
       "Family_Group -0.043973  0.280570  0.466154 -0.004951 -0.079182  0.108631   \n",
       "initial      -0.144695 -0.055823 -0.014682  0.022995 -0.055267 -0.083808   \n",
       "\n",
       "               Age_cut  Family_Group   initial  \n",
       "Pclass       -0.407116     -0.043973 -0.144695  \n",
       "Sex          -0.090930      0.280570 -0.055823  \n",
       "Fare          0.154104      0.466154 -0.014682  \n",
       "Embarked     -0.011371     -0.004951  0.022995  \n",
       "Deck         -0.290680     -0.079182 -0.055267  \n",
       "Survived     -0.047698      0.108631 -0.083808  \n",
       "Age_cut       1.000000     -0.216699  0.454734  \n",
       "Family_Group -0.216699      1.000000 -0.109933  \n",
       "initial       0.454734     -0.109933  1.000000  "
      ]
     },
     "execution_count": 85,
     "metadata": {},
     "output_type": "execute_result"
    }
   ],
   "source": [
    "train.corr()"
   ]
  },
  {
   "cell_type": "code",
   "execution_count": 86,
   "metadata": {},
   "outputs": [
    {
     "data": {
      "text/plain": [
       "<AxesSubplot:>"
      ]
     },
     "execution_count": 86,
     "metadata": {},
     "output_type": "execute_result"
    },
    {
     "data": {
      "image/png": "[encoded data removed]",
      "text/plain": [
       "<Figure size 1008x864 with 2 Axes>"
      ]
     },
     "metadata": {
      "needs_background": "light"
     },
     "output_type": "display_data"
    }
   ],
   "source": [
    "plt.figure(figsize=(14,12))\n",
    "sns.heatmap(train.corr(), annot=True)"
   ]
  },
  {
   "cell_type": "code",
   "execution_count": 87,
   "metadata": {},
   "outputs": [
    {
     "name": "stdout",
     "output_type": "stream",
     "text": [
      "<class 'pandas.core.frame.DataFrame'>\n",
      "Int64Index: 418 entries, 892 to 1309\n",
      "Data columns (total 8 columns):\n",
      " #   Column        Non-Null Count  Dtype  \n",
      "---  ------        --------------  -----  \n",
      " 0   Pclass        418 non-null    int64  \n",
      " 1   Sex           418 non-null    int64  \n",
      " 2   Fare          418 non-null    float64\n",
      " 3   Embarked      418 non-null    int64  \n",
      " 4   Deck          418 non-null    int64  \n",
      " 5   Age_cut       418 non-null    int64  \n",
      " 6   Family_Group  418 non-null    int64  \n",
      " 7   initial       418 non-null    int64  \n",
      "dtypes: float64(1), int64(7)\n",
      "memory usage: 29.4 KB\n"
     ]
    }
   ],
   "source": [
    "test.info()"
   ]
  },
  {
   "cell_type": "markdown",
   "metadata": {},
   "source": [
    "## 특성선택\n",
    "- 특성, 라벨로 분리"
   ]
  },
  {
   "cell_type": "code",
   "execution_count": 88,
   "metadata": {},
   "outputs": [],
   "source": [
    "y_train = train['Survived']\n",
    "X_train = train.drop('Survived', axis=1)\n",
    "X_test = test"
   ]
  },
  {
   "cell_type": "code",
   "execution_count": 89,
   "metadata": {},
   "outputs": [
    {
     "data": {
      "text/plain": [
       "Index(['Pclass', 'Sex', 'Fare', 'Embarked', 'Deck', 'Age_cut', 'Family_Group',\n",
       "       'initial'],\n",
       "      dtype='object')"
      ]
     },
     "execution_count": 89,
     "metadata": {},
     "output_type": "execute_result"
    }
   ],
   "source": [
    "X_train.columns"
   ]
  },
  {
   "cell_type": "code",
   "execution_count": 90,
   "metadata": {},
   "outputs": [],
   "source": [
    "# 원핫 인코딩할 컬럼 목록\n",
    "# 카테고리가 두개뿐인 컬럼은 원핫인코딩의 의미가 크게 없음\n",
    "# Fare는 연속형 데이터이므로 제외\n",
    "cat_feature = ['Pclass', 'Embarked', 'Deck', 'Age_cut', 'Family_Group', 'initial']"
   ]
  },
  {
   "cell_type": "code",
   "execution_count": 91,
   "metadata": {},
   "outputs": [],
   "source": [
    "for col_name in cat_feature:\n",
    "    dummy = pd.get_dummies(train[col_name], prefix= col_name)\n",
    "    X_train = pd.concat([X_train, dummy], axis = 1)\n",
    "    X_train.drop(col_name, axis = 1, inplace=True)"
   ]
  },
  {
   "cell_type": "code",
   "execution_count": 92,
   "metadata": {},
   "outputs": [
    {
     "data": {
      "text/html": [
       "<div>\n",
       "<style scoped>\n",
       "    .dataframe tbody tr th:only-of-type {\n",
       "        vertical-align: middle;\n",
       "    }\n",
       "\n",
       "    .dataframe tbody tr th {\n",
       "        vertical-align: top;\n",
       "    }\n",
       "\n",
       "    .dataframe thead th {\n",
       "        text-align: right;\n",
       "    }\n",
       "</style>\n",
       "<table border=\"1\" class=\"dataframe\">\n",
       "  <thead>\n",
       "    <tr style=\"text-align: right;\">\n",
       "      <th></th>\n",
       "      <th>Sex</th>\n",
       "      <th>Fare</th>\n",
       "      <th>Pclass_1</th>\n",
       "      <th>Pclass_2</th>\n",
       "      <th>Pclass_3</th>\n",
       "      <th>Embarked_0</th>\n",
       "      <th>Embarked_1</th>\n",
       "      <th>Embarked_2</th>\n",
       "      <th>Deck_0</th>\n",
       "      <th>Deck_1</th>\n",
       "      <th>...</th>\n",
       "      <th>Age_cut_6</th>\n",
       "      <th>Age_cut_7</th>\n",
       "      <th>Family_Group_0</th>\n",
       "      <th>Family_Group_1</th>\n",
       "      <th>Family_Group_2</th>\n",
       "      <th>initial_0</th>\n",
       "      <th>initial_1</th>\n",
       "      <th>initial_2</th>\n",
       "      <th>initial_3</th>\n",
       "      <th>initial_4</th>\n",
       "    </tr>\n",
       "    <tr>\n",
       "      <th>PassengerId</th>\n",
       "      <th></th>\n",
       "      <th></th>\n",
       "      <th></th>\n",
       "      <th></th>\n",
       "      <th></th>\n",
       "      <th></th>\n",
       "      <th></th>\n",
       "      <th></th>\n",
       "      <th></th>\n",
       "      <th></th>\n",
       "      <th></th>\n",
       "      <th></th>\n",
       "      <th></th>\n",
       "      <th></th>\n",
       "      <th></th>\n",
       "      <th></th>\n",
       "      <th></th>\n",
       "      <th></th>\n",
       "      <th></th>\n",
       "      <th></th>\n",
       "      <th></th>\n",
       "    </tr>\n",
       "  </thead>\n",
       "  <tbody>\n",
       "    <tr>\n",
       "      <th>1</th>\n",
       "      <td>0</td>\n",
       "      <td>2.110213</td>\n",
       "      <td>0</td>\n",
       "      <td>0</td>\n",
       "      <td>1</td>\n",
       "      <td>0</td>\n",
       "      <td>0</td>\n",
       "      <td>1</td>\n",
       "      <td>0</td>\n",
       "      <td>0</td>\n",
       "      <td>...</td>\n",
       "      <td>0</td>\n",
       "      <td>0</td>\n",
       "      <td>0</td>\n",
       "      <td>1</td>\n",
       "      <td>0</td>\n",
       "      <td>0</td>\n",
       "      <td>0</td>\n",
       "      <td>1</td>\n",
       "      <td>0</td>\n",
       "      <td>0</td>\n",
       "    </tr>\n",
       "    <tr>\n",
       "      <th>2</th>\n",
       "      <td>1</td>\n",
       "      <td>4.280593</td>\n",
       "      <td>1</td>\n",
       "      <td>0</td>\n",
       "      <td>0</td>\n",
       "      <td>1</td>\n",
       "      <td>0</td>\n",
       "      <td>0</td>\n",
       "      <td>0</td>\n",
       "      <td>0</td>\n",
       "      <td>...</td>\n",
       "      <td>0</td>\n",
       "      <td>0</td>\n",
       "      <td>0</td>\n",
       "      <td>1</td>\n",
       "      <td>0</td>\n",
       "      <td>0</td>\n",
       "      <td>0</td>\n",
       "      <td>0</td>\n",
       "      <td>1</td>\n",
       "      <td>0</td>\n",
       "    </tr>\n",
       "    <tr>\n",
       "      <th>3</th>\n",
       "      <td>1</td>\n",
       "      <td>2.188856</td>\n",
       "      <td>0</td>\n",
       "      <td>0</td>\n",
       "      <td>1</td>\n",
       "      <td>0</td>\n",
       "      <td>0</td>\n",
       "      <td>1</td>\n",
       "      <td>0</td>\n",
       "      <td>0</td>\n",
       "      <td>...</td>\n",
       "      <td>0</td>\n",
       "      <td>0</td>\n",
       "      <td>1</td>\n",
       "      <td>0</td>\n",
       "      <td>0</td>\n",
       "      <td>0</td>\n",
       "      <td>1</td>\n",
       "      <td>0</td>\n",
       "      <td>0</td>\n",
       "      <td>0</td>\n",
       "    </tr>\n",
       "    <tr>\n",
       "      <th>4</th>\n",
       "      <td>1</td>\n",
       "      <td>3.990834</td>\n",
       "      <td>1</td>\n",
       "      <td>0</td>\n",
       "      <td>0</td>\n",
       "      <td>0</td>\n",
       "      <td>0</td>\n",
       "      <td>1</td>\n",
       "      <td>0</td>\n",
       "      <td>0</td>\n",
       "      <td>...</td>\n",
       "      <td>0</td>\n",
       "      <td>0</td>\n",
       "      <td>0</td>\n",
       "      <td>1</td>\n",
       "      <td>0</td>\n",
       "      <td>0</td>\n",
       "      <td>0</td>\n",
       "      <td>0</td>\n",
       "      <td>1</td>\n",
       "      <td>0</td>\n",
       "    </tr>\n",
       "    <tr>\n",
       "      <th>5</th>\n",
       "      <td>0</td>\n",
       "      <td>2.202765</td>\n",
       "      <td>0</td>\n",
       "      <td>0</td>\n",
       "      <td>1</td>\n",
       "      <td>0</td>\n",
       "      <td>0</td>\n",
       "      <td>1</td>\n",
       "      <td>0</td>\n",
       "      <td>0</td>\n",
       "      <td>...</td>\n",
       "      <td>0</td>\n",
       "      <td>0</td>\n",
       "      <td>1</td>\n",
       "      <td>0</td>\n",
       "      <td>0</td>\n",
       "      <td>0</td>\n",
       "      <td>0</td>\n",
       "      <td>1</td>\n",
       "      <td>0</td>\n",
       "      <td>0</td>\n",
       "    </tr>\n",
       "    <tr>\n",
       "      <th>...</th>\n",
       "      <td>...</td>\n",
       "      <td>...</td>\n",
       "      <td>...</td>\n",
       "      <td>...</td>\n",
       "      <td>...</td>\n",
       "      <td>...</td>\n",
       "      <td>...</td>\n",
       "      <td>...</td>\n",
       "      <td>...</td>\n",
       "      <td>...</td>\n",
       "      <td>...</td>\n",
       "      <td>...</td>\n",
       "      <td>...</td>\n",
       "      <td>...</td>\n",
       "      <td>...</td>\n",
       "      <td>...</td>\n",
       "      <td>...</td>\n",
       "      <td>...</td>\n",
       "      <td>...</td>\n",
       "      <td>...</td>\n",
       "      <td>...</td>\n",
       "    </tr>\n",
       "    <tr>\n",
       "      <th>887</th>\n",
       "      <td>0</td>\n",
       "      <td>2.639057</td>\n",
       "      <td>0</td>\n",
       "      <td>1</td>\n",
       "      <td>0</td>\n",
       "      <td>0</td>\n",
       "      <td>0</td>\n",
       "      <td>1</td>\n",
       "      <td>0</td>\n",
       "      <td>0</td>\n",
       "      <td>...</td>\n",
       "      <td>0</td>\n",
       "      <td>0</td>\n",
       "      <td>1</td>\n",
       "      <td>0</td>\n",
       "      <td>0</td>\n",
       "      <td>0</td>\n",
       "      <td>0</td>\n",
       "      <td>0</td>\n",
       "      <td>0</td>\n",
       "      <td>1</td>\n",
       "    </tr>\n",
       "    <tr>\n",
       "      <th>888</th>\n",
       "      <td>1</td>\n",
       "      <td>3.433987</td>\n",
       "      <td>1</td>\n",
       "      <td>0</td>\n",
       "      <td>0</td>\n",
       "      <td>0</td>\n",
       "      <td>0</td>\n",
       "      <td>1</td>\n",
       "      <td>0</td>\n",
       "      <td>1</td>\n",
       "      <td>...</td>\n",
       "      <td>0</td>\n",
       "      <td>0</td>\n",
       "      <td>1</td>\n",
       "      <td>0</td>\n",
       "      <td>0</td>\n",
       "      <td>0</td>\n",
       "      <td>1</td>\n",
       "      <td>0</td>\n",
       "      <td>0</td>\n",
       "      <td>0</td>\n",
       "    </tr>\n",
       "    <tr>\n",
       "      <th>889</th>\n",
       "      <td>1</td>\n",
       "      <td>3.196630</td>\n",
       "      <td>0</td>\n",
       "      <td>0</td>\n",
       "      <td>1</td>\n",
       "      <td>0</td>\n",
       "      <td>0</td>\n",
       "      <td>1</td>\n",
       "      <td>0</td>\n",
       "      <td>0</td>\n",
       "      <td>...</td>\n",
       "      <td>0</td>\n",
       "      <td>0</td>\n",
       "      <td>0</td>\n",
       "      <td>1</td>\n",
       "      <td>0</td>\n",
       "      <td>0</td>\n",
       "      <td>1</td>\n",
       "      <td>0</td>\n",
       "      <td>0</td>\n",
       "      <td>0</td>\n",
       "    </tr>\n",
       "    <tr>\n",
       "      <th>890</th>\n",
       "      <td>0</td>\n",
       "      <td>3.433987</td>\n",
       "      <td>1</td>\n",
       "      <td>0</td>\n",
       "      <td>0</td>\n",
       "      <td>1</td>\n",
       "      <td>0</td>\n",
       "      <td>0</td>\n",
       "      <td>0</td>\n",
       "      <td>0</td>\n",
       "      <td>...</td>\n",
       "      <td>0</td>\n",
       "      <td>0</td>\n",
       "      <td>1</td>\n",
       "      <td>0</td>\n",
       "      <td>0</td>\n",
       "      <td>0</td>\n",
       "      <td>0</td>\n",
       "      <td>1</td>\n",
       "      <td>0</td>\n",
       "      <td>0</td>\n",
       "    </tr>\n",
       "    <tr>\n",
       "      <th>891</th>\n",
       "      <td>0</td>\n",
       "      <td>2.169054</td>\n",
       "      <td>0</td>\n",
       "      <td>0</td>\n",
       "      <td>1</td>\n",
       "      <td>0</td>\n",
       "      <td>1</td>\n",
       "      <td>0</td>\n",
       "      <td>0</td>\n",
       "      <td>0</td>\n",
       "      <td>...</td>\n",
       "      <td>0</td>\n",
       "      <td>0</td>\n",
       "      <td>1</td>\n",
       "      <td>0</td>\n",
       "      <td>0</td>\n",
       "      <td>0</td>\n",
       "      <td>0</td>\n",
       "      <td>1</td>\n",
       "      <td>0</td>\n",
       "      <td>0</td>\n",
       "    </tr>\n",
       "  </tbody>\n",
       "</table>\n",
       "<p>891 rows × 33 columns</p>\n",
       "</div>"
      ],
      "text/plain": [
       "             Sex      Fare  Pclass_1  Pclass_2  Pclass_3  Embarked_0  \\\n",
       "PassengerId                                                            \n",
       "1              0  2.110213         0         0         1           0   \n",
       "2              1  4.280593         1         0         0           1   \n",
       "3              1  2.188856         0         0         1           0   \n",
       "4              1  3.990834         1         0         0           0   \n",
       "5              0  2.202765         0         0         1           0   \n",
       "...          ...       ...       ...       ...       ...         ...   \n",
       "887            0  2.639057         0         1         0           0   \n",
       "888            1  3.433987         1         0         0           0   \n",
       "889            1  3.196630         0         0         1           0   \n",
       "890            0  3.433987         1         0         0           1   \n",
       "891            0  2.169054         0         0         1           0   \n",
       "\n",
       "             Embarked_1  Embarked_2  Deck_0  Deck_1  ...  Age_cut_6  \\\n",
       "PassengerId                                          ...              \n",
       "1                     0           1       0       0  ...          0   \n",
       "2                     0           0       0       0  ...          0   \n",
       "3                     0           1       0       0  ...          0   \n",
       "4                     0           1       0       0  ...          0   \n",
       "5                     0           1       0       0  ...          0   \n",
       "...                 ...         ...     ...     ...  ...        ...   \n",
       "887                   0           1       0       0  ...          0   \n",
       "888                   0           1       0       1  ...          0   \n",
       "889                   0           1       0       0  ...          0   \n",
       "890                   0           0       0       0  ...          0   \n",
       "891                   1           0       0       0  ...          0   \n",
       "\n",
       "             Age_cut_7  Family_Group_0  Family_Group_1  Family_Group_2  \\\n",
       "PassengerId                                                              \n",
       "1                    0               0               1               0   \n",
       "2                    0               0               1               0   \n",
       "3                    0               1               0               0   \n",
       "4                    0               0               1               0   \n",
       "5                    0               1               0               0   \n",
       "...                ...             ...             ...             ...   \n",
       "887                  0               1               0               0   \n",
       "888                  0               1               0               0   \n",
       "889                  0               0               1               0   \n",
       "890                  0               1               0               0   \n",
       "891                  0               1               0               0   \n",
       "\n",
       "             initial_0  initial_1  initial_2  initial_3  initial_4  \n",
       "PassengerId                                                         \n",
       "1                    0          0          1          0          0  \n",
       "2                    0          0          0          1          0  \n",
       "3                    0          1          0          0          0  \n",
       "4                    0          0          0          1          0  \n",
       "5                    0          0          1          0          0  \n",
       "...                ...        ...        ...        ...        ...  \n",
       "887                  0          0          0          0          1  \n",
       "888                  0          1          0          0          0  \n",
       "889                  0          1          0          0          0  \n",
       "890                  0          0          1          0          0  \n",
       "891                  0          0          1          0          0  \n",
       "\n",
       "[891 rows x 33 columns]"
      ]
     },
     "execution_count": 92,
     "metadata": {},
     "output_type": "execute_result"
    }
   ],
   "source": [
    "X_train"
   ]
  },
  {
   "cell_type": "code",
   "execution_count": 93,
   "metadata": {},
   "outputs": [],
   "source": [
    "for col_name in cat_feature:\n",
    "    dummy = pd.get_dummies(test[col_name], prefix= col_name)\n",
    "    X_test = pd.concat([X_test, dummy], axis = 1)\n",
    "    X_test.drop(col_name, axis = 1, inplace=True)"
   ]
  },
  {
   "cell_type": "code",
   "execution_count": 94,
   "metadata": {},
   "outputs": [
    {
     "name": "stdout",
     "output_type": "stream",
     "text": [
      "<class 'pandas.core.frame.DataFrame'>\n",
      "Int64Index: 418 entries, 892 to 1309\n",
      "Data columns (total 32 columns):\n",
      " #   Column          Non-Null Count  Dtype  \n",
      "---  ------          --------------  -----  \n",
      " 0   Sex             418 non-null    int64  \n",
      " 1   Fare            418 non-null    float64\n",
      " 2   Pclass_1        418 non-null    uint8  \n",
      " 3   Pclass_2        418 non-null    uint8  \n",
      " 4   Pclass_3        418 non-null    uint8  \n",
      " 5   Embarked_0      418 non-null    uint8  \n",
      " 6   Embarked_1      418 non-null    uint8  \n",
      " 7   Embarked_2      418 non-null    uint8  \n",
      " 8   Deck_0          418 non-null    uint8  \n",
      " 9   Deck_1          418 non-null    uint8  \n",
      " 10  Deck_2          418 non-null    uint8  \n",
      " 11  Deck_3          418 non-null    uint8  \n",
      " 12  Deck_4          418 non-null    uint8  \n",
      " 13  Deck_5          418 non-null    uint8  \n",
      " 14  Deck_6          418 non-null    uint8  \n",
      " 15  Deck_7          418 non-null    uint8  \n",
      " 16  Age_cut_0       418 non-null    uint8  \n",
      " 17  Age_cut_1       418 non-null    uint8  \n",
      " 18  Age_cut_2       418 non-null    uint8  \n",
      " 19  Age_cut_3       418 non-null    uint8  \n",
      " 20  Age_cut_4       418 non-null    uint8  \n",
      " 21  Age_cut_5       418 non-null    uint8  \n",
      " 22  Age_cut_6       418 non-null    uint8  \n",
      " 23  Age_cut_7       418 non-null    uint8  \n",
      " 24  Family_Group_0  418 non-null    uint8  \n",
      " 25  Family_Group_1  418 non-null    uint8  \n",
      " 26  Family_Group_2  418 non-null    uint8  \n",
      " 27  initial_0       418 non-null    uint8  \n",
      " 28  initial_1       418 non-null    uint8  \n",
      " 29  initial_2       418 non-null    uint8  \n",
      " 30  initial_3       418 non-null    uint8  \n",
      " 31  initial_4       418 non-null    uint8  \n",
      "dtypes: float64(1), int64(1), uint8(30)\n",
      "memory usage: 22.0 KB\n"
     ]
    }
   ],
   "source": [
    "X_test.info()"
   ]
  },
  {
   "cell_type": "code",
   "execution_count": 95,
   "metadata": {},
   "outputs": [
    {
     "data": {
      "text/plain": [
       "{'Deck_8'}"
      ]
     },
     "execution_count": 95,
     "metadata": {},
     "output_type": "execute_result"
    }
   ],
   "source": [
    "# X_test보다 X_train의 컬럼수가 하나 더 많은데 어떤 컬럼인지 알아보자\n",
    "set(X_train.columns) - set(X_test.columns)"
   ]
  },
  {
   "cell_type": "code",
   "execution_count": 96,
   "metadata": {},
   "outputs": [],
   "source": [
    "#컬럼을 추가하고 초기화\n",
    "X_test['Deck_8'] = 0"
   ]
  },
  {
   "cell_type": "code",
   "execution_count": 97,
   "metadata": {},
   "outputs": [
    {
     "name": "stdout",
     "output_type": "stream",
     "text": [
      "<class 'pandas.core.frame.DataFrame'>\n",
      "Int64Index: 891 entries, 1 to 891\n",
      "Data columns (total 33 columns):\n",
      " #   Column          Non-Null Count  Dtype  \n",
      "---  ------          --------------  -----  \n",
      " 0   Sex             891 non-null    int64  \n",
      " 1   Fare            891 non-null    float64\n",
      " 2   Pclass_1        891 non-null    uint8  \n",
      " 3   Pclass_2        891 non-null    uint8  \n",
      " 4   Pclass_3        891 non-null    uint8  \n",
      " 5   Embarked_0      891 non-null    uint8  \n",
      " 6   Embarked_1      891 non-null    uint8  \n",
      " 7   Embarked_2      891 non-null    uint8  \n",
      " 8   Deck_0          891 non-null    uint8  \n",
      " 9   Deck_1          891 non-null    uint8  \n",
      " 10  Deck_2          891 non-null    uint8  \n",
      " 11  Deck_3          891 non-null    uint8  \n",
      " 12  Deck_4          891 non-null    uint8  \n",
      " 13  Deck_5          891 non-null    uint8  \n",
      " 14  Deck_6          891 non-null    uint8  \n",
      " 15  Deck_7          891 non-null    uint8  \n",
      " 16  Deck_8          891 non-null    uint8  \n",
      " 17  Age_cut_0       891 non-null    uint8  \n",
      " 18  Age_cut_1       891 non-null    uint8  \n",
      " 19  Age_cut_2       891 non-null    uint8  \n",
      " 20  Age_cut_3       891 non-null    uint8  \n",
      " 21  Age_cut_4       891 non-null    uint8  \n",
      " 22  Age_cut_5       891 non-null    uint8  \n",
      " 23  Age_cut_6       891 non-null    uint8  \n",
      " 24  Age_cut_7       891 non-null    uint8  \n",
      " 25  Family_Group_0  891 non-null    uint8  \n",
      " 26  Family_Group_1  891 non-null    uint8  \n",
      " 27  Family_Group_2  891 non-null    uint8  \n",
      " 28  initial_0       891 non-null    uint8  \n",
      " 29  initial_1       891 non-null    uint8  \n",
      " 30  initial_2       891 non-null    uint8  \n",
      " 31  initial_3       891 non-null    uint8  \n",
      " 32  initial_4       891 non-null    uint8  \n",
      "dtypes: float64(1), int64(1), uint8(31)\n",
      "memory usage: 87.9 KB\n"
     ]
    }
   ],
   "source": [
    "X_train.info()"
   ]
  },
  {
   "cell_type": "code",
   "execution_count": 98,
   "metadata": {},
   "outputs": [
    {
     "name": "stdout",
     "output_type": "stream",
     "text": [
      "<class 'pandas.core.frame.DataFrame'>\n",
      "Int64Index: 418 entries, 892 to 1309\n",
      "Data columns (total 33 columns):\n",
      " #   Column          Non-Null Count  Dtype  \n",
      "---  ------          --------------  -----  \n",
      " 0   Sex             418 non-null    int64  \n",
      " 1   Fare            418 non-null    float64\n",
      " 2   Pclass_1        418 non-null    uint8  \n",
      " 3   Pclass_2        418 non-null    uint8  \n",
      " 4   Pclass_3        418 non-null    uint8  \n",
      " 5   Embarked_0      418 non-null    uint8  \n",
      " 6   Embarked_1      418 non-null    uint8  \n",
      " 7   Embarked_2      418 non-null    uint8  \n",
      " 8   Deck_0          418 non-null    uint8  \n",
      " 9   Deck_1          418 non-null    uint8  \n",
      " 10  Deck_2          418 non-null    uint8  \n",
      " 11  Deck_3          418 non-null    uint8  \n",
      " 12  Deck_4          418 non-null    uint8  \n",
      " 13  Deck_5          418 non-null    uint8  \n",
      " 14  Deck_6          418 non-null    uint8  \n",
      " 15  Deck_7          418 non-null    uint8  \n",
      " 16  Age_cut_0       418 non-null    uint8  \n",
      " 17  Age_cut_1       418 non-null    uint8  \n",
      " 18  Age_cut_2       418 non-null    uint8  \n",
      " 19  Age_cut_3       418 non-null    uint8  \n",
      " 20  Age_cut_4       418 non-null    uint8  \n",
      " 21  Age_cut_5       418 non-null    uint8  \n",
      " 22  Age_cut_6       418 non-null    uint8  \n",
      " 23  Age_cut_7       418 non-null    uint8  \n",
      " 24  Family_Group_0  418 non-null    uint8  \n",
      " 25  Family_Group_1  418 non-null    uint8  \n",
      " 26  Family_Group_2  418 non-null    uint8  \n",
      " 27  initial_0       418 non-null    uint8  \n",
      " 28  initial_1       418 non-null    uint8  \n",
      " 29  initial_2       418 non-null    uint8  \n",
      " 30  initial_3       418 non-null    uint8  \n",
      " 31  initial_4       418 non-null    uint8  \n",
      " 32  Deck_8          418 non-null    int64  \n",
      "dtypes: float64(1), int64(2), uint8(30)\n",
      "memory usage: 25.3 KB\n"
     ]
    }
   ],
   "source": [
    "X_test.info()"
   ]
  },
  {
   "cell_type": "code",
   "execution_count": 99,
   "metadata": {},
   "outputs": [],
   "source": [
    "X_test = pd.DataFrame(X_test, columns=X_train.columns)"
   ]
  },
  {
   "cell_type": "markdown",
   "metadata": {},
   "source": [
    "## 모델 선택 및 학습"
   ]
  },
  {
   "cell_type": "code",
   "execution_count": 100,
   "metadata": {},
   "outputs": [],
   "source": [
    "from sklearn.neighbors import KNeighborsClassifier\n",
    "knn_model = KNeighborsClassifier(n_neighbors = 3)"
   ]
  },
  {
   "cell_type": "code",
   "execution_count": 101,
   "metadata": {},
   "outputs": [
    {
     "data": {
      "text/plain": [
       "KNeighborsClassifier(n_neighbors=3)"
      ]
     },
     "execution_count": 101,
     "metadata": {},
     "output_type": "execute_result"
    }
   ],
   "source": [
    "knn_model.fit(X_train, y_train)"
   ]
  },
  {
   "cell_type": "code",
   "execution_count": 102,
   "metadata": {},
   "outputs": [
    {
     "data": {
      "text/plain": [
       "0.8731762065095399"
      ]
     },
     "execution_count": 102,
     "metadata": {},
     "output_type": "execute_result"
    }
   ],
   "source": [
    "knn_model.score(X_train, y_train)"
   ]
  },
  {
   "cell_type": "code",
   "execution_count": 103,
   "metadata": {},
   "outputs": [],
   "source": [
    "pred = knn_model.predict(X_test)"
   ]
  },
  {
   "cell_type": "code",
   "execution_count": 104,
   "metadata": {},
   "outputs": [
    {
     "data": {
      "text/plain": [
       "array([0, 0, 0, 0, 1, 0, 1, 0, 1, 0, 0, 1, 1, 0, 1, 1, 0, 0, 0, 1, 0, 1,\n",
       "       1, 0, 1, 0, 1, 0, 0, 0, 0, 0, 1, 0, 1, 0, 0, 0, 1, 1, 0, 1, 0, 0,\n",
       "       1, 0, 0, 0, 1, 1, 0, 0, 1, 1, 0, 0, 0, 0, 0, 1, 0, 0, 0, 1, 1, 0,\n",
       "       1, 0, 0, 1, 1, 0, 1, 0, 1, 1, 0, 1, 0, 1, 1, 0, 1, 0, 0, 0, 1, 0,\n",
       "       1, 1, 0, 0, 1, 0, 0, 0, 1, 0, 0, 0, 1, 0, 0, 0, 1, 0, 0, 0, 0, 0,\n",
       "       0, 1, 1, 1, 1, 0, 0, 1, 1, 1, 1, 0, 1, 0, 0, 0, 0, 1, 0, 0, 0, 0,\n",
       "       0, 0, 0, 0, 0, 0, 0, 0, 0, 1, 0, 0, 1, 0, 1, 0, 1, 0, 1, 0, 0, 1,\n",
       "       0, 0, 1, 1, 1, 0, 1, 1, 1, 0, 0, 0, 0, 0, 1, 0, 0, 0, 0, 0, 0, 1,\n",
       "       1, 1, 1, 1, 0, 1, 1, 0, 1, 0, 1, 0, 0, 0, 0, 1, 1, 0, 1, 0, 1, 0,\n",
       "       0, 0, 1, 1, 0, 1, 0, 0, 1, 0, 1, 0, 0, 0, 0, 1, 0, 0, 1, 0, 1, 0,\n",
       "       1, 0, 1, 0, 1, 0, 0, 1, 0, 0, 0, 1, 0, 0, 0, 0, 1, 0, 1, 1, 1, 1,\n",
       "       0, 0, 0, 1, 0, 0, 1, 0, 1, 0, 0, 0, 0, 0, 0, 0, 1, 0, 0, 0, 1, 1,\n",
       "       0, 0, 0, 0, 0, 0, 1, 0, 1, 1, 0, 1, 0, 0, 0, 0, 0, 1, 1, 1, 1, 0,\n",
       "       0, 0, 0, 0, 0, 1, 0, 1, 0, 0, 1, 0, 0, 0, 0, 0, 0, 0, 1, 1, 0, 1,\n",
       "       0, 0, 0, 0, 0, 1, 1, 1, 1, 0, 0, 0, 0, 0, 0, 0, 1, 0, 1, 0, 0, 0,\n",
       "       1, 0, 0, 1, 0, 0, 0, 0, 0, 0, 0, 0, 0, 1, 1, 0, 0, 1, 0, 1, 1, 0,\n",
       "       0, 0, 1, 1, 1, 0, 0, 1, 0, 1, 1, 0, 1, 0, 0, 0, 1, 0, 0, 1, 0, 0,\n",
       "       1, 1, 0, 0, 0, 0, 0, 0, 0, 1, 0, 1, 0, 0, 0, 0, 0, 1, 0, 0, 0, 1,\n",
       "       0, 1, 0, 0, 1, 0, 1, 0, 1, 0, 0, 0, 1, 1, 1, 1, 1, 0, 1, 0, 0, 1],\n",
       "      dtype=int64)"
      ]
     },
     "execution_count": 104,
     "metadata": {},
     "output_type": "execute_result"
    }
   ],
   "source": [
    "pred"
   ]
  },
  {
   "cell_type": "code",
   "execution_count": 105,
   "metadata": {},
   "outputs": [],
   "source": [
    "csv = pd.read_csv('smhrd20210107/gender_submission.csv')"
   ]
  },
  {
   "cell_type": "code",
   "execution_count": 106,
   "metadata": {},
   "outputs": [],
   "source": [
    "csv['Survived'] = pred"
   ]
  },
  {
   "cell_type": "code",
   "execution_count": 107,
   "metadata": {},
   "outputs": [
    {
     "data": {
      "text/html": [
       "<div>\n",
       "<style scoped>\n",
       "    .dataframe tbody tr th:only-of-type {\n",
       "        vertical-align: middle;\n",
       "    }\n",
       "\n",
       "    .dataframe tbody tr th {\n",
       "        vertical-align: top;\n",
       "    }\n",
       "\n",
       "    .dataframe thead th {\n",
       "        text-align: right;\n",
       "    }\n",
       "</style>\n",
       "<table border=\"1\" class=\"dataframe\">\n",
       "  <thead>\n",
       "    <tr style=\"text-align: right;\">\n",
       "      <th></th>\n",
       "      <th>PassengerId</th>\n",
       "      <th>Survived</th>\n",
       "    </tr>\n",
       "  </thead>\n",
       "  <tbody>\n",
       "    <tr>\n",
       "      <th>0</th>\n",
       "      <td>892</td>\n",
       "      <td>0</td>\n",
       "    </tr>\n",
       "    <tr>\n",
       "      <th>1</th>\n",
       "      <td>893</td>\n",
       "      <td>0</td>\n",
       "    </tr>\n",
       "    <tr>\n",
       "      <th>2</th>\n",
       "      <td>894</td>\n",
       "      <td>0</td>\n",
       "    </tr>\n",
       "    <tr>\n",
       "      <th>3</th>\n",
       "      <td>895</td>\n",
       "      <td>0</td>\n",
       "    </tr>\n",
       "    <tr>\n",
       "      <th>4</th>\n",
       "      <td>896</td>\n",
       "      <td>1</td>\n",
       "    </tr>\n",
       "    <tr>\n",
       "      <th>...</th>\n",
       "      <td>...</td>\n",
       "      <td>...</td>\n",
       "    </tr>\n",
       "    <tr>\n",
       "      <th>413</th>\n",
       "      <td>1305</td>\n",
       "      <td>0</td>\n",
       "    </tr>\n",
       "    <tr>\n",
       "      <th>414</th>\n",
       "      <td>1306</td>\n",
       "      <td>1</td>\n",
       "    </tr>\n",
       "    <tr>\n",
       "      <th>415</th>\n",
       "      <td>1307</td>\n",
       "      <td>0</td>\n",
       "    </tr>\n",
       "    <tr>\n",
       "      <th>416</th>\n",
       "      <td>1308</td>\n",
       "      <td>0</td>\n",
       "    </tr>\n",
       "    <tr>\n",
       "      <th>417</th>\n",
       "      <td>1309</td>\n",
       "      <td>1</td>\n",
       "    </tr>\n",
       "  </tbody>\n",
       "</table>\n",
       "<p>418 rows × 2 columns</p>\n",
       "</div>"
      ],
      "text/plain": [
       "     PassengerId  Survived\n",
       "0            892         0\n",
       "1            893         0\n",
       "2            894         0\n",
       "3            895         0\n",
       "4            896         1\n",
       "..           ...       ...\n",
       "413         1305         0\n",
       "414         1306         1\n",
       "415         1307         0\n",
       "416         1308         0\n",
       "417         1309         1\n",
       "\n",
       "[418 rows x 2 columns]"
      ]
     },
     "execution_count": 107,
     "metadata": {},
     "output_type": "execute_result"
    }
   ],
   "source": [
    "csv"
   ]
  },
  {
   "cell_type": "code",
   "execution_count": 108,
   "metadata": {},
   "outputs": [],
   "source": [
    "csv.to_csv('sub1.csv', index = False) # 데이터프레임을 csv파일로 저장"
   ]
  },
  {
   "cell_type": "code",
   "execution_count": 109,
   "metadata": {},
   "outputs": [],
   "source": [
    "from sklearn.model_selection import cross_val_score"
   ]
  },
  {
   "cell_type": "code",
   "execution_count": 110,
   "metadata": {},
   "outputs": [
    {
     "data": {
      "text/plain": [
       "array([0.78212291, 0.79775281, 0.84831461, 0.80337079, 0.80337079])"
      ]
     },
     "execution_count": 110,
     "metadata": {},
     "output_type": "execute_result"
    }
   ],
   "source": [
    "#cross_val_score(모델, 특성데이터,cv = 5)\n",
    "# cv는 몇번에 나누어 검증을 할지\n",
    "result = cross_val_score(knn_model, X_train, y_train, cv=5)\n",
    "result"
   ]
  },
  {
   "cell_type": "code",
   "execution_count": 111,
   "metadata": {},
   "outputs": [
    {
     "data": {
      "text/plain": [
       "0.8069863787583955"
      ]
     },
     "execution_count": 111,
     "metadata": {},
     "output_type": "execute_result"
    }
   ],
   "source": [
    "result.mean()"
   ]
  },
  {
   "cell_type": "code",
   "execution_count": 112,
   "metadata": {},
   "outputs": [
    {
     "data": {
      "text/plain": [
       "(6.240917354759096, 0.0)"
      ]
     },
     "execution_count": 112,
     "metadata": {},
     "output_type": "execute_result"
    }
   ],
   "source": [
    "X_train.Fare.max(), X_train.Fare.min()"
   ]
  },
  {
   "cell_type": "code",
   "execution_count": 113,
   "metadata": {},
   "outputs": [
    {
     "data": {
      "text/plain": [
       "array([0, 1], dtype=int64)"
      ]
     },
     "execution_count": 113,
     "metadata": {},
     "output_type": "execute_result"
    }
   ],
   "source": [
    "X_train.Sex.unique()"
   ]
  },
  {
   "cell_type": "code",
   "execution_count": 114,
   "metadata": {},
   "outputs": [],
   "source": [
    "from sklearn.preprocessing import StandardScaler"
   ]
  },
  {
   "cell_type": "code",
   "execution_count": 115,
   "metadata": {},
   "outputs": [],
   "source": [
    "ss = StandardScaler()"
   ]
  },
  {
   "cell_type": "code",
   "execution_count": 116,
   "metadata": {},
   "outputs": [
    {
     "data": {
      "text/plain": [
       "StandardScaler()"
      ]
     },
     "execution_count": 116,
     "metadata": {},
     "output_type": "execute_result"
    }
   ],
   "source": [
    "ss.fit(X_train)"
   ]
  },
  {
   "cell_type": "code",
   "execution_count": 117,
   "metadata": {},
   "outputs": [
    {
     "data": {
      "text/html": [
       "<div>\n",
       "<style scoped>\n",
       "    .dataframe tbody tr th:only-of-type {\n",
       "        vertical-align: middle;\n",
       "    }\n",
       "\n",
       "    .dataframe tbody tr th {\n",
       "        vertical-align: top;\n",
       "    }\n",
       "\n",
       "    .dataframe thead th {\n",
       "        text-align: right;\n",
       "    }\n",
       "</style>\n",
       "<table border=\"1\" class=\"dataframe\">\n",
       "  <thead>\n",
       "    <tr style=\"text-align: right;\">\n",
       "      <th></th>\n",
       "      <th>0</th>\n",
       "      <th>1</th>\n",
       "      <th>2</th>\n",
       "      <th>3</th>\n",
       "      <th>4</th>\n",
       "      <th>5</th>\n",
       "      <th>6</th>\n",
       "      <th>7</th>\n",
       "      <th>8</th>\n",
       "      <th>9</th>\n",
       "      <th>...</th>\n",
       "      <th>23</th>\n",
       "      <th>24</th>\n",
       "      <th>25</th>\n",
       "      <th>26</th>\n",
       "      <th>27</th>\n",
       "      <th>28</th>\n",
       "      <th>29</th>\n",
       "      <th>30</th>\n",
       "      <th>31</th>\n",
       "      <th>32</th>\n",
       "    </tr>\n",
       "  </thead>\n",
       "  <tbody>\n",
       "    <tr>\n",
       "      <th>0</th>\n",
       "      <td>-0.737695</td>\n",
       "      <td>-0.879741</td>\n",
       "      <td>-0.565685</td>\n",
       "      <td>-0.510152</td>\n",
       "      <td>0.902587</td>\n",
       "      <td>-0.482043</td>\n",
       "      <td>-0.307562</td>\n",
       "      <td>0.615838</td>\n",
       "      <td>-0.130856</td>\n",
       "      <td>-0.235981</td>\n",
       "      <td>...</td>\n",
       "      <td>-0.143592</td>\n",
       "      <td>-0.067153</td>\n",
       "      <td>-1.231645</td>\n",
       "      <td>1.432260</td>\n",
       "      <td>-0.273476</td>\n",
       "      <td>-0.216803</td>\n",
       "      <td>-0.513644</td>\n",
       "      <td>0.840771</td>\n",
       "      <td>-0.420731</td>\n",
       "      <td>-0.101015</td>\n",
       "    </tr>\n",
       "    <tr>\n",
       "      <th>1</th>\n",
       "      <td>1.355574</td>\n",
       "      <td>1.361220</td>\n",
       "      <td>1.767767</td>\n",
       "      <td>-0.510152</td>\n",
       "      <td>-1.107926</td>\n",
       "      <td>2.074505</td>\n",
       "      <td>-0.307562</td>\n",
       "      <td>-1.623803</td>\n",
       "      <td>-0.130856</td>\n",
       "      <td>-0.235981</td>\n",
       "      <td>...</td>\n",
       "      <td>-0.143592</td>\n",
       "      <td>-0.067153</td>\n",
       "      <td>-1.231645</td>\n",
       "      <td>1.432260</td>\n",
       "      <td>-0.273476</td>\n",
       "      <td>-0.216803</td>\n",
       "      <td>-0.513644</td>\n",
       "      <td>-1.189384</td>\n",
       "      <td>2.376816</td>\n",
       "      <td>-0.101015</td>\n",
       "    </tr>\n",
       "    <tr>\n",
       "      <th>2</th>\n",
       "      <td>1.355574</td>\n",
       "      <td>-0.798540</td>\n",
       "      <td>-0.565685</td>\n",
       "      <td>-0.510152</td>\n",
       "      <td>0.902587</td>\n",
       "      <td>-0.482043</td>\n",
       "      <td>-0.307562</td>\n",
       "      <td>0.615838</td>\n",
       "      <td>-0.130856</td>\n",
       "      <td>-0.235981</td>\n",
       "      <td>...</td>\n",
       "      <td>-0.143592</td>\n",
       "      <td>-0.067153</td>\n",
       "      <td>0.811922</td>\n",
       "      <td>-0.698197</td>\n",
       "      <td>-0.273476</td>\n",
       "      <td>-0.216803</td>\n",
       "      <td>1.946875</td>\n",
       "      <td>-1.189384</td>\n",
       "      <td>-0.420731</td>\n",
       "      <td>-0.101015</td>\n",
       "    </tr>\n",
       "    <tr>\n",
       "      <th>3</th>\n",
       "      <td>1.355574</td>\n",
       "      <td>1.062038</td>\n",
       "      <td>1.767767</td>\n",
       "      <td>-0.510152</td>\n",
       "      <td>-1.107926</td>\n",
       "      <td>-0.482043</td>\n",
       "      <td>-0.307562</td>\n",
       "      <td>0.615838</td>\n",
       "      <td>-0.130856</td>\n",
       "      <td>-0.235981</td>\n",
       "      <td>...</td>\n",
       "      <td>-0.143592</td>\n",
       "      <td>-0.067153</td>\n",
       "      <td>-1.231645</td>\n",
       "      <td>1.432260</td>\n",
       "      <td>-0.273476</td>\n",
       "      <td>-0.216803</td>\n",
       "      <td>-0.513644</td>\n",
       "      <td>-1.189384</td>\n",
       "      <td>2.376816</td>\n",
       "      <td>-0.101015</td>\n",
       "    </tr>\n",
       "    <tr>\n",
       "      <th>4</th>\n",
       "      <td>-0.737695</td>\n",
       "      <td>-0.784179</td>\n",
       "      <td>-0.565685</td>\n",
       "      <td>-0.510152</td>\n",
       "      <td>0.902587</td>\n",
       "      <td>-0.482043</td>\n",
       "      <td>-0.307562</td>\n",
       "      <td>0.615838</td>\n",
       "      <td>-0.130856</td>\n",
       "      <td>-0.235981</td>\n",
       "      <td>...</td>\n",
       "      <td>-0.143592</td>\n",
       "      <td>-0.067153</td>\n",
       "      <td>0.811922</td>\n",
       "      <td>-0.698197</td>\n",
       "      <td>-0.273476</td>\n",
       "      <td>-0.216803</td>\n",
       "      <td>-0.513644</td>\n",
       "      <td>0.840771</td>\n",
       "      <td>-0.420731</td>\n",
       "      <td>-0.101015</td>\n",
       "    </tr>\n",
       "    <tr>\n",
       "      <th>...</th>\n",
       "      <td>...</td>\n",
       "      <td>...</td>\n",
       "      <td>...</td>\n",
       "      <td>...</td>\n",
       "      <td>...</td>\n",
       "      <td>...</td>\n",
       "      <td>...</td>\n",
       "      <td>...</td>\n",
       "      <td>...</td>\n",
       "      <td>...</td>\n",
       "      <td>...</td>\n",
       "      <td>...</td>\n",
       "      <td>...</td>\n",
       "      <td>...</td>\n",
       "      <td>...</td>\n",
       "      <td>...</td>\n",
       "      <td>...</td>\n",
       "      <td>...</td>\n",
       "      <td>...</td>\n",
       "      <td>...</td>\n",
       "      <td>...</td>\n",
       "    </tr>\n",
       "    <tr>\n",
       "      <th>886</th>\n",
       "      <td>-0.737695</td>\n",
       "      <td>-0.333698</td>\n",
       "      <td>-0.565685</td>\n",
       "      <td>1.960202</td>\n",
       "      <td>-1.107926</td>\n",
       "      <td>-0.482043</td>\n",
       "      <td>-0.307562</td>\n",
       "      <td>0.615838</td>\n",
       "      <td>-0.130856</td>\n",
       "      <td>-0.235981</td>\n",
       "      <td>...</td>\n",
       "      <td>-0.143592</td>\n",
       "      <td>-0.067153</td>\n",
       "      <td>0.811922</td>\n",
       "      <td>-0.698197</td>\n",
       "      <td>-0.273476</td>\n",
       "      <td>-0.216803</td>\n",
       "      <td>-0.513644</td>\n",
       "      <td>-1.189384</td>\n",
       "      <td>-0.420731</td>\n",
       "      <td>9.899495</td>\n",
       "    </tr>\n",
       "    <tr>\n",
       "      <th>887</th>\n",
       "      <td>1.355574</td>\n",
       "      <td>0.487082</td>\n",
       "      <td>1.767767</td>\n",
       "      <td>-0.510152</td>\n",
       "      <td>-1.107926</td>\n",
       "      <td>-0.482043</td>\n",
       "      <td>-0.307562</td>\n",
       "      <td>0.615838</td>\n",
       "      <td>-0.130856</td>\n",
       "      <td>4.237623</td>\n",
       "      <td>...</td>\n",
       "      <td>-0.143592</td>\n",
       "      <td>-0.067153</td>\n",
       "      <td>0.811922</td>\n",
       "      <td>-0.698197</td>\n",
       "      <td>-0.273476</td>\n",
       "      <td>-0.216803</td>\n",
       "      <td>1.946875</td>\n",
       "      <td>-1.189384</td>\n",
       "      <td>-0.420731</td>\n",
       "      <td>-0.101015</td>\n",
       "    </tr>\n",
       "    <tr>\n",
       "      <th>888</th>\n",
       "      <td>1.355574</td>\n",
       "      <td>0.242007</td>\n",
       "      <td>-0.565685</td>\n",
       "      <td>-0.510152</td>\n",
       "      <td>0.902587</td>\n",
       "      <td>-0.482043</td>\n",
       "      <td>-0.307562</td>\n",
       "      <td>0.615838</td>\n",
       "      <td>-0.130856</td>\n",
       "      <td>-0.235981</td>\n",
       "      <td>...</td>\n",
       "      <td>-0.143592</td>\n",
       "      <td>-0.067153</td>\n",
       "      <td>-1.231645</td>\n",
       "      <td>1.432260</td>\n",
       "      <td>-0.273476</td>\n",
       "      <td>-0.216803</td>\n",
       "      <td>1.946875</td>\n",
       "      <td>-1.189384</td>\n",
       "      <td>-0.420731</td>\n",
       "      <td>-0.101015</td>\n",
       "    </tr>\n",
       "    <tr>\n",
       "      <th>889</th>\n",
       "      <td>-0.737695</td>\n",
       "      <td>0.487082</td>\n",
       "      <td>1.767767</td>\n",
       "      <td>-0.510152</td>\n",
       "      <td>-1.107926</td>\n",
       "      <td>2.074505</td>\n",
       "      <td>-0.307562</td>\n",
       "      <td>-1.623803</td>\n",
       "      <td>-0.130856</td>\n",
       "      <td>-0.235981</td>\n",
       "      <td>...</td>\n",
       "      <td>-0.143592</td>\n",
       "      <td>-0.067153</td>\n",
       "      <td>0.811922</td>\n",
       "      <td>-0.698197</td>\n",
       "      <td>-0.273476</td>\n",
       "      <td>-0.216803</td>\n",
       "      <td>-0.513644</td>\n",
       "      <td>0.840771</td>\n",
       "      <td>-0.420731</td>\n",
       "      <td>-0.101015</td>\n",
       "    </tr>\n",
       "    <tr>\n",
       "      <th>890</th>\n",
       "      <td>-0.737695</td>\n",
       "      <td>-0.818987</td>\n",
       "      <td>-0.565685</td>\n",
       "      <td>-0.510152</td>\n",
       "      <td>0.902587</td>\n",
       "      <td>-0.482043</td>\n",
       "      <td>3.251373</td>\n",
       "      <td>-1.623803</td>\n",
       "      <td>-0.130856</td>\n",
       "      <td>-0.235981</td>\n",
       "      <td>...</td>\n",
       "      <td>-0.143592</td>\n",
       "      <td>-0.067153</td>\n",
       "      <td>0.811922</td>\n",
       "      <td>-0.698197</td>\n",
       "      <td>-0.273476</td>\n",
       "      <td>-0.216803</td>\n",
       "      <td>-0.513644</td>\n",
       "      <td>0.840771</td>\n",
       "      <td>-0.420731</td>\n",
       "      <td>-0.101015</td>\n",
       "    </tr>\n",
       "  </tbody>\n",
       "</table>\n",
       "<p>891 rows × 33 columns</p>\n",
       "</div>"
      ],
      "text/plain": [
       "           0         1         2         3         4         5         6   \\\n",
       "0   -0.737695 -0.879741 -0.565685 -0.510152  0.902587 -0.482043 -0.307562   \n",
       "1    1.355574  1.361220  1.767767 -0.510152 -1.107926  2.074505 -0.307562   \n",
       "2    1.355574 -0.798540 -0.565685 -0.510152  0.902587 -0.482043 -0.307562   \n",
       "3    1.355574  1.062038  1.767767 -0.510152 -1.107926 -0.482043 -0.307562   \n",
       "4   -0.737695 -0.784179 -0.565685 -0.510152  0.902587 -0.482043 -0.307562   \n",
       "..        ...       ...       ...       ...       ...       ...       ...   \n",
       "886 -0.737695 -0.333698 -0.565685  1.960202 -1.107926 -0.482043 -0.307562   \n",
       "887  1.355574  0.487082  1.767767 -0.510152 -1.107926 -0.482043 -0.307562   \n",
       "888  1.355574  0.242007 -0.565685 -0.510152  0.902587 -0.482043 -0.307562   \n",
       "889 -0.737695  0.487082  1.767767 -0.510152 -1.107926  2.074505 -0.307562   \n",
       "890 -0.737695 -0.818987 -0.565685 -0.510152  0.902587 -0.482043  3.251373   \n",
       "\n",
       "           7         8         9   ...        23        24        25  \\\n",
       "0    0.615838 -0.130856 -0.235981  ... -0.143592 -0.067153 -1.231645   \n",
       "1   -1.623803 -0.130856 -0.235981  ... -0.143592 -0.067153 -1.231645   \n",
       "2    0.615838 -0.130856 -0.235981  ... -0.143592 -0.067153  0.811922   \n",
       "3    0.615838 -0.130856 -0.235981  ... -0.143592 -0.067153 -1.231645   \n",
       "4    0.615838 -0.130856 -0.235981  ... -0.143592 -0.067153  0.811922   \n",
       "..        ...       ...       ...  ...       ...       ...       ...   \n",
       "886  0.615838 -0.130856 -0.235981  ... -0.143592 -0.067153  0.811922   \n",
       "887  0.615838 -0.130856  4.237623  ... -0.143592 -0.067153  0.811922   \n",
       "888  0.615838 -0.130856 -0.235981  ... -0.143592 -0.067153 -1.231645   \n",
       "889 -1.623803 -0.130856 -0.235981  ... -0.143592 -0.067153  0.811922   \n",
       "890 -1.623803 -0.130856 -0.235981  ... -0.143592 -0.067153  0.811922   \n",
       "\n",
       "           26        27        28        29        30        31        32  \n",
       "0    1.432260 -0.273476 -0.216803 -0.513644  0.840771 -0.420731 -0.101015  \n",
       "1    1.432260 -0.273476 -0.216803 -0.513644 -1.189384  2.376816 -0.101015  \n",
       "2   -0.698197 -0.273476 -0.216803  1.946875 -1.189384 -0.420731 -0.101015  \n",
       "3    1.432260 -0.273476 -0.216803 -0.513644 -1.189384  2.376816 -0.101015  \n",
       "4   -0.698197 -0.273476 -0.216803 -0.513644  0.840771 -0.420731 -0.101015  \n",
       "..        ...       ...       ...       ...       ...       ...       ...  \n",
       "886 -0.698197 -0.273476 -0.216803 -0.513644 -1.189384 -0.420731  9.899495  \n",
       "887 -0.698197 -0.273476 -0.216803  1.946875 -1.189384 -0.420731 -0.101015  \n",
       "888  1.432260 -0.273476 -0.216803  1.946875 -1.189384 -0.420731 -0.101015  \n",
       "889 -0.698197 -0.273476 -0.216803 -0.513644  0.840771 -0.420731 -0.101015  \n",
       "890 -0.698197 -0.273476 -0.216803 -0.513644  0.840771 -0.420731 -0.101015  \n",
       "\n",
       "[891 rows x 33 columns]"
      ]
     },
     "execution_count": 117,
     "metadata": {},
     "output_type": "execute_result"
    }
   ],
   "source": [
    "X_train_ss = pd.DataFrame(ss.transform(X_train))\n",
    "X_train_ss"
   ]
  },
  {
   "cell_type": "code",
   "execution_count": 118,
   "metadata": {},
   "outputs": [
    {
     "data": {
      "text/html": [
       "<div>\n",
       "<style scoped>\n",
       "    .dataframe tbody tr th:only-of-type {\n",
       "        vertical-align: middle;\n",
       "    }\n",
       "\n",
       "    .dataframe tbody tr th {\n",
       "        vertical-align: top;\n",
       "    }\n",
       "\n",
       "    .dataframe thead th {\n",
       "        text-align: right;\n",
       "    }\n",
       "</style>\n",
       "<table border=\"1\" class=\"dataframe\">\n",
       "  <thead>\n",
       "    <tr style=\"text-align: right;\">\n",
       "      <th></th>\n",
       "      <th>Sex</th>\n",
       "      <th>Fare</th>\n",
       "      <th>Pclass_1</th>\n",
       "      <th>Pclass_2</th>\n",
       "      <th>Pclass_3</th>\n",
       "      <th>Embarked_0</th>\n",
       "      <th>Embarked_1</th>\n",
       "      <th>Embarked_2</th>\n",
       "      <th>Deck_0</th>\n",
       "      <th>Deck_1</th>\n",
       "      <th>...</th>\n",
       "      <th>Age_cut_6</th>\n",
       "      <th>Age_cut_7</th>\n",
       "      <th>Family_Group_0</th>\n",
       "      <th>Family_Group_1</th>\n",
       "      <th>Family_Group_2</th>\n",
       "      <th>initial_0</th>\n",
       "      <th>initial_1</th>\n",
       "      <th>initial_2</th>\n",
       "      <th>initial_3</th>\n",
       "      <th>initial_4</th>\n",
       "    </tr>\n",
       "  </thead>\n",
       "  <tbody>\n",
       "    <tr>\n",
       "      <th>0</th>\n",
       "      <td>-0.737695</td>\n",
       "      <td>-0.809683</td>\n",
       "      <td>-0.565685</td>\n",
       "      <td>-0.510152</td>\n",
       "      <td>0.902587</td>\n",
       "      <td>-0.482043</td>\n",
       "      <td>3.251373</td>\n",
       "      <td>-1.623803</td>\n",
       "      <td>-0.130856</td>\n",
       "      <td>-0.235981</td>\n",
       "      <td>...</td>\n",
       "      <td>-0.143592</td>\n",
       "      <td>-0.067153</td>\n",
       "      <td>0.811922</td>\n",
       "      <td>-0.698197</td>\n",
       "      <td>-0.273476</td>\n",
       "      <td>-0.216803</td>\n",
       "      <td>-0.513644</td>\n",
       "      <td>0.840771</td>\n",
       "      <td>-0.420731</td>\n",
       "      <td>-0.101015</td>\n",
       "    </tr>\n",
       "    <tr>\n",
       "      <th>1</th>\n",
       "      <td>1.355574</td>\n",
       "      <td>-0.911513</td>\n",
       "      <td>-0.565685</td>\n",
       "      <td>-0.510152</td>\n",
       "      <td>0.902587</td>\n",
       "      <td>-0.482043</td>\n",
       "      <td>-0.307562</td>\n",
       "      <td>0.615838</td>\n",
       "      <td>-0.130856</td>\n",
       "      <td>-0.235981</td>\n",
       "      <td>...</td>\n",
       "      <td>-0.143592</td>\n",
       "      <td>-0.067153</td>\n",
       "      <td>-1.231645</td>\n",
       "      <td>1.432260</td>\n",
       "      <td>-0.273476</td>\n",
       "      <td>-0.216803</td>\n",
       "      <td>-0.513644</td>\n",
       "      <td>-1.189384</td>\n",
       "      <td>2.376816</td>\n",
       "      <td>-0.101015</td>\n",
       "    </tr>\n",
       "    <tr>\n",
       "      <th>2</th>\n",
       "      <td>-0.737695</td>\n",
       "      <td>-0.612461</td>\n",
       "      <td>-0.565685</td>\n",
       "      <td>1.960202</td>\n",
       "      <td>-1.107926</td>\n",
       "      <td>-0.482043</td>\n",
       "      <td>3.251373</td>\n",
       "      <td>-1.623803</td>\n",
       "      <td>-0.130856</td>\n",
       "      <td>-0.235981</td>\n",
       "      <td>...</td>\n",
       "      <td>6.964194</td>\n",
       "      <td>-0.067153</td>\n",
       "      <td>0.811922</td>\n",
       "      <td>-0.698197</td>\n",
       "      <td>-0.273476</td>\n",
       "      <td>-0.216803</td>\n",
       "      <td>-0.513644</td>\n",
       "      <td>0.840771</td>\n",
       "      <td>-0.420731</td>\n",
       "      <td>-0.101015</td>\n",
       "    </tr>\n",
       "    <tr>\n",
       "      <th>3</th>\n",
       "      <td>-0.737695</td>\n",
       "      <td>-0.716562</td>\n",
       "      <td>-0.565685</td>\n",
       "      <td>-0.510152</td>\n",
       "      <td>0.902587</td>\n",
       "      <td>-0.482043</td>\n",
       "      <td>-0.307562</td>\n",
       "      <td>0.615838</td>\n",
       "      <td>-0.130856</td>\n",
       "      <td>-0.235981</td>\n",
       "      <td>...</td>\n",
       "      <td>-0.143592</td>\n",
       "      <td>-0.067153</td>\n",
       "      <td>0.811922</td>\n",
       "      <td>-0.698197</td>\n",
       "      <td>-0.273476</td>\n",
       "      <td>-0.216803</td>\n",
       "      <td>-0.513644</td>\n",
       "      <td>0.840771</td>\n",
       "      <td>-0.420731</td>\n",
       "      <td>-0.101015</td>\n",
       "    </tr>\n",
       "    <tr>\n",
       "      <th>4</th>\n",
       "      <td>1.355574</td>\n",
       "      <td>-0.387631</td>\n",
       "      <td>-0.565685</td>\n",
       "      <td>-0.510152</td>\n",
       "      <td>0.902587</td>\n",
       "      <td>-0.482043</td>\n",
       "      <td>-0.307562</td>\n",
       "      <td>0.615838</td>\n",
       "      <td>-0.130856</td>\n",
       "      <td>-0.235981</td>\n",
       "      <td>...</td>\n",
       "      <td>-0.143592</td>\n",
       "      <td>-0.067153</td>\n",
       "      <td>-1.231645</td>\n",
       "      <td>1.432260</td>\n",
       "      <td>-0.273476</td>\n",
       "      <td>-0.216803</td>\n",
       "      <td>-0.513644</td>\n",
       "      <td>-1.189384</td>\n",
       "      <td>2.376816</td>\n",
       "      <td>-0.101015</td>\n",
       "    </tr>\n",
       "    <tr>\n",
       "      <th>...</th>\n",
       "      <td>...</td>\n",
       "      <td>...</td>\n",
       "      <td>...</td>\n",
       "      <td>...</td>\n",
       "      <td>...</td>\n",
       "      <td>...</td>\n",
       "      <td>...</td>\n",
       "      <td>...</td>\n",
       "      <td>...</td>\n",
       "      <td>...</td>\n",
       "      <td>...</td>\n",
       "      <td>...</td>\n",
       "      <td>...</td>\n",
       "      <td>...</td>\n",
       "      <td>...</td>\n",
       "      <td>...</td>\n",
       "      <td>...</td>\n",
       "      <td>...</td>\n",
       "      <td>...</td>\n",
       "      <td>...</td>\n",
       "      <td>...</td>\n",
       "    </tr>\n",
       "    <tr>\n",
       "      <th>413</th>\n",
       "      <td>-0.737695</td>\n",
       "      <td>-0.784179</td>\n",
       "      <td>-0.565685</td>\n",
       "      <td>-0.510152</td>\n",
       "      <td>0.902587</td>\n",
       "      <td>-0.482043</td>\n",
       "      <td>-0.307562</td>\n",
       "      <td>0.615838</td>\n",
       "      <td>-0.130856</td>\n",
       "      <td>-0.235981</td>\n",
       "      <td>...</td>\n",
       "      <td>-0.143592</td>\n",
       "      <td>-0.067153</td>\n",
       "      <td>0.811922</td>\n",
       "      <td>-0.698197</td>\n",
       "      <td>-0.273476</td>\n",
       "      <td>-0.216803</td>\n",
       "      <td>-0.513644</td>\n",
       "      <td>0.840771</td>\n",
       "      <td>-0.420731</td>\n",
       "      <td>-0.101015</td>\n",
       "    </tr>\n",
       "    <tr>\n",
       "      <th>414</th>\n",
       "      <td>1.355574</td>\n",
       "      <td>1.793823</td>\n",
       "      <td>1.767767</td>\n",
       "      <td>-0.510152</td>\n",
       "      <td>-1.107926</td>\n",
       "      <td>2.074505</td>\n",
       "      <td>-0.307562</td>\n",
       "      <td>-1.623803</td>\n",
       "      <td>-0.130856</td>\n",
       "      <td>-0.235981</td>\n",
       "      <td>...</td>\n",
       "      <td>-0.143592</td>\n",
       "      <td>-0.067153</td>\n",
       "      <td>0.811922</td>\n",
       "      <td>-0.698197</td>\n",
       "      <td>-0.273476</td>\n",
       "      <td>-0.216803</td>\n",
       "      <td>-0.513644</td>\n",
       "      <td>0.840771</td>\n",
       "      <td>-0.420731</td>\n",
       "      <td>-0.101015</td>\n",
       "    </tr>\n",
       "    <tr>\n",
       "      <th>415</th>\n",
       "      <td>-0.737695</td>\n",
       "      <td>-0.879741</td>\n",
       "      <td>-0.565685</td>\n",
       "      <td>-0.510152</td>\n",
       "      <td>0.902587</td>\n",
       "      <td>-0.482043</td>\n",
       "      <td>-0.307562</td>\n",
       "      <td>0.615838</td>\n",
       "      <td>-0.130856</td>\n",
       "      <td>-0.235981</td>\n",
       "      <td>...</td>\n",
       "      <td>-0.143592</td>\n",
       "      <td>-0.067153</td>\n",
       "      <td>0.811922</td>\n",
       "      <td>-0.698197</td>\n",
       "      <td>-0.273476</td>\n",
       "      <td>-0.216803</td>\n",
       "      <td>-0.513644</td>\n",
       "      <td>0.840771</td>\n",
       "      <td>-0.420731</td>\n",
       "      <td>-0.101015</td>\n",
       "    </tr>\n",
       "    <tr>\n",
       "      <th>416</th>\n",
       "      <td>-0.737695</td>\n",
       "      <td>-0.784179</td>\n",
       "      <td>-0.565685</td>\n",
       "      <td>-0.510152</td>\n",
       "      <td>0.902587</td>\n",
       "      <td>-0.482043</td>\n",
       "      <td>-0.307562</td>\n",
       "      <td>0.615838</td>\n",
       "      <td>-0.130856</td>\n",
       "      <td>-0.235981</td>\n",
       "      <td>...</td>\n",
       "      <td>-0.143592</td>\n",
       "      <td>-0.067153</td>\n",
       "      <td>0.811922</td>\n",
       "      <td>-0.698197</td>\n",
       "      <td>-0.273476</td>\n",
       "      <td>-0.216803</td>\n",
       "      <td>-0.513644</td>\n",
       "      <td>0.840771</td>\n",
       "      <td>-0.420731</td>\n",
       "      <td>-0.101015</td>\n",
       "    </tr>\n",
       "    <tr>\n",
       "      <th>417</th>\n",
       "      <td>-0.737695</td>\n",
       "      <td>0.194843</td>\n",
       "      <td>-0.565685</td>\n",
       "      <td>-0.510152</td>\n",
       "      <td>0.902587</td>\n",
       "      <td>2.074505</td>\n",
       "      <td>-0.307562</td>\n",
       "      <td>-1.623803</td>\n",
       "      <td>-0.130856</td>\n",
       "      <td>-0.235981</td>\n",
       "      <td>...</td>\n",
       "      <td>-0.143592</td>\n",
       "      <td>-0.067153</td>\n",
       "      <td>-1.231645</td>\n",
       "      <td>1.432260</td>\n",
       "      <td>-0.273476</td>\n",
       "      <td>4.612483</td>\n",
       "      <td>-0.513644</td>\n",
       "      <td>-1.189384</td>\n",
       "      <td>-0.420731</td>\n",
       "      <td>-0.101015</td>\n",
       "    </tr>\n",
       "  </tbody>\n",
       "</table>\n",
       "<p>418 rows × 33 columns</p>\n",
       "</div>"
      ],
      "text/plain": [
       "          Sex      Fare  Pclass_1  Pclass_2  Pclass_3  Embarked_0  Embarked_1  \\\n",
       "0   -0.737695 -0.809683 -0.565685 -0.510152  0.902587   -0.482043    3.251373   \n",
       "1    1.355574 -0.911513 -0.565685 -0.510152  0.902587   -0.482043   -0.307562   \n",
       "2   -0.737695 -0.612461 -0.565685  1.960202 -1.107926   -0.482043    3.251373   \n",
       "3   -0.737695 -0.716562 -0.565685 -0.510152  0.902587   -0.482043   -0.307562   \n",
       "4    1.355574 -0.387631 -0.565685 -0.510152  0.902587   -0.482043   -0.307562   \n",
       "..        ...       ...       ...       ...       ...         ...         ...   \n",
       "413 -0.737695 -0.784179 -0.565685 -0.510152  0.902587   -0.482043   -0.307562   \n",
       "414  1.355574  1.793823  1.767767 -0.510152 -1.107926    2.074505   -0.307562   \n",
       "415 -0.737695 -0.879741 -0.565685 -0.510152  0.902587   -0.482043   -0.307562   \n",
       "416 -0.737695 -0.784179 -0.565685 -0.510152  0.902587   -0.482043   -0.307562   \n",
       "417 -0.737695  0.194843 -0.565685 -0.510152  0.902587    2.074505   -0.307562   \n",
       "\n",
       "     Embarked_2    Deck_0    Deck_1  ...  Age_cut_6  Age_cut_7  \\\n",
       "0     -1.623803 -0.130856 -0.235981  ...  -0.143592  -0.067153   \n",
       "1      0.615838 -0.130856 -0.235981  ...  -0.143592  -0.067153   \n",
       "2     -1.623803 -0.130856 -0.235981  ...   6.964194  -0.067153   \n",
       "3      0.615838 -0.130856 -0.235981  ...  -0.143592  -0.067153   \n",
       "4      0.615838 -0.130856 -0.235981  ...  -0.143592  -0.067153   \n",
       "..          ...       ...       ...  ...        ...        ...   \n",
       "413    0.615838 -0.130856 -0.235981  ...  -0.143592  -0.067153   \n",
       "414   -1.623803 -0.130856 -0.235981  ...  -0.143592  -0.067153   \n",
       "415    0.615838 -0.130856 -0.235981  ...  -0.143592  -0.067153   \n",
       "416    0.615838 -0.130856 -0.235981  ...  -0.143592  -0.067153   \n",
       "417   -1.623803 -0.130856 -0.235981  ...  -0.143592  -0.067153   \n",
       "\n",
       "     Family_Group_0  Family_Group_1  Family_Group_2  initial_0  initial_1  \\\n",
       "0          0.811922       -0.698197       -0.273476  -0.216803  -0.513644   \n",
       "1         -1.231645        1.432260       -0.273476  -0.216803  -0.513644   \n",
       "2          0.811922       -0.698197       -0.273476  -0.216803  -0.513644   \n",
       "3          0.811922       -0.698197       -0.273476  -0.216803  -0.513644   \n",
       "4         -1.231645        1.432260       -0.273476  -0.216803  -0.513644   \n",
       "..              ...             ...             ...        ...        ...   \n",
       "413        0.811922       -0.698197       -0.273476  -0.216803  -0.513644   \n",
       "414        0.811922       -0.698197       -0.273476  -0.216803  -0.513644   \n",
       "415        0.811922       -0.698197       -0.273476  -0.216803  -0.513644   \n",
       "416        0.811922       -0.698197       -0.273476  -0.216803  -0.513644   \n",
       "417       -1.231645        1.432260       -0.273476   4.612483  -0.513644   \n",
       "\n",
       "     initial_2  initial_3  initial_4  \n",
       "0     0.840771  -0.420731  -0.101015  \n",
       "1    -1.189384   2.376816  -0.101015  \n",
       "2     0.840771  -0.420731  -0.101015  \n",
       "3     0.840771  -0.420731  -0.101015  \n",
       "4    -1.189384   2.376816  -0.101015  \n",
       "..         ...        ...        ...  \n",
       "413   0.840771  -0.420731  -0.101015  \n",
       "414   0.840771  -0.420731  -0.101015  \n",
       "415   0.840771  -0.420731  -0.101015  \n",
       "416   0.840771  -0.420731  -0.101015  \n",
       "417  -1.189384  -0.420731  -0.101015  \n",
       "\n",
       "[418 rows x 33 columns]"
      ]
     },
     "execution_count": 118,
     "metadata": {},
     "output_type": "execute_result"
    }
   ],
   "source": [
    "X_test_ss = pd.DataFrame(ss.transform(X_test), columns=X_test.columns)\n",
    "X_test_ss"
   ]
  },
  {
   "cell_type": "code",
   "execution_count": 119,
   "metadata": {
    "collapsed": true
   },
   "outputs": [
    {
     "data": {
      "text/plain": [
       "array([[-0.87974057],\n",
       "       [ 1.36121993],\n",
       "       [-0.79853997],\n",
       "       [ 1.06203806],\n",
       "       [-0.78417924],\n",
       "       [-0.7386163 ],\n",
       "       [ 1.03814556],\n",
       "       [ 0.13649914],\n",
       "       [-0.48145578],\n",
       "       [ 0.48943791],\n",
       "       [-0.091565  ],\n",
       "       [ 0.36526094],\n",
       "       [-0.78417924],\n",
       "       [ 0.52869893],\n",
       "       [-0.80676338],\n",
       "       [-0.13322852],\n",
       "       [ 0.45751954],\n",
       "       [-0.33369847],\n",
       "       [-0.01838584],\n",
       "       [-0.88287417],\n",
       "       [ 0.34443948],\n",
       "       [-0.33369847],\n",
       "       [-0.78655506],\n",
       "       [ 0.65571883],\n",
       "       [ 0.13649914],\n",
       "       [ 0.53229169],\n",
       "       [-0.88287417],\n",
       "       [ 2.69870078],\n",
       "       [-0.80385215],\n",
       "       [-0.80192362],\n",
       "       [ 0.40823345],\n",
       "       [ 2.09779492],\n",
       "       [-0.81898658],\n",
       "       [-0.53680577],\n",
       "       [ 1.50608578],\n",
       "       [ 1.04082775],\n",
       "       [-0.88234706],\n",
       "       [-0.78417924],\n",
       "       [-0.01838584],\n",
       "       [-0.47227212],\n",
       "       [-0.63319725],\n",
       "       [ 0.13298517],\n",
       "       [-0.80192362],\n",
       "       [ 0.81478225],\n",
       "       [-0.80385215],\n",
       "       [-0.78417924],\n",
       "       [-0.1640523 ],\n",
       "       [-0.81898658],\n",
       "       [ 0.16437971],\n",
       "       [-0.02931208],\n",
       "       [ 0.76785943],\n",
       "       [-0.81310326],\n",
       "       [ 1.43621998],\n",
       "       [ 0.34443948],\n",
       "       [ 1.21895045],\n",
       "       [ 0.65571883],\n",
       "       [-0.53680577],\n",
       "       [-0.88234706],\n",
       "       [ 0.40928266],\n",
       "       [ 0.93636109],\n",
       "       [-0.88234706],\n",
       "       [ 1.47877855],\n",
       "       [ 1.52215108],\n",
       "       [ 0.41465572],\n",
       "       [ 0.40823345],\n",
       "       [-0.18008317],\n",
       "       [-0.53680577],\n",
       "       [-0.77189658],\n",
       "       [-0.79853997],\n",
       "       [-0.71656193],\n",
       "       [-0.53680577],\n",
       "       [ 0.93636109],\n",
       "       [ 1.39240823],\n",
       "       [-0.23166126],\n",
       "       [ 1.12489551],\n",
       "       [-0.83085476],\n",
       "       [-0.80192362],\n",
       "       [-0.78417924],\n",
       "       [ 0.45322631],\n",
       "       [-0.37316264],\n",
       "       [-0.68111276],\n",
       "       [-0.63073594],\n",
       "       [-0.81457095],\n",
       "       [ 0.94066327],\n",
       "       [-0.53680577],\n",
       "       [-0.14237942],\n",
       "       [ 0.62339383],\n",
       "       [-0.78417924],\n",
       "       [ 2.69870078],\n",
       "       [-0.78417924],\n",
       "       [-0.78417924],\n",
       "       [-0.80676338],\n",
       "       [ 1.20568099],\n",
       "       [ 0.11284358],\n",
       "       [-0.87974057],\n",
       "       [-0.78417924],\n",
       "       [ 0.63151108],\n",
       "       [ 1.24131627],\n",
       "       [ 0.22282615],\n",
       "       [ 0.34443948],\n",
       "       [-0.80192362],\n",
       "       [-0.80192362],\n",
       "       [ 1.44360968],\n",
       "       [-0.71744924],\n",
       "       [-0.79853997],\n",
       "       [-0.80192362],\n",
       "       [-0.83085476],\n",
       "       [-0.81604073],\n",
       "       [-0.80192362],\n",
       "       [ 0.27115228],\n",
       "       [ 1.04082775],\n",
       "       [-0.23166126],\n",
       "       [-0.78417924],\n",
       "       [-0.59926162],\n",
       "       [-0.23138737],\n",
       "       [-0.79853997],\n",
       "       [-0.81898658],\n",
       "       [ 0.13298517],\n",
       "       [ 2.63631328],\n",
       "       [ 0.52869893],\n",
       "       [ 1.39240823],\n",
       "       [-0.78417924],\n",
       "       [ 0.48943791],\n",
       "       [-0.33369847],\n",
       "       [ 1.44360968],\n",
       "       [-0.47227212],\n",
       "       [-0.81898658],\n",
       "       [-0.89338449],\n",
       "       [ 0.19484336],\n",
       "       [-0.9147446 ],\n",
       "       [-0.80192362],\n",
       "       [-0.90507975],\n",
       "       [-0.22860581],\n",
       "       [ 0.34443948],\n",
       "       [-0.33369847],\n",
       "       [-0.19287328],\n",
       "       [ 0.35521685],\n",
       "       [ 1.06203806],\n",
       "       [-0.65897704],\n",
       "       [ 1.46853013],\n",
       "       [-0.18008317],\n",
       "       [-0.81898658],\n",
       "       [-0.14237942],\n",
       "       [-0.94429408],\n",
       "       [-0.4507126 ],\n",
       "       [ 0.6904871 ],\n",
       "       [-0.81359617],\n",
       "       [ 0.62339383],\n",
       "       [ 0.34443948],\n",
       "       [-0.33369847],\n",
       "       [-0.36933848],\n",
       "       [ 1.29205644],\n",
       "       [-0.78417924],\n",
       "       [-0.22860581],\n",
       "       [-0.87194793],\n",
       "       [ 1.20906652],\n",
       "       [-0.8209591 ],\n",
       "       [-0.78417924],\n",
       "       [-0.71656193],\n",
       "       [ 1.33615918],\n",
       "       [-0.12717267],\n",
       "       [-0.14852539],\n",
       "       [-0.81604073],\n",
       "       [-0.71656193],\n",
       "       [ 0.76785943],\n",
       "       [ 0.11044794],\n",
       "       [ 1.09767807],\n",
       "       [ 0.41465572],\n",
       "       [ 0.34156738],\n",
       "       [ 1.12489551],\n",
       "       [ 0.5975333 ],\n",
       "       [ 0.45751954],\n",
       "       [-0.48145578],\n",
       "       [-0.79853997],\n",
       "       [ 0.51000128],\n",
       "       [-0.80676338],\n",
       "       [ 0.3238412 ],\n",
       "       [ 0.44328361],\n",
       "       [-0.33369847],\n",
       "       [-3.05857773],\n",
       "       [ 1.33615918],\n",
       "       [-0.19260306],\n",
       "       [ 0.53229169],\n",
       "       [ 0.75026378],\n",
       "       [ 0.1800042 ],\n",
       "       [ 1.00111055],\n",
       "       [-0.1640523 ],\n",
       "       [ 0.36526094],\n",
       "       [-0.1640523 ],\n",
       "       [-0.80192362],\n",
       "       [-0.33369847],\n",
       "       [-0.33369847],\n",
       "       [-0.80676338],\n",
       "       [ 0.34443948],\n",
       "       [ 0.40823345],\n",
       "       [ 2.09779492],\n",
       "       [-0.81898658],\n",
       "       [-0.74453911],\n",
       "       [-0.81898658],\n",
       "       [-0.33369847],\n",
       "       [-0.63073594],\n",
       "       [ 1.33615918],\n",
       "       [-0.9787286 ],\n",
       "       [-0.88287417],\n",
       "       [-0.78417924],\n",
       "       [-0.54017818],\n",
       "       [-0.14237942],\n",
       "       [ 0.02354629],\n",
       "       [-0.81898658],\n",
       "       [ 0.51986362],\n",
       "       [-0.90507975],\n",
       "       [ 0.13298517],\n",
       "       [-0.87974057],\n",
       "       [-0.33369847],\n",
       "       [-0.81898658],\n",
       "       [ 1.83412923],\n",
       "       [-0.79853997],\n",
       "       [ 0.3819898 ],\n",
       "       [ 1.430392  ],\n",
       "       [-0.53680577],\n",
       "       [-0.78417924],\n",
       "       [-0.33369847],\n",
       "       [-0.78417924],\n",
       "       [-0.80192362],\n",
       "       [ 1.59897456],\n",
       "       [-0.6455926 ],\n",
       "       [-0.53680577],\n",
       "       [-0.87974057],\n",
       "       [-0.33369847],\n",
       "       [ 0.3238412 ],\n",
       "       [ 1.52215108],\n",
       "       [-0.81604073],\n",
       "       [-0.29746599],\n",
       "       [ 0.53229169],\n",
       "       [-0.53680577],\n",
       "       [-0.84286094],\n",
       "       [ 0.34443948],\n",
       "       [ 0.35395586],\n",
       "       [-0.53680577],\n",
       "       [-0.38860247],\n",
       "       [-0.23166126],\n",
       "       [-0.1640523 ],\n",
       "       [-0.53680577],\n",
       "       [-0.89550454],\n",
       "       [-0.88287417],\n",
       "       [ 1.59897456],\n",
       "       [-0.81604073],\n",
       "       [-0.22860581],\n",
       "       [ 1.05156834],\n",
       "       [ 0.34443948],\n",
       "       [-0.87974057],\n",
       "       [-0.54017818],\n",
       "       [ 0.36526094],\n",
       "       [-0.12717267],\n",
       "       [ 0.09534794],\n",
       "       [-0.18008317],\n",
       "       [ 1.46853013],\n",
       "       [ 1.55847839],\n",
       "       [ 3.38529374],\n",
       "       [ 0.34443948],\n",
       "       [-0.81898658],\n",
       "       [ 0.53229169],\n",
       "       [ 1.47430738],\n",
       "       [-3.05857773],\n",
       "       [-0.81898658],\n",
       "       [-0.53680577],\n",
       "       [ 0.76785943],\n",
       "       [-0.81604073],\n",
       "       [ 2.14527242],\n",
       "       [ 2.01863318],\n",
       "       [ 0.51986362],\n",
       "       [-3.05857773],\n",
       "       [ 0.06007113],\n",
       "       [ 0.47704166],\n",
       "       [-0.81898658],\n",
       "       [ 1.45241905],\n",
       "       [-0.81898658],\n",
       "       [-3.05857773],\n",
       "       [ 0.45751954],\n",
       "       [ 0.09717164],\n",
       "       [-0.81898658],\n",
       "       [-0.80676338],\n",
       "       [-0.63073594],\n",
       "       [-0.78417924],\n",
       "       [ 0.34443948],\n",
       "       [-0.71656193],\n",
       "       [-0.63073594],\n",
       "       [-0.80192362],\n",
       "       [-0.33369847],\n",
       "       [-0.81898658],\n",
       "       [ 1.46401426],\n",
       "       [ 1.61114752],\n",
       "       [-0.3429588 ],\n",
       "       [-0.69671789],\n",
       "       [-0.80192362],\n",
       "       [ 0.40823345],\n",
       "       [-0.88234706],\n",
       "       [ 2.13240832],\n",
       "       [ 0.50360313],\n",
       "       [ 2.63631328],\n",
       "       [-0.81898658],\n",
       "       [ 0.23352593],\n",
       "       [-3.05857773],\n",
       "       [-0.38278544],\n",
       "       [-0.78417924],\n",
       "       [ 2.13240832],\n",
       "       [ 1.81228993],\n",
       "       [ 1.79382279],\n",
       "       [ 0.26497567],\n",
       "       [ 1.1326494 ],\n",
       "       [ 1.51827284],\n",
       "       [ 2.69625347],\n",
       "       [ 0.34443948],\n",
       "       [-0.80192362],\n",
       "       [ 0.35395586],\n",
       "       [-0.80676338],\n",
       "       [ 0.34443948],\n",
       "       [-0.26246196],\n",
       "       [ 2.21882202],\n",
       "       [ 2.01003326],\n",
       "       [-0.87974057],\n",
       "       [-0.80192362],\n",
       "       [-0.38278544],\n",
       "       [ 0.45322631],\n",
       "       [ 1.33615918],\n",
       "       [ 2.01863318],\n",
       "       [-1.014936  ],\n",
       "       [-0.33369847],\n",
       "       [ 0.11044794],\n",
       "       [ 1.15119683],\n",
       "       [ 0.23352593],\n",
       "       [ 0.43587263],\n",
       "       [ 2.14527242],\n",
       "       [-0.01838584],\n",
       "       [ 2.0035358 ],\n",
       "       [-0.80192362],\n",
       "       [ 1.29205644],\n",
       "       [ 2.01003326],\n",
       "       [-0.78417924],\n",
       "       [ 0.65571883],\n",
       "       [ 0.34443948],\n",
       "       [ 2.69870078],\n",
       "       [-0.33369847],\n",
       "       [-0.33369847],\n",
       "       [-0.33369847],\n",
       "       [-0.33369847],\n",
       "       [-0.33369847],\n",
       "       [-0.12717267],\n",
       "       [-0.1393201 ],\n",
       "       [-0.71656193],\n",
       "       [-0.65813856],\n",
       "       [ 0.64147695],\n",
       "       [-0.88234706],\n",
       "       [-0.02931208],\n",
       "       [-0.88287417],\n",
       "       [-0.63073594],\n",
       "       [ 1.09767807],\n",
       "       [-0.33369847],\n",
       "       [-0.80385215],\n",
       "       [-0.80385215],\n",
       "       [ 0.41465572],\n",
       "       [ 0.40823345],\n",
       "       [-0.23166126],\n",
       "       [-0.90507975],\n",
       "       [-0.1640523 ],\n",
       "       [-0.87974057],\n",
       "       [ 1.41638158],\n",
       "       [-0.88234706],\n",
       "       [-0.81898658],\n",
       "       [ 1.33249386],\n",
       "       [ 1.10579012],\n",
       "       [-0.9787286 ],\n",
       "       [-0.78417924],\n",
       "       [ 2.01863318],\n",
       "       [ 0.13649914],\n",
       "       [ 1.50608578],\n",
       "       [-0.87974057],\n",
       "       [ 2.47463661],\n",
       "       [-1.39422295],\n",
       "       [-0.81604073],\n",
       "       [ 2.54970455],\n",
       "       [-0.14903716],\n",
       "       [-0.79853997],\n",
       "       [ 1.04082775],\n",
       "       [-0.80192362],\n",
       "       [ 1.39240823],\n",
       "       [ 0.93636109],\n",
       "       [-0.33369847],\n",
       "       [-0.82144395],\n",
       "       [-0.41021643],\n",
       "       [ 1.89317153],\n",
       "       [-0.81359617],\n",
       "       [-0.79853997],\n",
       "       [ 1.83412923],\n",
       "       [-0.091565  ],\n",
       "       [-0.81359617],\n",
       "       [-0.80676338],\n",
       "       [ 0.34443948],\n",
       "       [-0.53680577],\n",
       "       [-0.35983961],\n",
       "       [-0.79853997],\n",
       "       [-0.78417924],\n",
       "       [-0.59926162],\n",
       "       [-0.14237942],\n",
       "       [-0.71656193],\n",
       "       [ 0.13298517],\n",
       "       [-0.81898658],\n",
       "       [ 0.02158767],\n",
       "       [-0.81604073],\n",
       "       [ 0.3238412 ],\n",
       "       [-0.80192362],\n",
       "       [-0.92996533],\n",
       "       [ 1.59897456],\n",
       "       [-3.05857773],\n",
       "       [-0.79853997],\n",
       "       [-0.78417924],\n",
       "       [ 0.56716288],\n",
       "       [-0.33369847],\n",
       "       [-0.33369847],\n",
       "       [ 0.27115228],\n",
       "       [-0.80192362],\n",
       "       [-0.8209591 ],\n",
       "       [-0.80434066],\n",
       "       [-0.23528881],\n",
       "       [ 0.09534794],\n",
       "       [-0.87974057],\n",
       "       [ 0.34443948],\n",
       "       [ 0.34443948],\n",
       "       [-0.81898658],\n",
       "       [-0.78417924],\n",
       "       [ 0.36526094],\n",
       "       [-0.12717267],\n",
       "       [ 0.34443948],\n",
       "       [-0.89550454],\n",
       "       [ 1.1141402 ],\n",
       "       [ 1.89317153],\n",
       "       [ 0.62339383],\n",
       "       [ 0.02158767],\n",
       "       [ 2.69870078],\n",
       "       [-0.53680577],\n",
       "       [ 0.35395586],\n",
       "       [-0.63073594],\n",
       "       [-0.81604073],\n",
       "       [-0.33369847],\n",
       "       [-0.77707309],\n",
       "       [ 1.50219896],\n",
       "       [ 0.06007113],\n",
       "       [ 0.36526094],\n",
       "       [ 0.04782513],\n",
       "       [ 0.50360313],\n",
       "       [ 0.40928266],\n",
       "       [ 0.08331375],\n",
       "       [ 0.40928266],\n",
       "       [ 1.58876012],\n",
       "       [-0.78417924],\n",
       "       [-0.80192362],\n",
       "       [ 0.36526094],\n",
       "       [ 1.03814556],\n",
       "       [-0.53680577],\n",
       "       [-0.81898658],\n",
       "       [ 0.36526094],\n",
       "       [-0.78417924],\n",
       "       [ 0.73727594],\n",
       "       [-0.33369847],\n",
       "       [-0.78417924],\n",
       "       [-0.90507975],\n",
       "       [-3.05857773],\n",
       "       [ 0.36526094],\n",
       "       [-0.82194086],\n",
       "       [ 0.04782513],\n",
       "       [-0.87974057],\n",
       "       [-0.71656193],\n",
       "       [ 0.40928266],\n",
       "       [-0.27690071],\n",
       "       [-0.59807002],\n",
       "       [ 1.04082775],\n",
       "       [ 0.13298517],\n",
       "       [-0.9056186 ],\n",
       "       [-0.84639324],\n",
       "       [-0.38763069],\n",
       "       [ 0.93636109],\n",
       "       [-3.05857773],\n",
       "       [-0.78417924],\n",
       "       [-0.62216726],\n",
       "       [ 1.61114752],\n",
       "       [ 0.3238412 ],\n",
       "       [ 1.59897456],\n",
       "       [ 0.47704166],\n",
       "       [-0.78417924],\n",
       "       [-0.1393201 ],\n",
       "       [ 0.08331375],\n",
       "       [-0.87974057],\n",
       "       [ 0.50360313],\n",
       "       [ 0.99102373],\n",
       "       [-0.78417924],\n",
       "       [-0.23138737],\n",
       "       [ 1.45644407],\n",
       "       [-0.18939148],\n",
       "       [ 2.13240832],\n",
       "       [-0.81359617],\n",
       "       [-0.71656193],\n",
       "       [-0.81898658],\n",
       "       [-0.83334057],\n",
       "       [-0.62216726],\n",
       "       [ 1.55847839],\n",
       "       [ 1.79382279],\n",
       "       [ 0.34443948],\n",
       "       [ 0.36526094],\n",
       "       [ 0.20218593],\n",
       "       [ 1.12489551],\n",
       "       [-0.81898658],\n",
       "       [-0.78417924],\n",
       "       [ 0.35537578],\n",
       "       [ 1.1757752 ],\n",
       "       [-0.8494271 ],\n",
       "       [ 0.61300339],\n",
       "       [-0.53680577],\n",
       "       [ 0.27115228],\n",
       "       [ 0.34443948],\n",
       "       [-0.80192362],\n",
       "       [ 1.6379422 ],\n",
       "       [-0.80192362],\n",
       "       [-0.88287417],\n",
       "       [ 1.15119683],\n",
       "       [-0.88234706],\n",
       "       [-0.81898658],\n",
       "       [-0.53680577],\n",
       "       [ 2.52341198],\n",
       "       [-0.79853997],\n",
       "       [-0.4507126 ],\n",
       "       [ 0.34443948],\n",
       "       [-0.88234706],\n",
       "       [-0.88234706],\n",
       "       [ 0.19484336],\n",
       "       [-0.71656193],\n",
       "       [ 0.35395586],\n",
       "       [ 0.36526094],\n",
       "       [ 1.77030412],\n",
       "       [-0.22860581],\n",
       "       [ 0.99093786],\n",
       "       [ 1.35716522],\n",
       "       [ 0.52869893],\n",
       "       [ 0.52869893],\n",
       "       [ 0.34443948],\n",
       "       [ 1.77030412],\n",
       "       [ 0.34443948],\n",
       "       [ 0.34443948],\n",
       "       [-0.27197037],\n",
       "       [ 0.11044794],\n",
       "       [ 0.6904871 ],\n",
       "       [ 1.81228993],\n",
       "       [ 0.34443948],\n",
       "       [-0.80968284],\n",
       "       [-0.88287417],\n",
       "       [-0.81604073],\n",
       "       [ 0.36526094],\n",
       "       [ 0.76563657],\n",
       "       [ 2.54970455],\n",
       "       [ 1.47430738],\n",
       "       [-0.05151766],\n",
       "       [-0.81898658],\n",
       "       [-0.80192362],\n",
       "       [-0.29746599],\n",
       "       [-0.78417924],\n",
       "       [-0.78417924],\n",
       "       [ 0.27115228],\n",
       "       [-0.80192362],\n",
       "       [ 0.13649914],\n",
       "       [-0.88234706],\n",
       "       [-0.80676338],\n",
       "       [-0.53680577],\n",
       "       [ 1.0306316 ],\n",
       "       [ 0.35915272],\n",
       "       [-0.81898658],\n",
       "       [-0.78417924],\n",
       "       [-0.22860581],\n",
       "       [-0.33369847],\n",
       "       [ 1.1141402 ],\n",
       "       [-0.23138737],\n",
       "       [-0.79853997],\n",
       "       [ 0.48708246],\n",
       "       [ 1.81228993],\n",
       "       [ 0.34443948],\n",
       "       [ 0.77890253],\n",
       "       [-0.71123279],\n",
       "       [ 1.47430738],\n",
       "       [-0.19582465],\n",
       "       [ 1.46853013],\n",
       "       [-0.78417924],\n",
       "       [-0.78417924],\n",
       "       [-0.89550454],\n",
       "       [ 1.45644407],\n",
       "       [-0.87974057],\n",
       "       [-0.81898658],\n",
       "       [ 0.34443948],\n",
       "       [ 0.27115228],\n",
       "       [ 0.58245975],\n",
       "       [-3.05857773],\n",
       "       [-0.88287417],\n",
       "       [ 1.1326494 ],\n",
       "       [ 0.3819898 ],\n",
       "       [-0.80192362],\n",
       "       [ 0.83449674],\n",
       "       [-0.78417924],\n",
       "       [ 0.36526094],\n",
       "       [-0.16092818],\n",
       "       [-0.80192362],\n",
       "       [ 0.50360313],\n",
       "       [ 0.81478225],\n",
       "       [ 2.14527242],\n",
       "       [ 0.52869893],\n",
       "       [-0.90507975],\n",
       "       [-0.1640523 ],\n",
       "       [-0.81898658],\n",
       "       [-0.78417924],\n",
       "       [ 1.26732424],\n",
       "       [-0.23528881],\n",
       "       [-0.12717267],\n",
       "       [ 0.75026378],\n",
       "       [-0.53680577],\n",
       "       [-0.23166126],\n",
       "       [ 1.05156834],\n",
       "       [-0.14903716],\n",
       "       [-0.80676338],\n",
       "       [-0.12717267],\n",
       "       [ 0.56162484],\n",
       "       [-0.38278544],\n",
       "       [ 1.45241905],\n",
       "       [-0.80192362],\n",
       "       [-0.8209591 ],\n",
       "       [ 0.48708246],\n",
       "       [-0.90454119],\n",
       "       [ 0.50360313],\n",
       "       [-3.05857773],\n",
       "       [ 0.41465572],\n",
       "       [-0.33369847],\n",
       "       [-0.79853997],\n",
       "       [ 0.35395586],\n",
       "       [ 0.76785943],\n",
       "       [-0.12717267],\n",
       "       [-0.80676338],\n",
       "       [ 1.33249386],\n",
       "       [ 0.41465572],\n",
       "       [ 1.12489551],\n",
       "       [ 0.04782513],\n",
       "       [ 1.43621998],\n",
       "       [-0.80192362],\n",
       "       [ 0.65571883],\n",
       "       [-0.84286094],\n",
       "       [-0.84286094],\n",
       "       [-0.80192362],\n",
       "       [ 0.22282615],\n",
       "       [-0.74134905],\n",
       "       [-0.80968284],\n",
       "       [-0.94429408],\n",
       "       [ 1.39240823],\n",
       "       [-0.80192362],\n",
       "       [-0.1640523 ],\n",
       "       [-0.33369847],\n",
       "       [ 1.83412923],\n",
       "       [ 2.0035358 ],\n",
       "       [-0.88287417],\n",
       "       [ 0.32854313],\n",
       "       [-0.8494271 ],\n",
       "       [-0.79853997],\n",
       "       [ 1.39240823],\n",
       "       [-0.33369847],\n",
       "       [-0.81604073],\n",
       "       [-0.78417924],\n",
       "       [ 1.04082775],\n",
       "       [ 0.75026378],\n",
       "       [ 1.04082775],\n",
       "       [-0.53680577],\n",
       "       [-0.33369847],\n",
       "       [-3.05857773],\n",
       "       [-0.81604073],\n",
       "       [-0.78417924],\n",
       "       [-0.59766995],\n",
       "       [ 0.93636109],\n",
       "       [ 3.38529374],\n",
       "       [-0.77424427],\n",
       "       [ 1.43621998],\n",
       "       [-0.65813856],\n",
       "       [ 0.93636109],\n",
       "       [ 0.75026378],\n",
       "       [ 0.81478225],\n",
       "       [ 0.76785943],\n",
       "       [-0.56679408],\n",
       "       [-0.81359617],\n",
       "       [ 2.47384674],\n",
       "       [ 1.13391055],\n",
       "       [-0.30341474],\n",
       "       [ 1.12489551],\n",
       "       [-0.88287417],\n",
       "       [ 0.36526094],\n",
       "       [-0.29746599],\n",
       "       [-0.78417924],\n",
       "       [-0.8209591 ],\n",
       "       [ 1.81228993],\n",
       "       [-0.83085476],\n",
       "       [ 2.54970455],\n",
       "       [ 0.35537578],\n",
       "       [-0.23166126],\n",
       "       [-0.81996646],\n",
       "       [-0.80676338],\n",
       "       [ 0.34443948],\n",
       "       [-0.29746599],\n",
       "       [ 0.35537578],\n",
       "       [ 2.13240832],\n",
       "       [-0.18008317],\n",
       "       [ 0.99102373],\n",
       "       [ 0.36526094],\n",
       "       [ 1.04082775],\n",
       "       [-0.63237945],\n",
       "       [-0.33369847],\n",
       "       [-0.83085476],\n",
       "       [ 2.54970455],\n",
       "       [-0.53680577],\n",
       "       [-0.1640523 ],\n",
       "       [-0.81604073],\n",
       "       [ 0.58245975],\n",
       "       [-0.90454119],\n",
       "       [-0.33369847],\n",
       "       [-0.33369847],\n",
       "       [ 1.06203806],\n",
       "       [-0.71656193],\n",
       "       [ 0.13298517],\n",
       "       [-0.82046266],\n",
       "       [ 0.34443948],\n",
       "       [-0.79853997],\n",
       "       [ 2.47384674],\n",
       "       [ 0.02354629],\n",
       "       [-3.05857773],\n",
       "       [-0.33369847],\n",
       "       [-0.33369847],\n",
       "       [-0.12717267],\n",
       "       [ 0.62339383],\n",
       "       [ 3.38529374],\n",
       "       [-0.80192362],\n",
       "       [-0.80192362],\n",
       "       [ 0.48708246],\n",
       "       [ 1.46401426],\n",
       "       [ 2.69625347],\n",
       "       [-0.12717267],\n",
       "       [-0.79853997],\n",
       "       [ 1.35716522],\n",
       "       [ 0.09717164],\n",
       "       [-0.33369847],\n",
       "       [ 1.06203806],\n",
       "       [-0.81898658],\n",
       "       [ 0.22282615],\n",
       "       [-0.37316264],\n",
       "       [-0.63073594],\n",
       "       [-0.80192362],\n",
       "       [ 1.26732424],\n",
       "       [-0.22860581],\n",
       "       [-0.81359617],\n",
       "       [-0.4507126 ],\n",
       "       [-0.78417924],\n",
       "       [ 1.55847839],\n",
       "       [-0.22860581],\n",
       "       [-0.89550454],\n",
       "       [-0.88234706],\n",
       "       [ 1.89317153],\n",
       "       [-0.81604073],\n",
       "       [ 1.45241905],\n",
       "       [ 0.76563657],\n",
       "       [-0.81898658],\n",
       "       [ 0.27115228],\n",
       "       [-0.74912768],\n",
       "       [-0.63073594],\n",
       "       [-0.80676338],\n",
       "       [-0.53680577],\n",
       "       [-0.88287417],\n",
       "       [ 0.22282615],\n",
       "       [-0.81898658],\n",
       "       [-0.81898658],\n",
       "       [-0.37316264],\n",
       "       [-0.82046266],\n",
       "       [ 2.47384674],\n",
       "       [-0.88234706],\n",
       "       [ 1.13391055],\n",
       "       [ 0.48708246],\n",
       "       [ 0.24200664],\n",
       "       [-0.90507975],\n",
       "       [-0.87974057],\n",
       "       [-0.8494271 ],\n",
       "       [ 0.45751954],\n",
       "       [ 0.11284358],\n",
       "       [ 1.46853013],\n",
       "       [-0.81898658],\n",
       "       [ 0.34443948],\n",
       "       [ 1.33615918],\n",
       "       [ 0.51000128],\n",
       "       [-0.80192362],\n",
       "       [-0.33369847],\n",
       "       [ 0.34172843],\n",
       "       [-0.71434167],\n",
       "       [-0.88234706],\n",
       "       [ 0.27115228],\n",
       "       [-0.33369847],\n",
       "       [ 0.35395586],\n",
       "       [ 1.89317153],\n",
       "       [-0.73226064],\n",
       "       [-0.9147446 ],\n",
       "       [-0.81604073],\n",
       "       [-3.05857773],\n",
       "       [-0.81604073],\n",
       "       [-0.33369847],\n",
       "       [ 1.06203806],\n",
       "       [-0.80288743],\n",
       "       [ 0.27115228],\n",
       "       [-0.53680577],\n",
       "       [ 0.52869893],\n",
       "       [-0.78417924],\n",
       "       [-3.05857773],\n",
       "       [-0.79853997],\n",
       "       [ 0.69741655],\n",
       "       [-0.98505674],\n",
       "       [ 0.41465572],\n",
       "       [ 1.6379422 ],\n",
       "       [-0.71656193],\n",
       "       [-3.05857773],\n",
       "       [-0.37316264],\n",
       "       [ 0.76785943],\n",
       "       [-0.91798642],\n",
       "       [ 1.12489551],\n",
       "       [ 0.69741655],\n",
       "       [-0.81898658],\n",
       "       [ 1.47877855],\n",
       "       [-0.23166126],\n",
       "       [ 0.02158767],\n",
       "       [-0.88234706],\n",
       "       [-0.80676338],\n",
       "       [-0.75604344],\n",
       "       [ 1.51827284],\n",
       "       [-0.71656193],\n",
       "       [-0.78417924],\n",
       "       [ 1.12489551],\n",
       "       [ 0.47704166],\n",
       "       [-0.79853997],\n",
       "       [-0.53680577],\n",
       "       [ 0.51986362],\n",
       "       [-0.98679061],\n",
       "       [-0.71656193],\n",
       "       [-0.84286094],\n",
       "       [ 1.33615918],\n",
       "       [-0.80192362],\n",
       "       [ 0.58245975],\n",
       "       [ 1.58876012],\n",
       "       [ 0.52869893],\n",
       "       [-0.81604073],\n",
       "       [-0.18008317],\n",
       "       [ 0.7605377 ],\n",
       "       [ 0.34443948],\n",
       "       [-0.6455926 ],\n",
       "       [ 2.21882202],\n",
       "       [ 0.36526094],\n",
       "       [ 0.04782513],\n",
       "       [-0.88234706],\n",
       "       [-0.25503395],\n",
       "       [-0.4507126 ],\n",
       "       [ 0.34172843],\n",
       "       [ 1.33615918],\n",
       "       [-0.33369847],\n",
       "       [-0.33369847],\n",
       "       [-0.27226219],\n",
       "       [ 1.01109979],\n",
       "       [-0.63073594],\n",
       "       [-0.48145578],\n",
       "       [-0.80192362],\n",
       "       [ 1.05156834],\n",
       "       [-1.20855039],\n",
       "       [-0.68111276],\n",
       "       [ 0.26497567],\n",
       "       [-0.88287417],\n",
       "       [-0.59727956],\n",
       "       [-0.80192362],\n",
       "       [-0.80192362],\n",
       "       [ 1.51827284],\n",
       "       [ 0.34443948],\n",
       "       [-0.80192362],\n",
       "       [-0.53530746],\n",
       "       [-0.53680577],\n",
       "       [-0.90507975],\n",
       "       [ 0.45751954],\n",
       "       [-0.33369847],\n",
       "       [ 0.48708246],\n",
       "       [ 0.24200664],\n",
       "       [ 0.48708246],\n",
       "       [-0.81898658]])"
      ]
     },
     "execution_count": 119,
     "metadata": {},
     "output_type": "execute_result"
    }
   ],
   "source": [
    "#fit_transform : 훈련가 변환을 동시에 진행\n",
    "# test -> fit_trasform 사용시 test에 맞춰서 훈련이 진행후 변환되기 때문에 test에는 사용 x\n",
    "ss.fit_transform(X_train.loc[:,'Fare':'Fare'])"
   ]
  },
  {
   "cell_type": "code",
   "execution_count": 120,
   "metadata": {},
   "outputs": [],
   "source": [
    "from sklearn.ensemble import RandomForestClassifier"
   ]
  },
  {
   "cell_type": "code",
   "execution_count": 129,
   "metadata": {},
   "outputs": [],
   "source": [
    "rf = RandomForestClassifier(n_estimators=11, max_features=5, random_state=77)"
   ]
  },
  {
   "cell_type": "code",
   "execution_count": 130,
   "metadata": {},
   "outputs": [
    {
     "data": {
      "text/plain": [
       "0.9438832772166106"
      ]
     },
     "execution_count": 130,
     "metadata": {},
     "output_type": "execute_result"
    }
   ],
   "source": [
    "rf.fit(X_train, y_train)\n",
    "rf.score(X_train, y_train)"
   ]
  },
  {
   "cell_type": "code",
   "execution_count": 131,
   "metadata": {},
   "outputs": [
    {
     "data": {
      "text/plain": [
       "0.7912372104701526"
      ]
     },
     "execution_count": 131,
     "metadata": {},
     "output_type": "execute_result"
    }
   ],
   "source": [
    "result = cross_val_score(rf, X_train, y_train, cv=5)\n",
    "result.mean() #과대적합 조금 해소"
   ]
  },
  {
   "cell_type": "code",
   "execution_count": 132,
   "metadata": {},
   "outputs": [
    {
     "name": "stdout",
     "output_type": "stream",
     "text": [
      "Requirement already satisfied: xgboost in c:\\users\\vdi02\\anaconda3\\lib\\site-packages (1.3.1)\n",
      "Requirement already satisfied: numpy in c:\\users\\vdi02\\anaconda3\\lib\\site-packages (from xgboost) (1.19.2)\n",
      "Requirement already satisfied: scipy in c:\\users\\vdi02\\anaconda3\\lib\\site-packages (from xgboost) (1.5.2)\n"
     ]
    }
   ],
   "source": [
    "!pip install xgboost"
   ]
  },
  {
   "cell_type": "code",
   "execution_count": 133,
   "metadata": {},
   "outputs": [
    {
     "name": "stdout",
     "output_type": "stream",
     "text": [
      "Collecting lightgbm\n",
      "  Downloading lightgbm-3.1.1-py2.py3-none-win_amd64.whl (754 kB)\n",
      "Requirement already satisfied: scikit-learn!=0.22.0 in c:\\users\\vdi02\\anaconda3\\lib\\site-packages (from lightgbm) (0.23.2)\n",
      "Requirement already satisfied: wheel in c:\\users\\vdi02\\anaconda3\\lib\\site-packages (from lightgbm) (0.35.1)\n",
      "Requirement already satisfied: scipy in c:\\users\\vdi02\\anaconda3\\lib\\site-packages (from lightgbm) (1.5.2)\n",
      "Requirement already satisfied: numpy in c:\\users\\vdi02\\anaconda3\\lib\\site-packages (from lightgbm) (1.19.2)\n",
      "Requirement already satisfied: threadpoolctl>=2.0.0 in c:\\users\\vdi02\\anaconda3\\lib\\site-packages (from scikit-learn!=0.22.0->lightgbm) (2.1.0)\n",
      "Requirement already satisfied: joblib>=0.11 in c:\\users\\vdi02\\anaconda3\\lib\\site-packages (from scikit-learn!=0.22.0->lightgbm) (0.17.0)\n",
      "Installing collected packages: lightgbm\n",
      "Successfully installed lightgbm-3.1.1\n"
     ]
    }
   ],
   "source": [
    "!pip install lightgbm"
   ]
  },
  {
   "cell_type": "code",
   "execution_count": 134,
   "metadata": {},
   "outputs": [],
   "source": [
    "from xgboost import XGBClassifier"
   ]
  },
  {
   "cell_type": "code",
   "execution_count": 139,
   "metadata": {},
   "outputs": [],
   "source": [
    "xgb = XGBClassifier(n_estimators = 50, max_depth = 5, learning_rate = 0.1)\n",
    "# 파라미터를 설정해주지 않으면 모델 내에  설정된 기본값들이 들어가게 됨"
   ]
  },
  {
   "cell_type": "code",
   "execution_count": 143,
   "metadata": {},
   "outputs": [
    {
     "name": "stdout",
     "output_type": "stream",
     "text": [
      "[17:41:49] WARNING: C:/Users/Administrator/workspace/xgboost-win64_release_1.3.0/src/learner.cc:1061: Starting in XGBoost 1.3.0, the default evaluation metric used with the objective 'binary:logistic' was changed from 'error' to 'logloss'. Explicitly set eval_metric if you'd like to restore the old behavior.\n"
     ]
    },
    {
     "data": {
      "text/plain": [
       "XGBClassifier(base_score=0.5, booster='gbtree', colsample_bylevel=1,\n",
       "              colsample_bynode=1, colsample_bytree=1, gamma=0, gpu_id=-1,\n",
       "              importance_type='gain', interaction_constraints='',\n",
       "              learning_rate=0.1, max_delta_step=0, max_depth=5,\n",
       "              min_child_weight=1, missing=nan, monotone_constraints='()',\n",
       "              n_estimators=50, n_jobs=4, num_parallel_tree=1, random_state=0,\n",
       "              reg_alpha=0, reg_lambda=1, scale_pos_weight=1, subsample=1,\n",
       "              tree_method='exact', validate_parameters=1, verbosity=None)"
      ]
     },
     "execution_count": 143,
     "metadata": {},
     "output_type": "execute_result"
    }
   ],
   "source": [
    "#early_stopping_rounds = 10, validation score 10회동안 나아지지 않으면 종료\n",
    "xgb.fit(X_train, y_train)"
   ]
  },
  {
   "cell_type": "code",
   "execution_count": 144,
   "metadata": {},
   "outputs": [
    {
     "name": "stdout",
     "output_type": "stream",
     "text": [
      "[17:41:50] WARNING: C:/Users/Administrator/workspace/xgboost-win64_release_1.3.0/src/learner.cc:1061: Starting in XGBoost 1.3.0, the default evaluation metric used with the objective 'binary:logistic' was changed from 'error' to 'logloss'. Explicitly set eval_metric if you'd like to restore the old behavior.\n",
      "[17:41:50] WARNING: C:/Users/Administrator/workspace/xgboost-win64_release_1.3.0/src/learner.cc:1061: Starting in XGBoost 1.3.0, the default evaluation metric used with the objective 'binary:logistic' was changed from 'error' to 'logloss'. Explicitly set eval_metric if you'd like to restore the old behavior.\n",
      "[17:41:50] WARNING: C:/Users/Administrator/workspace/xgboost-win64_release_1.3.0/src/learner.cc:1061: Starting in XGBoost 1.3.0, the default evaluation metric used with the objective 'binary:logistic' was changed from 'error' to 'logloss'. Explicitly set eval_metric if you'd like to restore the old behavior.\n",
      "[17:41:50] WARNING: C:/Users/Administrator/workspace/xgboost-win64_release_1.3.0/src/learner.cc:1061: Starting in XGBoost 1.3.0, the default evaluation metric used with the objective 'binary:logistic' was changed from 'error' to 'logloss'. Explicitly set eval_metric if you'd like to restore the old behavior.\n",
      "[17:41:50] WARNING: C:/Users/Administrator/workspace/xgboost-win64_release_1.3.0/src/learner.cc:1061: Starting in XGBoost 1.3.0, the default evaluation metric used with the objective 'binary:logistic' was changed from 'error' to 'logloss'. Explicitly set eval_metric if you'd like to restore the old behavior.\n"
     ]
    },
    {
     "data": {
      "text/plain": [
       "0.827154604230745"
      ]
     },
     "execution_count": 144,
     "metadata": {},
     "output_type": "execute_result"
    }
   ],
   "source": [
    "result = cross_val_score(xgb, X_train, y_train, cv = 5)\n",
    "result.mean()"
   ]
  },
  {
   "cell_type": "code",
   "execution_count": 145,
   "metadata": {},
   "outputs": [],
   "source": [
    "from lightgbm import LGBMClassifier"
   ]
  },
  {
   "cell_type": "code",
   "execution_count": 150,
   "metadata": {},
   "outputs": [],
   "source": [
    "lgbm = LGBMClassifier(max_depth=5, n_estimators=50, learning_rate=0.1)"
   ]
  },
  {
   "cell_type": "code",
   "execution_count": 151,
   "metadata": {},
   "outputs": [
    {
     "name": "stdout",
     "output_type": "stream",
     "text": [
      "[LightGBM] [Warning] Accuracy may be bad since you didn't explicitly set num_leaves OR 2^max_depth > num_leaves. (num_leaves=31).\n"
     ]
    },
    {
     "data": {
      "text/plain": [
       "LGBMClassifier(max_depth=5, n_estimators=50)"
      ]
     },
     "execution_count": 151,
     "metadata": {},
     "output_type": "execute_result"
    }
   ],
   "source": [
    "lgbm.fit(X_train,y_train)"
   ]
  },
  {
   "cell_type": "code",
   "execution_count": 152,
   "metadata": {},
   "outputs": [
    {
     "name": "stdout",
     "output_type": "stream",
     "text": [
      "[LightGBM] [Warning] Accuracy may be bad since you didn't explicitly set num_leaves OR 2^max_depth > num_leaves. (num_leaves=31).\n",
      "[LightGBM] [Warning] Accuracy may be bad since you didn't explicitly set num_leaves OR 2^max_depth > num_leaves. (num_leaves=31).\n",
      "[LightGBM] [Warning] Accuracy may be bad since you didn't explicitly set num_leaves OR 2^max_depth > num_leaves. (num_leaves=31).\n",
      "[LightGBM] [Warning] Accuracy may be bad since you didn't explicitly set num_leaves OR 2^max_depth > num_leaves. (num_leaves=31).\n"
     ]
    },
    {
     "data": {
      "text/plain": [
       "array([0.81005587, 0.80898876, 0.86516854, 0.8258427 , 0.84831461])"
      ]
     },
     "execution_count": 152,
     "metadata": {},
     "output_type": "execute_result"
    }
   ],
   "source": [
    "result = cross_val_score(lgbm, X_train, y_train)\n",
    "result"
   ]
  },
  {
   "cell_type": "code",
   "execution_count": 153,
   "metadata": {},
   "outputs": [
    {
     "data": {
      "text/plain": [
       "0.8316740945326722"
      ]
     },
     "execution_count": 153,
     "metadata": {},
     "output_type": "execute_result"
    }
   ],
   "source": [
    "result.mean()"
   ]
  },
  {
   "cell_type": "code",
   "execution_count": null,
   "metadata": {},
   "outputs": [],
   "source": []
  }
 ],
 "metadata": {
  "kernelspec": {
   "display_name": "Python 3 (ipykernel)",
   "language": "python",
   "name": "python3"
  },
  "language_info": {
   "codemirror_mode": {
    "name": "ipython",
    "version": 3
   },
   "file_extension": ".py",
   "mimetype": "text/x-python",
   "name": "python",
   "nbconvert_exporter": "python",
   "pygments_lexer": "ipython3",
   "version": "3.7.11"
  }
 },
 "nbformat": 4,
 "nbformat_minor": 4
}
