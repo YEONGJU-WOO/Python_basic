{
 "cells": [
  {
   "cell_type": "code",
   "execution_count": 1,
   "metadata": {},
   "outputs": [],
   "source": [
    "import numpy as np"
   ]
  },
  {
   "cell_type": "code",
   "execution_count": 6,
   "metadata": {},
   "outputs": [
    {
     "name": "stdout",
     "output_type": "stream",
     "text": [
      "<class 'numpy.ndarray'>\n",
      "[[1 2]\n",
      " [3 4]\n",
      " [5 6]]\n",
      "[[[1 2 3]\n",
      "  [4 5 6]]]\n"
     ]
    }
   ],
   "source": [
    "# 1차원 배열 생성\n",
    "list1 = [1,2,3,4,5]\n",
    "array =  np.array(list1)\n",
    "\n",
    "print(type(array))\n",
    "\n",
    "# 2차원 배열 생성\n",
    "list2 = [[1,2],[3,4],[5,6]]\n",
    "array2 = np.array(list2)\n",
    "print(array2)\n",
    "\n",
    "# 3차원 배열 생성\n",
    "\n",
    "list3 = [[[1,2,3],[4,5,6]]]\n",
    "array3 = np.array(list3)\n",
    "print(array3)"
   ]
  },
  {
   "cell_type": "code",
   "execution_count": 7,
   "metadata": {},
   "outputs": [
    {
     "name": "stdout",
     "output_type": "stream",
     "text": [
      "(5,)\n",
      "(3, 2)\n",
      "(1, 2, 3)\n"
     ]
    }
   ],
   "source": [
    "#배열의 크기 -> shape\n",
    "print(array.shape)\n",
    "print(array2.shape)\n",
    "print(array3.shape)"
   ]
  },
  {
   "cell_type": "code",
   "execution_count": 8,
   "metadata": {},
   "outputs": [
    {
     "name": "stdout",
     "output_type": "stream",
     "text": [
      "5\n",
      "6\n",
      "6\n"
     ]
    }
   ],
   "source": [
    "# 배열의 전체 요소의 개수 확인 -> size\n",
    "print(array.size)\n",
    "print(array2.size)\n",
    "print(array3.size)"
   ]
  },
  {
   "cell_type": "code",
   "execution_count": 9,
   "metadata": {},
   "outputs": [
    {
     "name": "stdout",
     "output_type": "stream",
     "text": [
      "int32\n"
     ]
    }
   ],
   "source": [
    "# 배열의 내 데이터 타입 확인\n",
    "print(array.dtype)"
   ]
  },
  {
   "cell_type": "code",
   "execution_count": 12,
   "metadata": {},
   "outputs": [
    {
     "name": "stdout",
     "output_type": "stream",
     "text": [
      "1\n",
      "2\n",
      "3\n"
     ]
    }
   ],
   "source": [
    "# 배열의 차원 확인\n",
    "print(array.ndim)\n",
    "print(array2.ndim)\n",
    "print(array3.ndim)"
   ]
  },
  {
   "cell_type": "code",
   "execution_count": 16,
   "metadata": {},
   "outputs": [
    {
     "name": "stdout",
     "output_type": "stream",
     "text": [
      "배열의 크기 :  (2, 2, 2)\n",
      "배열의 차원 :  3\n",
      "배열의 개수 :  8\n"
     ]
    }
   ],
   "source": [
    "list4 = [[[1,2],[3,4]],[[5,6],[7,8]]]\n",
    "array4 = np.array(list4)\n",
    "print(\"배열의 크기 : \",array4.shape)\n",
    "print(\"배열의 차원 : \",array4.ndim)\n",
    "print(\"배열의 개수 : \",array4.size)"
   ]
  },
  {
   "cell_type": "code",
   "execution_count": 20,
   "metadata": {},
   "outputs": [
    {
     "data": {
      "text/plain": [
       "array([[5, 5, 5, 5],\n",
       "       [5, 5, 5, 5]])"
      ]
     },
     "execution_count": 20,
     "metadata": {},
     "output_type": "execute_result"
    }
   ],
   "source": [
    "# 0 값을 가진 배열 생성\n",
    "array_zeros = np.zeros((5,5))\n",
    "array_zeros\n",
    "\n",
    "# 1 값을 가진 배열 생성\n",
    "array_ones = np.ones((3,3))\n",
    "array_ones\n",
    "\n",
    "# 특정값을 지정하여 배열 생성\n",
    "array_fulls = np.full((2,4),5)\n",
    "array_fulls"
   ]
  },
  {
   "cell_type": "code",
   "execution_count": 1,
   "metadata": {},
   "outputs": [
    {
     "ename": "NameError",
     "evalue": "name 'np' is not defined",
     "output_type": "error",
     "traceback": [
      "\u001b[1;31m---------------------------------------------------------------------------\u001b[0m",
      "\u001b[1;31mNameError\u001b[0m                                 Traceback (most recent call last)",
      "\u001b[1;32m<ipython-input-1-228e775617d6>\u001b[0m in \u001b[0;36m<module>\u001b[1;34m\u001b[0m\n\u001b[0;32m      1\u001b[0m \u001b[1;31m# 범위를 지정하여 1차원 배열 생성\u001b[0m\u001b[1;33m\u001b[0m\u001b[1;33m\u001b[0m\u001b[1;33m\u001b[0m\u001b[0m\n\u001b[1;32m----> 2\u001b[1;33m \u001b[0marray5\u001b[0m \u001b[1;33m=\u001b[0m \u001b[0mnp\u001b[0m\u001b[1;33m.\u001b[0m\u001b[0marange\u001b[0m\u001b[1;33m(\u001b[0m\u001b[1;36m1\u001b[0m\u001b[1;33m,\u001b[0m\u001b[1;36m51\u001b[0m\u001b[1;33m)\u001b[0m\u001b[1;33m\u001b[0m\u001b[1;33m\u001b[0m\u001b[0m\n\u001b[0m\u001b[0;32m      3\u001b[0m \u001b[0mprint\u001b[0m\u001b[1;33m(\u001b[0m\u001b[0marray5\u001b[0m\u001b[1;33m)\u001b[0m\u001b[1;33m\u001b[0m\u001b[1;33m\u001b[0m\u001b[0m\n\u001b[0;32m      4\u001b[0m \u001b[1;33m\u001b[0m\u001b[0m\n\u001b[0;32m      5\u001b[0m \u001b[1;31m# 랜덤값으로 배열 생성\u001b[0m\u001b[1;33m\u001b[0m\u001b[1;33m\u001b[0m\u001b[1;33m\u001b[0m\u001b[0m\n",
      "\u001b[1;31mNameError\u001b[0m: name 'np' is not defined"
     ]
    }
   ],
   "source": [
    "# 범위를 지정하여 1차원 배열 생성\n",
    "array5 = np.arange(1,51)\n",
    "print(array5)\n",
    "\n",
    "# 랜덤값으로 배열 생성\n",
    "#rand(행, 열)\n",
    "array6 = np.random.rand(1,5)\n",
    "print(array6)\n",
    "\n",
    "#randint(start, end, (행,렬))\n",
    "array7 = np.random.randint(1,5, (2,2))\n",
    "print(array7)"
   ]
  },
  {
   "cell_type": "code",
   "execution_count": 29,
   "metadata": {},
   "outputs": [
    {
     "name": "stdout",
     "output_type": "stream",
     "text": [
      "[1 2 3]\n",
      "더하기 연산:  [2 4 6]\n",
      "빼기 연산:  [0 0 0]\n",
      "곱하기 연산:  [1 4 9]\n",
      "나누기 연산:  [1. 1. 1.]\n"
     ]
    }
   ],
   "source": [
    "# 배열 연산\n",
    "array8 = np.arange(1,4)\n",
    "print(array8)\n",
    "\n",
    "print('더하기 연산: ', array8+array8)\n",
    "print('빼기 연산: ', array8-array8)\n",
    "print('곱하기 연산: ', array8*array8)\n",
    "print('나누기 연산: ', array8/array8)"
   ]
  },
  {
   "cell_type": "code",
   "execution_count": 2,
   "metadata": {},
   "outputs": [
    {
     "data": {
      "text/plain": [
       "array([[175.2, 180.3, 175. , 169.2, 185.2, 188. , 177.6, 178.2, 177. ,\n",
       "        179. ],\n",
       "       [ 65.6,  88. ,  79.2,  69.3,  55. ,  71.2,  73. ,  68.9,  74. ,\n",
       "         82. ]])"
      ]
     },
     "execution_count": 2,
     "metadata": {},
     "output_type": "execute_result"
    }
   ],
   "source": [
    "import numpy as np\n",
    "\n",
    "data = np.loadtxt(\"data/height_weight.txt\", delimiter = ',')\n",
    "data"
   ]
  },
  {
   "cell_type": "code",
   "execution_count": 3,
   "metadata": {},
   "outputs": [
    {
     "data": {
      "text/plain": [
       "array([1.752, 1.803, 1.75 , 1.692, 1.852, 1.88 , 1.776, 1.782, 1.77 ,\n",
       "       1.79 ])"
      ]
     },
     "execution_count": 3,
     "metadata": {},
     "output_type": "execute_result"
    }
   ],
   "source": [
    "height = data[0]*0.01\n",
    "height"
   ]
  },
  {
   "cell_type": "code",
   "execution_count": 7,
   "metadata": {},
   "outputs": [
    {
     "data": {
      "text/plain": [
       "array([21.37153104, 27.07018468, 25.86122449, 24.20652885, 16.03543423,\n",
       "       20.14486193, 23.14392095, 21.69720651, 23.62028791, 25.59220998])"
      ]
     },
     "execution_count": 7,
     "metadata": {},
     "output_type": "execute_result"
    }
   ],
   "source": [
    "bmi = data[1]/(height**2)\n",
    "bmi"
   ]
  },
  {
   "cell_type": "code",
   "execution_count": 14,
   "metadata": {},
   "outputs": [
    {
     "name": "stdout",
     "output_type": "stream",
     "text": [
      "5\n",
      "2\n"
     ]
    }
   ],
   "source": [
    "#인덱싱\n",
    "array9 = np.array([[1,2,3],[4,5,6]])\n",
    "print(array9[1][1])\n",
    "print(array9[0,1])"
   ]
  },
  {
   "cell_type": "code",
   "execution_count": 23,
   "metadata": {},
   "outputs": [
    {
     "name": "stdout",
     "output_type": "stream",
     "text": [
      "[3 4 5 6 7]\n",
      "[ 0  1  2 12 12 12 12 12  8  9]\n"
     ]
    }
   ],
   "source": [
    "#슬라이싱\n",
    "array10 = np.arange(10)\n",
    "print(array10[3:8])\n",
    "array10[3:8]= 12\n",
    "print(array10)"
   ]
  },
  {
   "cell_type": "code",
   "execution_count": 27,
   "metadata": {},
   "outputs": [
    {
     "data": {
      "text/plain": [
       "array([[ 0,  1,  2,  3,  4,  5,  6,  7,  8,  9],\n",
       "       [10, 11, 12, 13, 14, 15, 16, 17, 18, 19]])"
      ]
     },
     "execution_count": 27,
     "metadata": {},
     "output_type": "execute_result"
    }
   ],
   "source": [
    "#슬라이싱 2차원\n",
    "array11 = np.arange(50).reshape(5,10)\n",
    "array11\n",
    "array11[:2,:]"
   ]
  },
  {
   "cell_type": "code",
   "execution_count": 29,
   "metadata": {},
   "outputs": [
    {
     "data": {
      "text/plain": [
       "array(['원호', '명진'], dtype='<U2')"
      ]
     },
     "execution_count": 29,
     "metadata": {},
     "output_type": "execute_result"
    }
   ],
   "source": [
    "name = np.array([\"원호\", \"명호\", \"병관\", \"명진\"])\n",
    "bol = np.array([True, False, False, True])\n",
    "name[bol]"
   ]
  },
  {
   "cell_type": "code",
   "execution_count": 32,
   "metadata": {},
   "outputs": [
    {
     "data": {
      "text/plain": [
       "array(['명호', '병관', '명진'], dtype='<U2')"
      ]
     },
     "execution_count": 32,
     "metadata": {},
     "output_type": "execute_result"
    }
   ],
   "source": [
    "name = np.array([\"원호\", \"명호\", \"병관\", \"명진\"])\n",
    "score = np.array([70,80,85,92])\n",
    "bol = score >= 80\n",
    "name[bol]"
   ]
  },
  {
   "cell_type": "code",
   "execution_count": 35,
   "metadata": {},
   "outputs": [
    {
     "data": {
      "text/plain": [
       "array([92])"
      ]
     },
     "execution_count": 35,
     "metadata": {},
     "output_type": "execute_result"
    }
   ],
   "source": [
    "name = np.array([\"원호\", \"명호\", \"병관\", \"명진\"])\n",
    "score = np.array([70,80,85,92])\n",
    "score[name=='명진']"
   ]
  },
  {
   "cell_type": "code",
   "execution_count": 42,
   "metadata": {},
   "outputs": [
    {
     "name": "stdout",
     "output_type": "stream",
     "text": [
      "16\n",
      "16\n",
      "2.2857142857142856\n",
      "[1 2 3 4 5 6 7]\n"
     ]
    }
   ],
   "source": [
    "# sum 함수, mean 함수\n",
    "array12= np.array([-1,2,3,4,-5, 6,7])\n",
    "print(array12.sum())\n",
    "print(np.sum(array12))\n",
    "print(array12.mean())\n",
    "print(np.abs(array12))"
   ]
  },
  {
   "cell_type": "markdown",
   "metadata": {},
   "source": [
    "# 영화평점 분석하기"
   ]
  },
  {
   "cell_type": "code",
   "execution_count": 43,
   "metadata": {},
   "outputs": [
    {
     "data": {
      "text/plain": [
       "array([[        1,      1193,         5, 978300760],\n",
       "       [        1,       661,         3, 978302109],\n",
       "       [        1,       914,         3, 978301968],\n",
       "       ...,\n",
       "       [     1779,      2502,         4, 998699749],\n",
       "       [     1779,      3160,         5, 977032398],\n",
       "       [     1779,      3168,         4, 977033232]])"
      ]
     },
     "execution_count": 43,
     "metadata": {},
     "output_type": "execute_result"
    }
   ],
   "source": [
    "# 파일 불러오기\n",
    "data = np.loadtxt(\"data/ratings_small.txt\", delimiter=\"::\", dtype = \"int\")\n",
    "data"
   ]
  },
  {
   "cell_type": "code",
   "execution_count": 44,
   "metadata": {},
   "outputs": [
    {
     "name": "stdout",
     "output_type": "stream",
     "text": [
      "2\n",
      "(300001, 4)\n",
      "1200004\n"
     ]
    }
   ],
   "source": [
    "print(data.ndim)\n",
    "print(data.shape)\n",
    "print(data.size)"
   ]
  },
  {
   "cell_type": "markdown",
   "metadata": {},
   "source": [
    "## 전체 평점 평균 구하기"
   ]
  },
  {
   "cell_type": "code",
   "execution_count": 48,
   "metadata": {},
   "outputs": [
    {
     "name": "stdout",
     "output_type": "stream",
     "text": [
      "3.5613081289729034\n"
     ]
    }
   ],
   "source": [
    "print(data[:,2].mean())"
   ]
  },
  {
   "cell_type": "code",
   "execution_count": 49,
   "metadata": {
    "scrolled": true
   },
   "outputs": [
    {
     "data": {
      "text/plain": [
       "array([[        1,      1193,         5, 978300760],\n",
       "       [        1,       661,         3, 978302109],\n",
       "       [        1,       914,         3, 978301968],\n",
       "       [        1,      3408,         4, 978300275],\n",
       "       [        1,      2355,         5, 978824291],\n",
       "       [        1,      1197,         3, 978302268],\n",
       "       [        1,      1287,         5, 978302039],\n",
       "       [        1,      2804,         5, 978300719],\n",
       "       [        1,       594,         4, 978302268],\n",
       "       [        1,       919,         4, 978301368],\n",
       "       [        1,       595,         5, 978824268],\n",
       "       [        1,       938,         4, 978301752],\n",
       "       [        1,      2398,         4, 978302281],\n",
       "       [        1,      2918,         4, 978302124],\n",
       "       [        1,      1035,         5, 978301753],\n",
       "       [        1,      2791,         4, 978302188],\n",
       "       [        1,      2687,         3, 978824268],\n",
       "       [        1,      2018,         4, 978301777],\n",
       "       [        1,      3105,         5, 978301713],\n",
       "       [        1,      2797,         4, 978302039],\n",
       "       [        1,      2321,         3, 978302205],\n",
       "       [        1,       720,         3, 978300760],\n",
       "       [        1,      1270,         5, 978300055],\n",
       "       [        1,       527,         5, 978824195],\n",
       "       [        1,      2340,         3, 978300103],\n",
       "       [        1,        48,         5, 978824351],\n",
       "       [        1,      1097,         4, 978301953],\n",
       "       [        1,      1721,         4, 978300055],\n",
       "       [        1,      1545,         4, 978824139],\n",
       "       [        1,       745,         3, 978824268],\n",
       "       [        1,      2294,         4, 978824291],\n",
       "       [        1,      3186,         4, 978300019],\n",
       "       [        1,      1566,         4, 978824330],\n",
       "       [        1,       588,         4, 978824268],\n",
       "       [        1,      1907,         4, 978824330],\n",
       "       [        1,       783,         4, 978824291],\n",
       "       [        1,      1836,         5, 978300172],\n",
       "       [        1,      1022,         5, 978300055],\n",
       "       [        1,      2762,         4, 978302091],\n",
       "       [        1,       150,         5, 978301777],\n",
       "       [        1,         1,         5, 978824268],\n",
       "       [        1,      1961,         5, 978301590],\n",
       "       [        1,      1962,         4, 978301753],\n",
       "       [        1,      2692,         4, 978301570],\n",
       "       [        1,       260,         4, 978300760],\n",
       "       [        1,      1028,         5, 978301777],\n",
       "       [        1,      1029,         5, 978302205],\n",
       "       [        1,      1207,         4, 978300719],\n",
       "       [        1,      2028,         5, 978301619],\n",
       "       [        1,       531,         4, 978302149],\n",
       "       [        1,      3114,         4, 978302174],\n",
       "       [        1,       608,         4, 978301398],\n",
       "       [        1,      1246,         4, 978302091]])"
      ]
     },
     "execution_count": 49,
     "metadata": {},
     "output_type": "execute_result"
    }
   ],
   "source": [
    "# id가 1인 user의 평점 평균 구하기\n",
    "data[data[:,0] == 1]"
   ]
  },
  {
   "cell_type": "code",
   "execution_count": 51,
   "metadata": {},
   "outputs": [
    {
     "name": "stdout",
     "output_type": "stream",
     "text": [
      "4.188679245283019\n",
      "3.7131782945736433\n"
     ]
    }
   ],
   "source": [
    "print(data[data[:,0] == 1][:,2].mean())\n",
    "print(data[data[:,0] == 2][:,2].mean())"
   ]
  },
  {
   "cell_type": "code",
   "execution_count": 61,
   "metadata": {},
   "outputs": [
    {
     "data": {
      "text/plain": [
       "(1779,)"
      ]
     },
     "execution_count": 61,
     "metadata": {},
     "output_type": "execute_result"
    }
   ],
   "source": [
    "# 사용자 id 가져오기\n",
    "user_id = np.unique(data[:,0])\n",
    "user_id.shape"
   ]
  },
  {
   "cell_type": "code",
   "execution_count": 92,
   "metadata": {},
   "outputs": [],
   "source": [
    "# 전체 user별 평점 평균 구하기\n",
    "user_ratings_list = []\n",
    "for u_id in user_id:\n",
    "    user_one = data[data[:,0]==u_id]\n",
    "    user_ratings_list.append([u_id, user_one[:,2].mean()])"
   ]
  },
  {
   "cell_type": "code",
   "execution_count": 93,
   "metadata": {
    "scrolled": true
   },
   "outputs": [
    {
     "data": {
      "text/plain": [
       "[[1, 4.188679245283019],\n",
       " [2, 3.7131782945736433],\n",
       " [3, 3.9019607843137254],\n",
       " [4, 4.190476190476191],\n",
       " [5, 3.1464646464646466]]"
      ]
     },
     "execution_count": 93,
     "metadata": {},
     "output_type": "execute_result"
    }
   ],
   "source": [
    "user_ratings_list[:5]"
   ]
  },
  {
   "cell_type": "code",
   "execution_count": 94,
   "metadata": {},
   "outputs": [],
   "source": [
    "bol = np.array(user_ratings_list, dtype = np.int64)"
   ]
  },
  {
   "cell_type": "code",
   "execution_count": 102,
   "metadata": {},
   "outputs": [],
   "source": [
    "bol_id = bol[bol[:,1] >= 4][:,0]"
   ]
  },
  {
   "cell_type": "code",
   "execution_count": 103,
   "metadata": {
    "collapsed": true
   },
   "outputs": [
    {
     "data": {
      "text/plain": [
       "array([   1,    4,    7,   10,   17,   20,   27,   36,   43,   46,   53,\n",
       "         54,   55,   64,   65,   67,   69,   74,   75,   76,   81,   82,\n",
       "         86,   88,   91,   97,  101,  103,  105,  106,  109,  112,  121,\n",
       "        124,  125,  126,  128,  129,  130,  138,  150,  152,  153,  156,\n",
       "        158,  161,  162,  164,  171,  177,  183,  184,  186,  187,  189,\n",
       "        196,  205,  210,  213,  215,  220,  222,  228,  230,  231,  233,\n",
       "        234,  235,  239,  244,  246,  248,  252,  255,  257,  259,  265,\n",
       "        266,  270,  274,  275,  283,  285,  288,  291,  297,  299,  300,\n",
       "        307,  309,  311,  313,  316,  320,  322,  325,  330,  332,  336,\n",
       "        339,  341,  343,  345,  346,  356,  366,  367,  372,  374,  375,\n",
       "        376,  379,  381,  382,  399,  404,  408,  412,  413,  417,  420,\n",
       "        421,  427,  434,  437,  444,  446,  447,  450,  451,  452,  455,\n",
       "        466,  469,  472,  473,  485,  486,  494,  496,  502,  503,  505,\n",
       "        514,  518,  521,  523,  525,  527,  529,  530,  537,  538,  543,\n",
       "        553,  564,  567,  568,  574,  577,  582,  583,  584,  586,  588,\n",
       "        589,  590,  592,  594,  597,  605,  606,  607,  609,  615,  617,\n",
       "        623,  625,  626,  630,  634,  635,  636,  638,  640,  641,  642,\n",
       "        645,  653,  657,  661,  664,  671,  674,  681,  682,  690,  691,\n",
       "        703,  711,  714,  716,  725,  733,  739,  740,  750,  755,  758,\n",
       "        760,  761,  764,  767,  768,  775,  784,  786,  790,  797,  806,\n",
       "        809,  811,  814,  815,  817,  829,  831,  833,  834,  838,  840,\n",
       "        848,  852,  857,  858,  863,  864,  875,  878,  879,  882,  884,\n",
       "        885,  894,  898,  902,  914,  917,  926,  928,  931,  932,  942,\n",
       "        943,  946,  951,  953,  957,  962,  965,  968,  969,  979,  982,\n",
       "        983,  985,  987,  989,  994,  998, 1000, 1002, 1003, 1005, 1007,\n",
       "       1018, 1021, 1023, 1026, 1031, 1036, 1040, 1041, 1048, 1052, 1062,\n",
       "       1063, 1071, 1072, 1073, 1075, 1077, 1081, 1082, 1089, 1092, 1095,\n",
       "       1098, 1108, 1110, 1111, 1129, 1131, 1132, 1134, 1143, 1157, 1170,\n",
       "       1171, 1175, 1176, 1180, 1186, 1188, 1190, 1191, 1192, 1197, 1208,\n",
       "       1213, 1215, 1217, 1224, 1225, 1229, 1232, 1234, 1241, 1245, 1250,\n",
       "       1252, 1254, 1256, 1258, 1268, 1269, 1271, 1275, 1276, 1278, 1282,\n",
       "       1289, 1290, 1302, 1305, 1306, 1307, 1315, 1320, 1322, 1324, 1330,\n",
       "       1336, 1338, 1343, 1349, 1351, 1355, 1361, 1363, 1364, 1368, 1371,\n",
       "       1378, 1382, 1388, 1393, 1400, 1401, 1402, 1407, 1409, 1410, 1423,\n",
       "       1428, 1430, 1437, 1443, 1446, 1452, 1456, 1459, 1469, 1477, 1479,\n",
       "       1481, 1488, 1490, 1507, 1511, 1513, 1518, 1520, 1526, 1528, 1532,\n",
       "       1536, 1539, 1541, 1555, 1558, 1561, 1568, 1569, 1577, 1578, 1586,\n",
       "       1588, 1590, 1591, 1595, 1602, 1604, 1618, 1619, 1623, 1638, 1643,\n",
       "       1645, 1654, 1663, 1668, 1670, 1673, 1681, 1682, 1684, 1692, 1697,\n",
       "       1699, 1702, 1703, 1704, 1707, 1718, 1720, 1722, 1724, 1727, 1728,\n",
       "       1732, 1734, 1740, 1744, 1746, 1751, 1764, 1771], dtype=int64)"
      ]
     },
     "execution_count": 103,
     "metadata": {},
     "output_type": "execute_result"
    }
   ],
   "source": [
    "bol_id"
   ]
  },
  {
   "cell_type": "code",
   "execution_count": 107,
   "metadata": {
    "scrolled": true
   },
   "outputs": [
    {
     "data": {
      "text/plain": [
       "array([   1,    2,    3, ..., 3950, 3951, 3952])"
      ]
     },
     "execution_count": 107,
     "metadata": {},
     "output_type": "execute_result"
    }
   ],
   "source": [
    "movie_id = np.unique(data[:,1])\n",
    "movie_id"
   ]
  },
  {
   "cell_type": "code",
   "execution_count": 108,
   "metadata": {},
   "outputs": [],
   "source": [
    "# 전체 영화별 평점 평균\n",
    "movie_ratings_list = []\n",
    "for m_id in movie_id:\n",
    "    movie_one = data[data[:,1]==m_id]\n",
    "    movie_ratings_list.append([m_id, movie_one[:,2].mean()])"
   ]
  },
  {
   "cell_type": "code",
   "execution_count": 111,
   "metadata": {},
   "outputs": [
    {
     "data": {
      "text/plain": [
       "[[1, 4.138842975206612],\n",
       " [2, 3.167441860465116],\n",
       " [3, 3.028409090909091],\n",
       " [4, 2.7551020408163267],\n",
       " [5, 2.966292134831461]]"
      ]
     },
     "execution_count": 111,
     "metadata": {},
     "output_type": "execute_result"
    }
   ],
   "source": [
    "movie_ratings_list[:5]"
   ]
  },
  {
   "cell_type": "code",
   "execution_count": null,
   "metadata": {},
   "outputs": [],
   "source": []
  },
  {
   "cell_type": "code",
   "execution_count": null,
   "metadata": {},
   "outputs": [],
   "source": []
  },
  {
   "cell_type": "code",
   "execution_count": null,
   "metadata": {},
   "outputs": [],
   "source": []
  },
  {
   "cell_type": "code",
   "execution_count": null,
   "metadata": {},
   "outputs": [],
   "source": []
  },
  {
   "cell_type": "code",
   "execution_count": null,
   "metadata": {},
   "outputs": [],
   "source": []
  }
 ],
 "metadata": {
  "kernelspec": {
   "display_name": "Python 3 (ipykernel)",
   "language": "python",
   "name": "python3"
  },
  "language_info": {
   "codemirror_mode": {
    "name": "ipython",
    "version": 3
   },
   "file_extension": ".py",
   "mimetype": "text/x-python",
   "name": "python",
   "nbconvert_exporter": "python",
   "pygments_lexer": "ipython3",
   "version": "3.7.11"
  }
 },
 "nbformat": 4,
 "nbformat_minor": 4
}
