{
 "cells": [
  {
   "cell_type": "markdown",
   "metadata": {},
   "source": [
    "## 리스트\n",
    "- 많은 데이터들을 하나로 관리할 수 있는 자료형\n",
    "- []로 표현하며 순서가 있는 자료형\n",
    "- 추가, 수정, 삭제 가능"
   ]
  },
  {
   "cell_type": "code",
   "execution_count": 4,
   "metadata": {},
   "outputs": [
    {
     "name": "stdout",
     "output_type": "stream",
     "text": [
      "[]\n",
      "[1, 2, 3, 4, 5]\n",
      "['a', 'b', 'c', 'd', 'e']\n",
      "[[1, 2], [3, 4], [5, 6]]\n"
     ]
    }
   ],
   "source": [
    "# 리스트 생성 방법\n",
    "# 1. 빈 리스트 생성\n",
    "list1 = []\n",
    "\n",
    "\n",
    "# 2. 데이터를 저장하여 리스트 생성\n",
    "list2 = [1,2,3,4,5]\n",
    "list3 = ['a','b','c','d','e']\n",
    "\n",
    "list4 = [[1,2],[3,4],[5,6]] #2차원 리스트\n",
    "\n",
    "print(list1)\n",
    "print(list2)\n",
    "print(list3)\n",
    "print(list4)"
   ]
  },
  {
   "cell_type": "code",
   "execution_count": 3,
   "metadata": {},
   "outputs": [
    {
     "data": {
      "text/plain": [
       "['Python', 'is', 'easy', 'and', 'simple']"
      ]
     },
     "execution_count": 3,
     "metadata": {},
     "output_type": "execute_result"
    }
   ],
   "source": [
    "msg = 'Python is easy and simple'\n",
    "msg.split(' ')"
   ]
  },
  {
   "cell_type": "code",
   "execution_count": 7,
   "metadata": {},
   "outputs": [
    {
     "name": "stdout",
     "output_type": "stream",
     "text": [
      "3\n",
      "['d', 'e']\n"
     ]
    }
   ],
   "source": [
    "print(list2[2])\n",
    "\n",
    "print(list3[3:5])"
   ]
  },
  {
   "cell_type": "code",
   "execution_count": 8,
   "metadata": {},
   "outputs": [
    {
     "name": "stdout",
     "output_type": "stream",
     "text": [
      "[1, 2, 3, 4, 5, 6, 7, 8, 9, 10]\n"
     ]
    }
   ],
   "source": [
    "list5 = [6,7,8,9,10]\n",
    "\n",
    "print(list2 + list5)"
   ]
  },
  {
   "cell_type": "code",
   "execution_count": 11,
   "metadata": {},
   "outputs": [
    {
     "name": "stdout",
     "output_type": "stream",
     "text": [
      "['알리오올리오', '삼겹살', '김치찌개', '라면']\n"
     ]
    }
   ],
   "source": [
    "# 빈 리스트인 list1에 좋아하는 음식을 추가하시오.\n",
    "# 1. 기존 리스트에 맨 뒤에서부터 추가\n",
    "\n",
    "list1 = []\n",
    "list1.append('알리오올리오')\n",
    "list1.append('삼겹살')\n",
    "list1.append('김치찌개')\n",
    "list1.append('라면')\n",
    "\n",
    "print(list1)"
   ]
  },
  {
   "cell_type": "code",
   "execution_count": 12,
   "metadata": {},
   "outputs": [],
   "source": [
    "# 2. 원하는 위치에 데이터를 추가\n",
    "list1.insert(1, '해산물야끼필라프')"
   ]
  },
  {
   "cell_type": "code",
   "execution_count": 13,
   "metadata": {},
   "outputs": [
    {
     "name": "stdout",
     "output_type": "stream",
     "text": [
      "['알리오올리오', '해산물야끼필라프', '삼겹살', '김치찌개', '라면']\n"
     ]
    }
   ],
   "source": [
    "print(list1)"
   ]
  },
  {
   "cell_type": "markdown",
   "metadata": {},
   "source": [
    "## 리스트 CRUD"
   ]
  },
  {
   "cell_type": "code",
   "execution_count": 41,
   "metadata": {},
   "outputs": [
    {
     "name": "stdout",
     "output_type": "stream",
     "text": [
      "['VVS', '밤하늘의 별을', 'Dynamite', '잠이 오질 않네요', '내일이 오면']\n",
      "['VVS', '밤하늘의 별을', 'Dynamite', '잠이 오질 않네요', '내일이 오면', '힘든 건 사랑이 아니다.']\n",
      "['별 보러 가자', '밤하늘의 별을', 'Dynamite', '잠이 오질 않네요', 'Lovesick Girls', '힘든 건 사랑이 아니다.']\n",
      "['별 보러 가자', '밤하늘의 별을', 'Dynamite', 'Lovesick Girls', '힘든 건 사랑이 아니다.']\n"
     ]
    }
   ],
   "source": [
    "\n",
    "#생성\n",
    "music_rank = ['VVS', '밤하늘의 별을', 'Dynamite', '잠이 오질 않네요', '내일이 오면']\n",
    "\n",
    "\n",
    "#함수설명보는 방법:: Shift + Tab\n",
    "#읽기\n",
    "print(music_rank)\n",
    "\n",
    "#추가\n",
    "music_rank.append('힘든 건 사랑이 아니다.')\n",
    "print(music_rank)\n",
    "\n",
    "#수정\n",
    "music_rank[4] = 'Lovesick Girls'\n",
    "music_rank[0] = '별 보러 가자'\n",
    "print(music_rank)\n",
    "\n",
    "#삭제\n",
    "#del music_rank[3]\n",
    "music_rank.remove('잠이 오질 않네요')\n",
    "print(music_rank)"
   ]
  },
  {
   "cell_type": "code",
   "execution_count": 21,
   "metadata": {},
   "outputs": [
    {
     "name": "stdout",
     "output_type": "stream",
     "text": [
      "[1, 2, 6, 4, 5]\n",
      "[1, 1, 1, 9, 3]\n",
      "[1, 1, 1, 9, 3]\n",
      "[1, 1, 4, 5]\n"
     ]
    }
   ],
   "source": [
    "# 리스트 내 요소 수정\n",
    "# 리스트변수[인덱스] = 수정할 데이터\n",
    "\n",
    "list2[2] = 6\n",
    "print(list2)\n",
    "\n",
    "list5[4]= 3\n",
    "print(list5)\n",
    "\n",
    "list5[:3] = [1,1,1]\n",
    "print(list5)\n",
    "\n",
    "list2[1:3] = [1]\n",
    "print(list2)"
   ]
  },
  {
   "cell_type": "code",
   "execution_count": 39,
   "metadata": {},
   "outputs": [],
   "source": [
    "list6 = [1,2,3,4,5]"
   ]
  },
  {
   "cell_type": "code",
   "execution_count": 40,
   "metadata": {},
   "outputs": [
    {
     "name": "stdout",
     "output_type": "stream",
     "text": [
      "[]\n"
     ]
    }
   ],
   "source": [
    "# 리스트 내 요소 삭제\n",
    "\n",
    "# 1. del 키워드 활용(인덱싱 or 슬라이싱)\n",
    "#del list6[0]\n",
    "#del list6[:3]\n",
    "\n",
    "# 2. remove 함수 활용(인덱스가 아니라 값을 직접 입력)\n",
    "# 리스트변수.remove(삭제할 요소)\n",
    "#list6.remove(4)\n",
    "\n",
    "# 3. pop 함수 활용\n",
    "#list6.pop() #맨 뒤에 있는 요소를 삭제\n",
    "\n",
    "\n",
    "# 4. clear 전체삭제\n",
    "list6.clear()\n",
    "\n",
    "\n",
    "print(list6)"
   ]
  },
  {
   "cell_type": "code",
   "execution_count": 44,
   "metadata": {
    "scrolled": true
   },
   "outputs": [
    {
     "name": "stdout",
     "output_type": "stream",
     "text": [
      "[1, 1, 1, 3, 9]\n",
      "[9, 3, 1, 1, 1]\n",
      "5\n"
     ]
    }
   ],
   "source": [
    "#리스트 내 요소들을 오름차순으로 정렬\n",
    "list5.sort()\n",
    "print(list5)\n",
    "\n",
    "#리스트 내 요소들을 역순으로 변환\n",
    "list5.reverse()\n",
    "print(list5)\n",
    "\n",
    "#리스트 내 요소들의 개수 확인\n",
    "# len(리스트 or 튜플 or 문자열)\n",
    "print(len(list5))"
   ]
  },
  {
   "cell_type": "code",
   "execution_count": 46,
   "metadata": {},
   "outputs": [
    {
     "name": "stdout",
     "output_type": "stream",
     "text": [
      "순위가 궁금한 야구팀을 입력해주세요 >> KT\n",
      "KT는 3위입니다.\n"
     ]
    }
   ],
   "source": [
    "kbo_list = ['NC', '두산', 'KT', 'LG', '키움', 'KIA', '롯데', '삼성', 'SK', '한화']\n",
    "kbo = input(\"순위가 궁금한 야구팀을 입력해주세요 >> \")\n",
    "rank = kbo_list.index(kbo)+1\n",
    "print('{}는 {}위입니다.'.format(kbo, rank))"
   ]
  },
  {
   "cell_type": "markdown",
   "metadata": {},
   "source": [
    "## 튜플\n",
    "- ()로 표현하며 추가,수정,삭제가 불가능한 자료형"
   ]
  },
  {
   "cell_type": "code",
   "execution_count": 50,
   "metadata": {},
   "outputs": [
    {
     "name": "stdout",
     "output_type": "stream",
     "text": [
      "(1, 2, 3, 4)\n",
      "4\n",
      "(1, 2)\n",
      "1\n",
      "2\n"
     ]
    }
   ],
   "source": [
    "tuple1= (1,2,3,4)\n",
    "print(tuple1)\n",
    "\n",
    "print(tuple1[3])\n",
    "print(tuple1[:2])\n",
    "\n",
    "print(tuple1.count(3))\n",
    "\n",
    "print(tuple1.index(3))"
   ]
  },
  {
   "cell_type": "code",
   "execution_count": 54,
   "metadata": {},
   "outputs": [
    {
     "data": {
      "text/plain": [
       "(1, 2, 3, 5)"
      ]
     },
     "execution_count": 54,
     "metadata": {},
     "output_type": "execute_result"
    }
   ],
   "source": [
    "#튜플 -> 리스트로 변환\n",
    "list7 = list(tuple1)\n",
    "list7[3] = 5\n",
    "list7\n",
    "\n",
    "#리스트 -> 튜플로 변환\n",
    "tuple2 = tuple(list7)\n",
    "tuple2"
   ]
  },
  {
   "cell_type": "markdown",
   "metadata": {},
   "source": [
    "## in, not in 실습문제"
   ]
  },
  {
   "cell_type": "code",
   "execution_count": 60,
   "metadata": {},
   "outputs": [
    {
     "name": "stdout",
     "output_type": "stream",
     "text": [
      "검색할 숫자를 입려하세요: 98\n"
     ]
    },
    {
     "data": {
      "text/plain": [
       "True"
      ]
     },
     "execution_count": 60,
     "metadata": {},
     "output_type": "execute_result"
    }
   ],
   "source": [
    "numbers = [15,35,98,75,65,45,26,57]\n",
    "\n",
    "searchNum = int(input('검색할 숫자를 입려하세요: '))\n",
    "\n",
    "searchNum in numbers"
   ]
  },
  {
   "cell_type": "code",
   "execution_count": 59,
   "metadata": {},
   "outputs": [
    {
     "name": "stdout",
     "output_type": "stream",
     "text": [
      "******************************\n",
      "검색할 문자를 입력하세요:: YJ\n",
      "문자열에 포함되어 있습니다.\n",
      "******************************\n"
     ]
    }
   ],
   "source": [
    "msg = 'Hi, My name is YJ'\n",
    "\n",
    "print('*'*30)\n",
    "search = input('검색할 문자를 입력하세요:: ')\n",
    "\n",
    "if search in msg:\n",
    "    print('문자열에 포함되어 있습니다.')\n",
    "else:\n",
    "    print('{}는 문자열에 들어있지 않습니다.'.format(search))\n",
    "    \n",
    "print('*'*30)"
   ]
  },
  {
   "cell_type": "code",
   "execution_count": null,
   "metadata": {},
   "outputs": [],
   "source": []
  },
  {
   "cell_type": "code",
   "execution_count": null,
   "metadata": {},
   "outputs": [],
   "source": []
  }
 ],
 "metadata": {
  "kernelspec": {
   "display_name": "Python 3",
   "language": "python",
   "name": "python3"
  },
  "language_info": {
   "codemirror_mode": {
    "name": "ipython",
    "version": 3
   },
   "file_extension": ".py",
   "mimetype": "text/x-python",
   "name": "python",
   "nbconvert_exporter": "python",
   "pygments_lexer": "ipython3",
   "version": "3.8.5"
  }
 },
 "nbformat": 4,
 "nbformat_minor": 4
}
