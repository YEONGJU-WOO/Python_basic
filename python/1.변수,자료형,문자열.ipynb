{
 "cells": [
  {
   "cell_type": "markdown",
   "metadata": {},
   "source": [
    "## 변수\n",
    "- 데이터를 담을 수 있는 공간(상자)\n",
    "- 변수생성: 변수명 = 데이터"
   ]
  },
  {
   "cell_type": "code",
   "execution_count": 4,
   "metadata": {},
   "outputs": [
    {
     "name": "stdout",
     "output_type": "stream",
     "text": [
      "13\n",
      "3.14\n"
     ]
    }
   ],
   "source": [
    "#num이라는 변수에 13을 저장\n",
    "num = 13\n",
    "\n",
    "print(num)\n",
    "\n",
    "pie = 3.14\n",
    "\n",
    "print(pie)"
   ]
  },
  {
   "cell_type": "code",
   "execution_count": 3,
   "metadata": {},
   "outputs": [
    {
     "name": "stdout",
     "output_type": "stream",
     "text": [
      "파이썬\n"
     ]
    }
   ],
   "source": [
    "#str이라는 변수에 '파이썬'을 저장\n",
    "str = '파이썬'\n",
    "\n",
    "print(str)"
   ]
  },
  {
   "cell_type": "code",
   "execution_count": 7,
   "metadata": {},
   "outputs": [
    {
     "name": "stdout",
     "output_type": "stream",
     "text": [
      "우영주의 나이는 25이고 직업은 학생입니다.\n",
      "우영주의 거주지는 광주이다.\n"
     ]
    }
   ],
   "source": [
    "name = '우영주'\n",
    "age = '25'\n",
    "job = '학생'\n",
    "local = '광주'\n",
    "\n",
    "\n",
    "\n",
    "print(name+ '의 나이는 '+age+'이고 직업은 '+job+'입니다.')\n",
    "print(name+ '의 거주지는 '+local+'이다.')\n"
   ]
  },
  {
   "cell_type": "code",
   "execution_count": 8,
   "metadata": {},
   "outputs": [
    {
     "name": "stdout",
     "output_type": "stream",
     "text": [
      "13\n",
      "77\n"
     ]
    }
   ],
   "source": [
    "num1 = 13\n",
    "num2 = 25\n",
    "num2 = 77\n",
    "\n",
    "print(num1)\n",
    "print(num2)"
   ]
  },
  {
   "cell_type": "code",
   "execution_count": 9,
   "metadata": {},
   "outputs": [
    {
     "name": "stdout",
     "output_type": "stream",
     "text": [
      "3.1425\n",
      "1.25\n",
      "3.0\n"
     ]
    }
   ],
   "source": [
    "num3 = 3.1425\n",
    "num4 = 1.25\n",
    "num5 = 3.0\n",
    "\n",
    "print(num3)\n",
    "print(num4)\n",
    "print(num5)"
   ]
  },
  {
   "cell_type": "code",
   "execution_count": 12,
   "metadata": {},
   "outputs": [
    {
     "name": "stdout",
     "output_type": "stream",
     "text": [
      "Funny Python\n",
      "Easy Python\n"
     ]
    }
   ],
   "source": [
    "str1 = 'Funny Python'\n",
    "str2 = \"Easy Python\"\n",
    "\n",
    "print(str1)\n",
    "print(str2)"
   ]
  },
  {
   "cell_type": "markdown",
   "metadata": {},
   "source": [
    "## 변수 대입 방법"
   ]
  },
  {
   "cell_type": "code",
   "execution_count": 13,
   "metadata": {},
   "outputs": [
    {
     "name": "stdout",
     "output_type": "stream",
     "text": [
      "10\n",
      "15\n",
      "10 15\n"
     ]
    }
   ],
   "source": [
    "num1 = 10\n",
    "num2 = 15\n",
    "\n",
    "print(num1)\n",
    "print(num2)\n",
    "\n",
    "num1, num2 = 10,15\n",
    "\n",
    "print(num1, num2)"
   ]
  },
  {
   "cell_type": "code",
   "execution_count": 14,
   "metadata": {},
   "outputs": [
    {
     "name": "stdout",
     "output_type": "stream",
     "text": [
      "python\n",
      "python\n"
     ]
    }
   ],
   "source": [
    "str1 = str2 = 'python'\n",
    "print(str1)\n",
    "print(str2)"
   ]
  },
  {
   "cell_type": "code",
   "execution_count": 15,
   "metadata": {},
   "outputs": [
    {
     "name": "stdout",
     "output_type": "stream",
     "text": [
      "300\n"
     ]
    }
   ],
   "source": [
    "x = 100\n",
    "y = 200\n",
    "sum = x+y\n",
    "print(sum)"
   ]
  },
  {
   "cell_type": "markdown",
   "metadata": {},
   "source": [
    "## 문자열 사용 방법"
   ]
  },
  {
   "cell_type": "code",
   "execution_count": 18,
   "metadata": {},
   "outputs": [
    {
     "name": "stdout",
     "output_type": "stream",
     "text": [
      "she's gone\n",
      "she's gone\n"
     ]
    }
   ],
   "source": [
    "msg = 'she\\'s gone'\n",
    "print(msg)\n",
    "\n",
    "msg1 = \"she's gone\"\n",
    "print(msg1)"
   ]
  },
  {
   "cell_type": "code",
   "execution_count": 19,
   "metadata": {},
   "outputs": [
    {
     "name": "stdout",
     "output_type": "stream",
     "text": [
      "he said that \"she is gone\"\n",
      "he said that \"she is gone\"\n"
     ]
    }
   ],
   "source": [
    "msg2 = 'he said that \"she is gone\"'\n",
    "msg3 = \"he said that \\\"she is gone\\\"\"\n",
    "\n",
    "print(msg2)\n",
    "print(msg3)"
   ]
  },
  {
   "cell_type": "code",
   "execution_count": 20,
   "metadata": {},
   "outputs": [
    {
     "name": "stdout",
     "output_type": "stream",
     "text": [
      "안녕하세요 저는 우영주입니다.\n",
      "저의 나이는 25살이고 직업은 학생입니다.\n"
     ]
    }
   ],
   "source": [
    "msg4 = '''안녕하세요 저는 우영주입니다.\n",
    "저의 나이는 25살이고 직업은 학생입니다.'''\n",
    "\n",
    "print(msg4)"
   ]
  },
  {
   "cell_type": "markdown",
   "metadata": {},
   "source": [
    "## 문자열 인덱싱과 슬라이싱!!***"
   ]
  },
  {
   "cell_type": "code",
   "execution_count": 21,
   "metadata": {},
   "outputs": [],
   "source": [
    "name = 'My name is YJ'"
   ]
  },
  {
   "cell_type": "code",
   "execution_count": 31,
   "metadata": {},
   "outputs": [
    {
     "data": {
      "text/plain": [
       "'name'"
      ]
     },
     "execution_count": 31,
     "metadata": {},
     "output_type": "execute_result"
    }
   ],
   "source": [
    "#인덱싱:: 어떤 문자를 '가리킨다'라는 의미(인덱스(위치)활용)\n",
    "#슬라이싱:: 어떤 문자열을 '잘라낸다'라는 의미\n",
    "#인덱싱방법:: 변수명[인덱스]\n",
    "#슬라이싱방법:: 변수명[start: end](start<=slicing<end)\n",
    "\n",
    "name[11:13]\n",
    "name[11]+name[12]\n",
    "\n",
    "name[3:7]\n",
    "name[3]+name[4]+name[5]+name[6]"
   ]
  }
 ],
 "metadata": {
  "kernelspec": {
   "display_name": "Python 3 (ipykernel)",
   "language": "python",
   "name": "python3"
  },
  "language_info": {
   "codemirror_mode": {
    "name": "ipython",
    "version": 3
   },
   "file_extension": ".py",
   "mimetype": "text/x-python",
   "name": "python",
   "nbconvert_exporter": "python",
   "pygments_lexer": "ipython3",
   "version": "3.7.11"
  }
 },
 "nbformat": 4,
 "nbformat_minor": 4
}
