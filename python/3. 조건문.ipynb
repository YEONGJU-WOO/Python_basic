{
 "cells": [
  {
   "cell_type": "markdown",
   "metadata": {},
   "source": [
    "## 조건문\n",
    "- 상황에 따라 흐름을 다르게 실행하는 구문\n",
    "- 종류:: if, elif, else"
   ]
  },
  {
   "cell_type": "code",
   "execution_count": null,
   "metadata": {},
   "outputs": [],
   "source": [
    "#조건문 구조\n",
    "if 조건식:\n",
    "        실행문장1\n",
    "        실행문장2"
   ]
  },
  {
   "cell_type": "code",
   "execution_count": 1,
   "metadata": {},
   "outputs": [
    {
     "name": "stdout",
     "output_type": "stream",
     "text": [
      "실행1!\n",
      "if문 밖에\n",
      "if문 밖에\n"
     ]
    }
   ],
   "source": [
    "#예시\n",
    "if True:\n",
    "    print('실행1!')\n",
    "print('if문 밖에')\n",
    "if False:\n",
    "    print('실행2!')\n",
    "print('if문 밖에')"
   ]
  },
  {
   "cell_type": "code",
   "execution_count": 3,
   "metadata": {},
   "outputs": [
    {
     "name": "stdout",
     "output_type": "stream",
     "text": [
      "택시를 탄다.\n"
     ]
    }
   ],
   "source": [
    "money = 11000\n",
    "if money >= 10000:\n",
    "    print('택시를 탄다.')"
   ]
  },
  {
   "cell_type": "code",
   "execution_count": 5,
   "metadata": {},
   "outputs": [
    {
     "name": "stdout",
     "output_type": "stream",
     "text": [
      "버스를 탄다.\n"
     ]
    }
   ],
   "source": [
    "money = 900\n",
    "if money >= 10000:\n",
    "    print('택시를 탄다.')\n",
    "else:\n",
    "    print('버스를 탄다.')"
   ]
  },
  {
   "cell_type": "code",
   "execution_count": 8,
   "metadata": {},
   "outputs": [
    {
     "name": "stdout",
     "output_type": "stream",
     "text": [
      "정수 입력 >> 30\n",
      "3과 5의 배수입니다.\n"
     ]
    }
   ],
   "source": [
    "num = int(input(\"정수 입력 >> \"))\n",
    "if num%3 == 0 and num%5 == 0:\n",
    "    print(\"3과 5의 배수입니다.\")\n",
    "else:\n",
    "    print(\"3과 5의 배수가 아닙니다.\")"
   ]
  },
  {
   "cell_type": "code",
   "execution_count": null,
   "metadata": {},
   "outputs": [],
   "source": [
    "#elif문\n",
    "if 조건식1:\n",
    "    print('실행문장1')\n",
    "elif 조건식2:\n",
    "    print('실행문장2')\n",
    "else :\n",
    "    print('실행문장3')"
   ]
  },
  {
   "cell_type": "code",
   "execution_count": 10,
   "metadata": {},
   "outputs": [
    {
     "name": "stdout",
     "output_type": "stream",
     "text": [
      "첫 번째 정수 입력 >> 40\n",
      "두 번째 정수 입력 >> 40\n",
      "두 수가 똑같습니다.\n"
     ]
    }
   ],
   "source": [
    "num1 = int(input(\"첫 번째 정수 입력 >> \"))\n",
    "num2 = int(input(\"두 번째 정수 입력 >> \"))\n",
    "\n",
    "if num1 > num2 :\n",
    "    print(\"첫 번째 정수가 더 큽니다.\")\n",
    "elif num1 < num2 :\n",
    "    print(\"두 번째 정수가 더 큽니다.\")\n",
    "else:\n",
    "    print(\"두 수가 똑같습니다.\")"
   ]
  },
  {
   "cell_type": "code",
   "execution_count": 15,
   "metadata": {},
   "outputs": [
    {
     "name": "stdout",
     "output_type": "stream",
     "text": [
      "점수 입력 >> 89\n",
      "89점은 B학점 입니다.\n"
     ]
    }
   ],
   "source": [
    "score = int(input(\"점수 입력 >> \"))\n",
    "grade = ''\n",
    "\n",
    "if 90<=score<=100:\n",
    "    grade = 'A'\n",
    "elif 80<=score:\n",
    "    grade = 'B'\n",
    "elif 70<=score:\n",
    "    grade = 'C'\n",
    "elif 60<=score:\n",
    "    grade = 'D'\n",
    "else:\n",
    "    grade = 'F'\n",
    "    \n",
    "print(\"{}점은 {}학점 입니다.\".format(score,grade))\n"
   ]
  },
  {
   "cell_type": "markdown",
   "metadata": {},
   "source": [
    "## 선물세트 가격 계산 프로그램\n",
    "- 선물세트 한 개 가격 10000원\n",
    "- 사용자가 구매할 개수를 입력 -> 예상 금액 출력\n",
    "- 11개 이상 구매할 때 원가의 10% 할인\n",
    "- 10개씩 세트로 구매시 원가의 3% 할인"
   ]
  },
  {
   "cell_type": "code",
   "execution_count": 23,
   "metadata": {},
   "outputs": [
    {
     "name": "stdout",
     "output_type": "stream",
     "text": [
      "선물을 구매할 개수 >> 20\n",
      "20개 구매시 예상 금액: 174000원\n"
     ]
    }
   ],
   "source": [
    "gift = 10000\n",
    "num = int(input(\"선물을 구매할 개수 >> \"))\n",
    "price = num*gift\n",
    "if num >= 11 and num%10==0:\n",
    "    price = price*0.87\n",
    "    \n",
    "elif num%10 == 0:\n",
    "    price = price*0.97\n",
    "    \n",
    "elif num >= 11:\n",
    "    price = price*0.9\n",
    "    \n",
    "print(\"{}개 구매시 예상 금액: {}원\".format(num, int(price)))"
   ]
  },
  {
   "cell_type": "markdown",
   "metadata": {},
   "source": [
    "### 자판기 프로그램\n",
    "- 사용자가 금액을 입력한다.\n",
    "- 자판기 메뉴가 출력되면 원하는 음료를 선택한다.\n",
    "- 계산후 잔액을 출력한다."
   ]
  },
  {
   "cell_type": "code",
   "execution_count": 2,
   "metadata": {
    "scrolled": true
   },
   "outputs": [
    {
     "name": "stdout",
     "output_type": "stream",
     "text": [
      "----- [SM Coffee] -----\n",
      "금액을 입력하세요 >> 10000\n",
      "커피를 고르세요\n",
      "[1]에스프레소(600원) [2]아메리카노(10000원) [3]카페라떼(1300원) >> 2\n",
      "거스름돈: 9000원\n",
      "거스름돈을 반환하겠습니까?? [1]YES [2]NO >> 2\n",
      "커피를 고르세요\n",
      "[1]에스프레소(600원) [2]아메리카노(10000원) [3]카페라떼(1300원) >> 3\n",
      "거스름돈: 7700원\n",
      "거스름돈을 반환하겠습니까?? [1]YES [2]NO >> 2\n",
      "커피를 고르세요\n",
      "[1]에스프레소(600원) [2]아메리카노(10000원) [3]카페라떼(1300원) >> 3\n",
      "거스름돈: 6400원\n",
      "거스름돈을 반환하겠습니까?? [1]YES [2]NO >> 1\n",
      "천원: 6장\n",
      "오백원: 0개\n",
      "백원: 4개\n"
     ]
    }
   ],
   "source": [
    "print('-'*5,\"[SM Coffee]\",'-'*5)\n",
    "price = int(input(\"금액을 입력하세요 >> \"))\n",
    "change = price\n",
    "#choice = int(input(\"커피를 고르세요\\n[1]에스프레소(600원) [2]아메리카노(10000원) [3]카페라떼(1300원) >> \"))\n",
    "menu_price = [600, 1000, 1300]\n",
    "\n",
    "while price > menu_price[0]:\n",
    "    choice = int(input(\"커피를 고르세요\\n[1]에스프레소(600원) [2]아메리카노(10000원) [3]카페라떼(1300원) >> \"))\n",
    "    if choice > 3 or choice <1:\n",
    "        print(\"잘못 선택하셨습니다!\")\n",
    "    else:\n",
    "        if price < menu_price[choice-1]:\n",
    "            print('잔액이 부족합니다!')\n",
    "        else:\n",
    "            price = price - menu_price[choice-1]\n",
    "    print(\"거스름돈: {}원\".format(price))\n",
    "    ch = int(input(\"거스름돈을 반환하겠습니까?? [1]YES [2]NO >> \"))\n",
    "    if ch == 1 :\n",
    "        break\n",
    "m1000 = price//1000\n",
    "price%= 1000\n",
    "m500 = price//500\n",
    "price%= 500\n",
    "m100 = price//100\n",
    "print(\"천원: {}장\".format(m1000))\n",
    "print(\"오백원: {}개\".format(m500))\n",
    "print(\"백원: {}개\".format(m100)) \n",
    "\n",
    "\n",
    "\n",
    "\n",
    "#if choice ==1:\n",
    "#    if price < 600:\n",
    "#        print('잔액이 부족합니다!')\n",
    "#    else:\n",
    "#        change = price - 600\n",
    "#elif choice == 2:\n",
    "#    if price < 1000:\n",
    "#        print('잔액이 부족합니다!')\n",
    "#    else:\n",
    "#        change = price - 1000\n",
    "#elif choice == 3:\n",
    "#    if price < 1300:\n",
    "#        print('잔액이 부족합니다!')\n",
    "#    else:\n",
    "#        change = price - 1300\n",
    "#else:\n",
    "#    print('잘못 선택하셨습니다!')"
   ]
  },
  {
   "cell_type": "code",
   "execution_count": 15,
   "metadata": {},
   "outputs": [
    {
     "name": "stdout",
     "output_type": "stream",
     "text": [
      "----- [SM Coffee] -----\n",
      "금액을 입력하세요 >> 2500\n",
      "커피를 고르세요\n",
      "[1]에스프레소(600원) [2]아메리카노(10000원) [3]카페라떼(1300원) >> 1\n",
      "거스름돈: 1900원\n",
      "천원: 1장\n",
      "오백원: 1개\n",
      "백원: 4개\n"
     ]
    }
   ],
   "source": [
    "print('-'*5,\"[SM Coffee]\",'-'*5)\n",
    "\n",
    "price = int(input(\"금액을 입력하세요 >> \"))\n",
    "choice = int(input(\"커피를 고르세요\\n[1]에스프레소(600원) [2]아메리카노(10000원) [3]카페라떼(1300원) >> \"))\n",
    "menu_price = [600, 1000, 1300]\n",
    "\n",
    "\n",
    "if choice > 3 or choice <1:\n",
    "    print(\"잘못 선택하셨습니다!\")\n",
    "else:\n",
    "    if price < menu_price[choice-1]:\n",
    "        print('잔액이 부족합니다!')\n",
    "        print(\"거스름돈: {}원\".format(price))\n",
    "    else:\n",
    "        price = price - menu_price[choice-1]\n",
    "        print(\"거스름돈: {}원\".format(price))\n",
    "        m1000 = price//1000\n",
    "        price%= 1000\n",
    "        m500 = price//500\n",
    "        price%= 500\n",
    "        m100 = price//100\n",
    "        print(\"천원: {}장\".format(m1000))\n",
    "        print(\"오백원: {}개\".format(m500))\n",
    "        print(\"백원: {}개\".format(m100))\n",
    "\n",
    "\n",
    "#if price//1000 >= 1:\n",
    "#    print(\"천원: {}장\".format(price//1000))\n",
    "#    change = price - (price//1000)*1000\n",
    "#if change//500 >= 1:\n",
    "#    print(\"오백원: {}개\".format(change//500))\n",
    "#    change = change - (change//500)*500\n",
    "#print(\"백원 : {}개\".format(change//100))"
   ]
  }
 ],
 "metadata": {
  "kernelspec": {
   "display_name": "Python 3",
   "language": "python",
   "name": "python3"
  },
  "language_info": {
   "codemirror_mode": {
    "name": "ipython",
    "version": 3
   },
   "file_extension": ".py",
   "mimetype": "text/x-python",
   "name": "python",
   "nbconvert_exporter": "python",
   "pygments_lexer": "ipython3",
   "version": "3.8.5"
  }
 },
 "nbformat": 4,
 "nbformat_minor": 4
}
