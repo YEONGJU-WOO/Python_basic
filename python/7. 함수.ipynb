{
 "cells": [
  {
   "cell_type": "markdown",
   "metadata": {},
   "source": [
    "### 함수\n",
    "1. 함수기본구조\n",
    "2. 함수 예제\n",
    "3. docstring 사용\n",
    "4. 가변매개변수\n",
    "5. return 키워드\n",
    "6. 매개변수 기본값 설정"
   ]
  },
  {
   "cell_type": "markdown",
   "metadata": {},
   "source": [
    "### 함수 기본구조\n",
    "\n",
    "def 함수이름 (매개변수):\n",
    "    실행문\n",
    "    return 결과값"
   ]
  },
  {
   "cell_type": "code",
   "execution_count": 1,
   "metadata": {},
   "outputs": [],
   "source": [
    "def number_sum (num1, num2):\n",
    "    result = num1+num2\n",
    "    return result"
   ]
  },
  {
   "cell_type": "code",
   "execution_count": 2,
   "metadata": {},
   "outputs": [
    {
     "name": "stdout",
     "output_type": "stream",
     "text": [
      "30\n"
     ]
    }
   ],
   "source": [
    "num = number_sum(10,20)\n",
    "print(num)"
   ]
  },
  {
   "cell_type": "code",
   "execution_count": 3,
   "metadata": {},
   "outputs": [
    {
     "name": "stdout",
     "output_type": "stream",
     "text": [
      "9\n"
     ]
    }
   ],
   "source": [
    "print(number_sum(2,7))"
   ]
  },
  {
   "cell_type": "code",
   "execution_count": 4,
   "metadata": {},
   "outputs": [],
   "source": [
    "def LargerNumber (num1, num2):\n",
    "    if num1 > num2 :\n",
    "        return num1\n",
    "    elif num1 < num2:\n",
    "        return num2\n",
    "    else:\n",
    "        return 0"
   ]
  },
  {
   "cell_type": "code",
   "execution_count": 7,
   "metadata": {},
   "outputs": [
    {
     "name": "stdout",
     "output_type": "stream",
     "text": [
      "첫 번째 정수 입력 :4\n",
      "두 번째 정수 입력 :9\n",
      "큰 수 확인: 9\n"
     ]
    }
   ],
   "source": [
    "num1 = int(input('첫 번째 정수 입력 :'))\n",
    "num2 = int(input('두 번째 정수 입력 :'))\n",
    "result = LargerNumber(num1,num2)\n",
    "print(\"큰 수 확인: %d\"%result)"
   ]
  },
  {
   "cell_type": "code",
   "execution_count": 12,
   "metadata": {},
   "outputs": [],
   "source": [
    "def cal(x,y,op):\n",
    "    \"\"\"덧셈과 뺄셈을 연산하는 함수\"\"\"\n",
    "    if op == '+':\n",
    "        return x+y\n",
    "    elif op == '-':\n",
    "        return x-y"
   ]
  },
  {
   "cell_type": "code",
   "execution_count": 11,
   "metadata": {},
   "outputs": [
    {
     "name": "stdout",
     "output_type": "stream",
     "text": [
      "첫 번째 정수 입력 :5\n",
      "두 번째 정수 입력 :3\n",
      "연산자 입력(+,-) : -\n",
      "결과: 2\n"
     ]
    }
   ],
   "source": [
    "num1 = int(input('첫 번째 정수 입력 :'))\n",
    "num2 = int(input('두 번째 정수 입력 :'))\n",
    "op = input(\"연산자 입력(+,-) : \")\n",
    "result = cal(num1,num2,op)\n",
    "print(\"결과: {}\".format(result))"
   ]
  },
  {
   "cell_type": "code",
   "execution_count": 30,
   "metadata": {},
   "outputs": [],
   "source": [
    "# 가변 매개변수\n",
    "def add(*args):\n",
    "    sum_ = 0\n",
    "    for i in args:\n",
    "        sum_ += i\n",
    "    return sum_"
   ]
  },
  {
   "cell_type": "code",
   "execution_count": 31,
   "metadata": {},
   "outputs": [
    {
     "name": "stdout",
     "output_type": "stream",
     "text": [
      "55\n",
      "24\n"
     ]
    }
   ],
   "source": [
    "print(add(1,2,3,4,5,6,7,8,9,10))\n",
    "print(add(7,8,9))"
   ]
  },
  {
   "cell_type": "code",
   "execution_count": 20,
   "metadata": {},
   "outputs": [],
   "source": [
    "t1 = ()\n",
    "t2 = 1,2,3\n",
    "t3 = 3,"
   ]
  },
  {
   "cell_type": "code",
   "execution_count": 21,
   "metadata": {},
   "outputs": [
    {
     "data": {
      "text/plain": [
       "(3,)"
      ]
     },
     "execution_count": 21,
     "metadata": {},
     "output_type": "execute_result"
    }
   ],
   "source": [
    "t3"
   ]
  },
  {
   "cell_type": "code",
   "execution_count": 32,
   "metadata": {},
   "outputs": [],
   "source": [
    "def test():\n",
    "    num1 = 10\n",
    "    num2 = 20\n",
    "    return num1, num2"
   ]
  },
  {
   "cell_type": "code",
   "execution_count": 33,
   "metadata": {},
   "outputs": [],
   "source": [
    "n1, n2 = test()"
   ]
  },
  {
   "cell_type": "code",
   "execution_count": 34,
   "metadata": {},
   "outputs": [
    {
     "name": "stdout",
     "output_type": "stream",
     "text": [
      "10 20\n"
     ]
    }
   ],
   "source": [
    "print(n1,n2)"
   ]
  },
  {
   "cell_type": "code",
   "execution_count": 35,
   "metadata": {},
   "outputs": [],
   "source": [
    "def power_of_N(num, power=2):\n",
    "    return num**power"
   ]
  },
  {
   "cell_type": "code",
   "execution_count": 38,
   "metadata": {},
   "outputs": [
    {
     "name": "stdout",
     "output_type": "stream",
     "text": [
      "27\n",
      "16\n"
     ]
    }
   ],
   "source": [
    "print(power_of_N(3,3))\n",
    "print(power_of_N(4))"
   ]
  },
  {
   "cell_type": "code",
   "execution_count": null,
   "metadata": {},
   "outputs": [],
   "source": []
  }
 ],
 "metadata": {
  "kernelspec": {
   "display_name": "Python 3",
   "language": "python",
   "name": "python3"
  },
  "language_info": {
   "codemirror_mode": {
    "name": "ipython",
    "version": 3
   },
   "file_extension": ".py",
   "mimetype": "text/x-python",
   "name": "python",
   "nbconvert_exporter": "python",
   "pygments_lexer": "ipython3",
   "version": "3.8.5"
  }
 },
 "nbformat": 4,
 "nbformat_minor": 4
}
